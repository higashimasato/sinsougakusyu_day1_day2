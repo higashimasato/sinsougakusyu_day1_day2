{
  "nbformat": 4,
  "nbformat_minor": 0,
  "metadata": {
    "colab": {
      "name": "Section2_学習率最適化手法.ipynb",
      "provenance": [],
      "collapsed_sections": []
    },
    "kernelspec": {
      "name": "python3",
      "display_name": "Python 3"
    },
    "language_info": {
      "name": "python"
    }
  },
  "cells": [
    {
      "cell_type": "markdown",
      "metadata": {
        "id": "b4KvH_Yc3SN9"
      },
      "source": [
        "# *1．要点*"
      ]
    },
    {
      "cell_type": "markdown",
      "metadata": {
        "id": "uJ4ju6L3S5rq"
      },
      "source": [
        "●学習率の決め方　\n",
        "\n",
        "・初期の学習率設定方法の方針\n",
        "\n",
        "　　→　初期の学習率を大きく設定し徐々に学習率を小さくしていく\n",
        "\n",
        "　　→　パラメータごとにが悪臭率を可変させる\n",
        "\n",
        "※　**学習率最適化手法を利用して学習率を最適化**\n",
        "\n",
        "●学習率最適化手法\n",
        "\n",
        "①モメンタム　　②AdaGrad　　③RMSProp　　④Adam"
      ]
    },
    {
      "cell_type": "markdown",
      "metadata": {
        "id": "x-5uj_HUAQv8"
      },
      "source": [
        "**①モメンタム**　：誤差をパラメータで微分したものと学習率を減算した後、現在の重みに前回の重みを減算した値と完成の積を加算する\n",
        "\n",
        "【モメンタムの更新式】\n",
        "\n",
        "$V_t = \\mu V_{t-1} - \\epsilon \\nabla E$\n",
        "\n",
        "$w^{t+1} = w^t + V_t \\;\\;\\; \\mu : 慣性$ "
      ]
    },
    {
      "cell_type": "markdown",
      "metadata": {
        "id": "7F3PIOBTBmUI"
      },
      "source": [
        "　【勾配降下法の更新式】\n",
        "\n",
        "　誤差をパラメータで微分したものと学習率の積を減算する\n",
        "\n",
        "$w^{t + 1} = w^t - \\epsilon \\nabla E$\n",
        "\n",
        "\n",
        "\n"
      ]
    },
    {
      "cell_type": "markdown",
      "metadata": {
        "id": "jBok9SJnCS7S"
      },
      "source": [
        "※モメンタムのメリット：局所的最適解にはならず大域的最適解となる。谷間についてから最適値に行くまでの時間が早い"
      ]
    },
    {
      "cell_type": "markdown",
      "metadata": {
        "id": "-SD3b-3tDpOg"
      },
      "source": [
        "【数式とコード】\n",
        "\n",
        "\n",
        "$V_t = \\mu V_{t-1} - \\epsilon \\nabla E$\n",
        "\n",
        "self.v[key] = self.momentum * self.v[key] - self.learning_rate * grad[key]\n",
        "\n",
        "$w^{t+1} = w^t + V_t \\;\\;\\; \\mu : 慣性$ \n",
        "\n",
        "params[key] += self.v[key]"
      ]
    },
    {
      "cell_type": "markdown",
      "metadata": {
        "id": "CND8mwyZmicS"
      },
      "source": [
        "**②AdaGrad：誤差をパラメータで微分したものと再定義した学習率の積を減算する**\n",
        "\n",
        "【AdaGradの更新式】\n",
        "\n",
        "$h_0 = θ$\n",
        "\n",
        "$h_t = h_{t-1} + (\\nabla E)^2$\n",
        "\n",
        "$\\displaystyle w^{t+1} = w^t - \\epsilon \\frac{1}{\\sqrt{h_t} + θ}\\nabla E$"
      ]
    },
    {
      "cell_type": "markdown",
      "metadata": {
        "id": "PAzMPKNDn9gH"
      },
      "source": [
        "AdaGradのメリット：勾配の緩やかな斜面に対して、最適値に近づける\n",
        "\n",
        "課題：学習率が徐々に小さくなるので**鞍点問題**を引き起こすことがある\n",
        "\n",
        "【数式とコード】\n",
        "\n",
        "$h_0 = θ$\n",
        "\n",
        "self.h[key] = np.zeros_like(val)\n",
        "\n",
        "\n",
        "$h_t = h_{t-1} + (\\nabla E)^2$\n",
        "\n",
        "self.h[key] += grad[key] * grad[key]\n",
        "\n",
        "$\\displaystyle w^{t+1} = w^t - \\epsilon \\frac{1}{\\sqrt{h_t} + θ}\\nabla E$\n",
        "\n",
        "params[key] -= self.learning_rate * grad[key] / (np.sqrt[self.h[key] + 1e-7])"
      ]
    },
    {
      "cell_type": "markdown",
      "metadata": {
        "id": "MsxHGtA2DG8U"
      },
      "source": [
        "**③RMSProp：誤差をパラメータで微分したものと再定義した学習率の積を減算する**\n",
        "\n",
        "$\n",
        "h_t = \\alpha h_{t-1} + (1 - \\alpha)(\\nabla E)^2\n",
        "$\n",
        "\n",
        "$\n",
        "\\displaystyle w^{t+1} = w^t - \\epsilon \\frac{1}{\\sqrt{h_t} + \\theta} \\nabla E\n",
        "$"
      ]
    },
    {
      "cell_type": "markdown",
      "metadata": {
        "id": "uLmy5ogAE1cW"
      },
      "source": [
        "RMSProp のメリット：局所的最適解にはならず、大域的最適解となる(AdaGradで生じ得る鞍点問題を解決)\n",
        "\n",
        "\n",
        "　　　　　　　　　　ハイパーパラメータの調整が必要な場合が少ない"
      ]
    },
    {
      "cell_type": "markdown",
      "metadata": {
        "id": "R29U6_E3Fei3"
      },
      "source": [
        "　　【数式とコード】\n",
        "\n",
        "\n",
        "$\n",
        "h_t = \\alpha h_{t-1} + (1 - \\alpha)(\\nabla E)^2\n",
        "$\n",
        "\n",
        "self.h[key] *= self.decay_rate\n",
        "\n",
        "self.h[]key += (1-self.decay_rate) * grad[key] * grad[key]\n"
      ]
    },
    {
      "cell_type": "markdown",
      "metadata": {
        "id": "Yv912CDiGIWr"
      },
      "source": [
        "$\n",
        "\\displaystyle w^{t+1} = w^t - \\epsilon \\frac{1}{\\sqrt{h_t} + \\theta} \\nabla E\n",
        "$\n",
        "\n",
        "params[key] -= self.learning_rate * grad[key] / (np.sqrt(self.h[key]) + 1e-7) "
      ]
    },
    {
      "cell_type": "markdown",
      "metadata": {
        "id": "hSOBi2h9sAVx"
      },
      "source": [
        "**④Adam：モメンタムの過去の勾配の指数関数的減衰平均，RMSPropの過去の勾配の2乗の指数関数的減衰平均を孕んだ最適化アルゴリズム**\n",
        "\n",
        "Adamのメリット：モメンタムおよびRMSPropのメリットを孕んだアルゴルズム"
      ]
    },
    {
      "cell_type": "markdown",
      "metadata": {
        "id": "HA9lw4WG3cpe"
      },
      "source": [
        "# *2．確認テスト*"
      ]
    },
    {
      "cell_type": "markdown",
      "metadata": {
        "id": "o9ZRVEj2mYMV"
      },
      "source": [
        "**確認テスト　モメンタム・AdaGrad・RMSPropの特徴をそれぞれ簡潔に説明せよ**"
      ]
    },
    {
      "cell_type": "markdown",
      "metadata": {
        "id": "iVF1hEstmgtC"
      },
      "source": [
        "**解答**　\n",
        "\n",
        "①モメンタム　：誤差をパラメータで微分したものと学習率を減算した後、現在の重みに前回の重みを減算した値と完成の積を加算する．\n",
        "\n",
        "メリット：局所的最適解にはならず大域的最適解となる。谷間についてから最適値に行くまでの時間が早い\n",
        "\n",
        "【モメンタムの更新式】\n",
        "\n",
        "$V_t = \\mu V_{t-1} - \\epsilon \\nabla E$\n",
        "\n",
        "$w^{t+1} = w^t + V_t \\;\\;\\; \\mu : 慣性$ "
      ]
    },
    {
      "cell_type": "markdown",
      "metadata": {
        "id": "X2ZdZGiiC_SE"
      },
      "source": [
        "②AdaGrad：誤差をパラメータで微分したものと再定義した学習率の積を減算する．メリットは勾配の緩やかな斜面に対して、最適値に近づける\n",
        "\n",
        "課題：学習率が徐々に小さくなるので鞍点問題を引き起こすことがある\n",
        "\n",
        "【AdaGradの更新式】\n",
        "\n",
        "$h_0 = θ$\n",
        "\n",
        "$h_t = h_{t-1} + (\\nabla E)^2$\n",
        "\n",
        "$\\displaystyle w^{t+1} = w^t - \\epsilon \\frac{1}{\\sqrt{h_t} + θ}\\nabla E$"
      ]
    },
    {
      "cell_type": "markdown",
      "metadata": {
        "id": "WuE6XfZNDYqD"
      },
      "source": [
        "③RMSProp：誤差をパラメータで微分したものと再定義した学習率の積を減算する．メリットは局所的最適解にはならず、大域的最適解となる(AdaGradで生じ得る鞍点問題を解決)\n",
        "\n",
        "\n",
        "　　　　　　　　　　ハイパーパラメータの調整が必要な場合が少ない\n",
        "\n",
        "$\n",
        "h_t = \\alpha h_{t-1} + (1 - \\alpha)(\\nabla E)^2\n",
        "$\n",
        "\n",
        "$\n",
        "\\displaystyle w^{t+1} = w^t - \\epsilon \\frac{1}{\\sqrt{h_t} + \\theta} \\nabla E\n",
        "$"
      ]
    },
    {
      "cell_type": "markdown",
      "metadata": {
        "id": "8cNl2QA_Rnv5"
      },
      "source": [
        "# *3．実装演習*"
      ]
    },
    {
      "cell_type": "markdown",
      "metadata": {
        "id": "ZJGcuWGv3lQQ"
      },
      "source": [
        "# *準備*"
      ]
    },
    {
      "cell_type": "markdown",
      "metadata": {
        "id": "YkwjN1jNVAYy"
      },
      "source": [
        "## Googleドライブのマウント"
      ]
    },
    {
      "cell_type": "code",
      "metadata": {
        "id": "pvFXpiH3EVC1",
        "colab": {
          "base_uri": "https://localhost:8080/"
        },
        "outputId": "9f57a326-2483-4bd0-ba73-c7bf00eea499"
      },
      "source": [
        "from google.colab import drive\n",
        "drive.mount('/content/drive')"
      ],
      "execution_count": null,
      "outputs": [
        {
          "output_type": "stream",
          "name": "stdout",
          "text": [
            "Mounted at /content/drive\n"
          ]
        }
      ]
    },
    {
      "cell_type": "markdown",
      "metadata": {
        "id": "3Ub7RYdeY6pK"
      },
      "source": [
        "## sys.pathの設定"
      ]
    },
    {
      "cell_type": "code",
      "metadata": {
        "id": "7Ic2JzkvFX59"
      },
      "source": [
        "import sys\n",
        "sys.path.append('/content/drive/MyDrive/E/stage3/DNN_code_colab_lesson_1_2')\n",
        "sys.path.append('/content/drive/MyDrive/E/stage3/DNN_code_colab_lesson_1_2/lesson_2')"
      ],
      "execution_count": null,
      "outputs": []
    },
    {
      "cell_type": "markdown",
      "metadata": {
        "id": "n53jI-IxvLSJ"
      },
      "source": [
        "# optimizer"
      ]
    },
    {
      "cell_type": "markdown",
      "metadata": {
        "id": "S2rtO935vTLI"
      },
      "source": [
        "## SDG"
      ]
    },
    {
      "cell_type": "code",
      "metadata": {
        "id": "ZFO1kLh2u6Ni"
      },
      "source": [
        "import sys, os\n",
        "sys.path.append(os.pardir)  #親ディレクトリのファイルをインポートするための設定\n",
        "import numpy as np\n",
        "from collections import OrderedDict #コンテナデータ型　OrderDict:項目が追加された順序を記憶する辞書のサブクラス\n",
        "from common import layers         #fail\n",
        "from data.mnist import load_mnist #fail\n",
        "import matplotlib.pyplot as plt\n",
        "from multi_layer_net import MultiLayerNet #faile #path:DNN_code_colab_lesson_1_2/lesson_2\n"
      ],
      "execution_count": null,
      "outputs": []
    },
    {
      "cell_type": "code",
      "metadata": {
        "colab": {
          "base_uri": "https://localhost:8080/"
        },
        "id": "SGAyzZxEymPo",
        "outputId": "4d4b3756-bed5-4a70-ee67-85ce22a7005a"
      },
      "source": [
        "#データの読み込み\n",
        "(x_train, d_train), (x_test, d_test) = load_mnist(normalize=True, one_hot_label=True)\n",
        "\n",
        "print(\"データ読込み完了\")"
      ],
      "execution_count": null,
      "outputs": [
        {
          "output_type": "stream",
          "name": "stdout",
          "text": [
            "データ読込み完了\n"
          ]
        }
      ]
    },
    {
      "cell_type": "code",
      "metadata": {
        "id": "o9MBfS0J0nb_"
      },
      "source": [
        "x_train[0], d_train[0] #確認"
      ],
      "execution_count": null,
      "outputs": []
    },
    {
      "cell_type": "code",
      "metadata": {
        "id": "GpW-XKEN0uA4"
      },
      "source": [
        "#batch_normalizationの設定**********\n",
        "# use_batchnorm = True\n",
        "use_batchnorm = False\n",
        "#***********************************"
      ],
      "execution_count": null,
      "outputs": []
    },
    {
      "cell_type": "code",
      "metadata": {
        "id": "ykYzS-Rh1VF9"
      },
      "source": [
        "network = MultiLayerNet(input_size=784, hidden_size_list=[40, 20], output_size=10, activation='sigmoid', weight_init_std=0.01, use_batchnorm=use_batchnorm)"
      ],
      "execution_count": null,
      "outputs": []
    },
    {
      "cell_type": "code",
      "metadata": {
        "id": "hXYV1To22DfG"
      },
      "source": [
        "iters_num = 1000\n",
        "train_size = x_train.shape[0]\n",
        "batch_size = 100\n",
        "learning_rate = 0.01\n",
        "\n",
        "train_loss_list = []\n",
        "accuracies_train = []\n",
        "accuracies_test = []\n",
        "\n",
        "plot_interval=10"
      ],
      "execution_count": null,
      "outputs": []
    },
    {
      "cell_type": "code",
      "metadata": {
        "colab": {
          "base_uri": "https://localhost:8080/"
        },
        "id": "sDziUIh62ScU",
        "outputId": "70459e17-fe31-40e1-ce3e-5a259398d4c2"
      },
      "source": [
        "for i in range(iters_num):\n",
        "    batch_mask = np.random.choice(train_size, batch_size)\n",
        "    x_batch = x_train[batch_mask]\n",
        "    d_batch = d_train[batch_mask]\n",
        "\n",
        "    # 勾配\n",
        "    grad = network.gradient(x_batch, d_batch)\n",
        "    \n",
        "    for key in ('W1', 'W2', 'W3', 'b1', 'b2', 'b3'):\n",
        "        network.params[key] -= learning_rate * grad[key]\n",
        "        \n",
        "        loss = network.loss(x_batch, d_batch)\n",
        "        train_loss_list.append(loss)\n",
        "    \n",
        "    \n",
        "    if (i + 1) % plot_interval == 0:\n",
        "        accr_test = network.accuracy(x_test, d_test)\n",
        "        accuracies_test.append(accr_test)        \n",
        "        accr_train = network.accuracy(x_batch, d_batch)\n",
        "        accuracies_train.append(accr_train)\n",
        "        \n",
        "        print('Generation: ' + str(i+1) + '. 正答率(トレーニング) = ' + str(accr_train))\n",
        "        print('                : ' + str(i+1) + '. 正答率(テスト) = ' + str(accr_test))\n",
        "\n",
        "        "
      ],
      "execution_count": null,
      "outputs": [
        {
          "output_type": "stream",
          "name": "stdout",
          "text": [
            "Generation: 10. 正答率(トレーニング) = 0.08\n",
            "                : 10. 正答率(テスト) = 0.098\n",
            "Generation: 20. 正答率(トレーニング) = 0.08\n",
            "                : 20. 正答率(テスト) = 0.098\n",
            "Generation: 30. 正答率(トレーニング) = 0.03\n",
            "                : 30. 正答率(テスト) = 0.098\n",
            "Generation: 40. 正答率(トレーニング) = 0.12\n",
            "                : 40. 正答率(テスト) = 0.098\n",
            "Generation: 50. 正答率(トレーニング) = 0.12\n",
            "                : 50. 正答率(テスト) = 0.098\n",
            "Generation: 60. 正答率(トレーニング) = 0.09\n",
            "                : 60. 正答率(テスト) = 0.098\n",
            "Generation: 70. 正答率(トレーニング) = 0.1\n",
            "                : 70. 正答率(テスト) = 0.098\n",
            "Generation: 80. 正答率(トレーニング) = 0.15\n",
            "                : 80. 正答率(テスト) = 0.0958\n",
            "Generation: 90. 正答率(トレーニング) = 0.15\n",
            "                : 90. 正答率(テスト) = 0.1028\n",
            "Generation: 100. 正答率(トレーニング) = 0.08\n",
            "                : 100. 正答率(テスト) = 0.1028\n",
            "Generation: 110. 正答率(トレーニング) = 0.09\n",
            "                : 110. 正答率(テスト) = 0.1028\n",
            "Generation: 120. 正答率(トレーニング) = 0.08\n",
            "                : 120. 正答率(テスト) = 0.1028\n",
            "Generation: 130. 正答率(トレーニング) = 0.09\n",
            "                : 130. 正答率(テスト) = 0.1135\n",
            "Generation: 140. 正答率(トレーニング) = 0.14\n",
            "                : 140. 正答率(テスト) = 0.1135\n",
            "Generation: 150. 正答率(トレーニング) = 0.15\n",
            "                : 150. 正答率(テスト) = 0.1135\n",
            "Generation: 160. 正答率(トレーニング) = 0.14\n",
            "                : 160. 正答率(テスト) = 0.1135\n",
            "Generation: 170. 正答率(トレーニング) = 0.14\n",
            "                : 170. 正答率(テスト) = 0.1135\n",
            "Generation: 180. 正答率(トレーニング) = 0.11\n",
            "                : 180. 正答率(テスト) = 0.1135\n",
            "Generation: 190. 正答率(トレーニング) = 0.16\n",
            "                : 190. 正答率(テスト) = 0.1135\n",
            "Generation: 200. 正答率(トレーニング) = 0.1\n",
            "                : 200. 正答率(テスト) = 0.1135\n",
            "Generation: 210. 正答率(トレーニング) = 0.11\n",
            "                : 210. 正答率(テスト) = 0.1135\n",
            "Generation: 220. 正答率(トレーニング) = 0.12\n",
            "                : 220. 正答率(テスト) = 0.1135\n",
            "Generation: 230. 正答率(トレーニング) = 0.06\n",
            "                : 230. 正答率(テスト) = 0.1135\n",
            "Generation: 240. 正答率(トレーニング) = 0.19\n",
            "                : 240. 正答率(テスト) = 0.1135\n",
            "Generation: 250. 正答率(トレーニング) = 0.09\n",
            "                : 250. 正答率(テスト) = 0.1135\n",
            "Generation: 260. 正答率(トレーニング) = 0.15\n",
            "                : 260. 正答率(テスト) = 0.1135\n",
            "Generation: 270. 正答率(トレーニング) = 0.11\n",
            "                : 270. 正答率(テスト) = 0.1135\n",
            "Generation: 280. 正答率(トレーニング) = 0.13\n",
            "                : 280. 正答率(テスト) = 0.1135\n",
            "Generation: 290. 正答率(トレーニング) = 0.04\n",
            "                : 290. 正答率(テスト) = 0.1135\n",
            "Generation: 300. 正答率(トレーニング) = 0.1\n",
            "                : 300. 正答率(テスト) = 0.1135\n",
            "Generation: 310. 正答率(トレーニング) = 0.11\n",
            "                : 310. 正答率(テスト) = 0.1135\n",
            "Generation: 320. 正答率(トレーニング) = 0.15\n",
            "                : 320. 正答率(テスト) = 0.1135\n",
            "Generation: 330. 正答率(トレーニング) = 0.12\n",
            "                : 330. 正答率(テスト) = 0.1135\n",
            "Generation: 340. 正答率(トレーニング) = 0.12\n",
            "                : 340. 正答率(テスト) = 0.1135\n",
            "Generation: 350. 正答率(トレーニング) = 0.08\n",
            "                : 350. 正答率(テスト) = 0.1135\n",
            "Generation: 360. 正答率(トレーニング) = 0.08\n",
            "                : 360. 正答率(テスト) = 0.1135\n",
            "Generation: 370. 正答率(トレーニング) = 0.14\n",
            "                : 370. 正答率(テスト) = 0.1135\n",
            "Generation: 380. 正答率(トレーニング) = 0.1\n",
            "                : 380. 正答率(テスト) = 0.1135\n",
            "Generation: 390. 正答率(トレーニング) = 0.15\n",
            "                : 390. 正答率(テスト) = 0.1135\n",
            "Generation: 400. 正答率(トレーニング) = 0.11\n",
            "                : 400. 正答率(テスト) = 0.1135\n",
            "Generation: 410. 正答率(トレーニング) = 0.08\n",
            "                : 410. 正答率(テスト) = 0.1135\n",
            "Generation: 420. 正答率(トレーニング) = 0.14\n",
            "                : 420. 正答率(テスト) = 0.1135\n",
            "Generation: 430. 正答率(トレーニング) = 0.11\n",
            "                : 430. 正答率(テスト) = 0.1135\n",
            "Generation: 440. 正答率(トレーニング) = 0.14\n",
            "                : 440. 正答率(テスト) = 0.1135\n",
            "Generation: 450. 正答率(トレーニング) = 0.1\n",
            "                : 450. 正答率(テスト) = 0.1135\n",
            "Generation: 460. 正答率(トレーニング) = 0.17\n",
            "                : 460. 正答率(テスト) = 0.1135\n",
            "Generation: 470. 正答率(トレーニング) = 0.12\n",
            "                : 470. 正答率(テスト) = 0.1135\n",
            "Generation: 480. 正答率(トレーニング) = 0.15\n",
            "                : 480. 正答率(テスト) = 0.1135\n",
            "Generation: 490. 正答率(トレーニング) = 0.09\n",
            "                : 490. 正答率(テスト) = 0.1135\n",
            "Generation: 500. 正答率(トレーニング) = 0.1\n",
            "                : 500. 正答率(テスト) = 0.1135\n",
            "Generation: 510. 正答率(トレーニング) = 0.14\n",
            "                : 510. 正答率(テスト) = 0.1135\n",
            "Generation: 520. 正答率(トレーニング) = 0.15\n",
            "                : 520. 正答率(テスト) = 0.1135\n",
            "Generation: 530. 正答率(トレーニング) = 0.12\n",
            "                : 530. 正答率(テスト) = 0.1135\n",
            "Generation: 540. 正答率(トレーニング) = 0.13\n",
            "                : 540. 正答率(テスト) = 0.1135\n",
            "Generation: 550. 正答率(トレーニング) = 0.08\n",
            "                : 550. 正答率(テスト) = 0.1135\n",
            "Generation: 560. 正答率(トレーニング) = 0.06\n",
            "                : 560. 正答率(テスト) = 0.1135\n",
            "Generation: 570. 正答率(トレーニング) = 0.16\n",
            "                : 570. 正答率(テスト) = 0.1135\n",
            "Generation: 580. 正答率(トレーニング) = 0.12\n",
            "                : 580. 正答率(テスト) = 0.1135\n",
            "Generation: 590. 正答率(トレーニング) = 0.13\n",
            "                : 590. 正答率(テスト) = 0.1135\n",
            "Generation: 600. 正答率(トレーニング) = 0.1\n",
            "                : 600. 正答率(テスト) = 0.1135\n",
            "Generation: 610. 正答率(トレーニング) = 0.08\n",
            "                : 610. 正答率(テスト) = 0.1135\n",
            "Generation: 620. 正答率(トレーニング) = 0.08\n",
            "                : 620. 正答率(テスト) = 0.1135\n",
            "Generation: 630. 正答率(トレーニング) = 0.1\n",
            "                : 630. 正答率(テスト) = 0.1135\n",
            "Generation: 640. 正答率(トレーニング) = 0.07\n",
            "                : 640. 正答率(テスト) = 0.1135\n",
            "Generation: 650. 正答率(トレーニング) = 0.1\n",
            "                : 650. 正答率(テスト) = 0.1135\n",
            "Generation: 660. 正答率(トレーニング) = 0.1\n",
            "                : 660. 正答率(テスト) = 0.1135\n",
            "Generation: 670. 正答率(トレーニング) = 0.11\n",
            "                : 670. 正答率(テスト) = 0.1135\n",
            "Generation: 680. 正答率(トレーニング) = 0.12\n",
            "                : 680. 正答率(テスト) = 0.1135\n",
            "Generation: 690. 正答率(トレーニング) = 0.08\n",
            "                : 690. 正答率(テスト) = 0.1135\n",
            "Generation: 700. 正答率(トレーニング) = 0.11\n",
            "                : 700. 正答率(テスト) = 0.1135\n",
            "Generation: 710. 正答率(トレーニング) = 0.18\n",
            "                : 710. 正答率(テスト) = 0.1135\n",
            "Generation: 720. 正答率(トレーニング) = 0.11\n",
            "                : 720. 正答率(テスト) = 0.1135\n",
            "Generation: 730. 正答率(トレーニング) = 0.12\n",
            "                : 730. 正答率(テスト) = 0.1135\n",
            "Generation: 740. 正答率(トレーニング) = 0.09\n",
            "                : 740. 正答率(テスト) = 0.1135\n",
            "Generation: 750. 正答率(トレーニング) = 0.11\n",
            "                : 750. 正答率(テスト) = 0.1135\n",
            "Generation: 760. 正答率(トレーニング) = 0.09\n",
            "                : 760. 正答率(テスト) = 0.1135\n",
            "Generation: 770. 正答率(トレーニング) = 0.1\n",
            "                : 770. 正答率(テスト) = 0.1135\n",
            "Generation: 780. 正答率(トレーニング) = 0.09\n",
            "                : 780. 正答率(テスト) = 0.1135\n",
            "Generation: 790. 正答率(トレーニング) = 0.13\n",
            "                : 790. 正答率(テスト) = 0.1135\n",
            "Generation: 800. 正答率(トレーニング) = 0.13\n",
            "                : 800. 正答率(テスト) = 0.1135\n",
            "Generation: 810. 正答率(トレーニング) = 0.13\n",
            "                : 810. 正答率(テスト) = 0.1135\n",
            "Generation: 820. 正答率(トレーニング) = 0.14\n",
            "                : 820. 正答率(テスト) = 0.1135\n",
            "Generation: 830. 正答率(トレーニング) = 0.07\n",
            "                : 830. 正答率(テスト) = 0.1135\n",
            "Generation: 840. 正答率(トレーニング) = 0.09\n",
            "                : 840. 正答率(テスト) = 0.1135\n",
            "Generation: 850. 正答率(トレーニング) = 0.14\n",
            "                : 850. 正答率(テスト) = 0.1135\n",
            "Generation: 860. 正答率(トレーニング) = 0.09\n",
            "                : 860. 正答率(テスト) = 0.1135\n",
            "Generation: 870. 正答率(トレーニング) = 0.05\n",
            "                : 870. 正答率(テスト) = 0.1135\n",
            "Generation: 880. 正答率(トレーニング) = 0.11\n",
            "                : 880. 正答率(テスト) = 0.1135\n",
            "Generation: 890. 正答率(トレーニング) = 0.09\n",
            "                : 890. 正答率(テスト) = 0.1135\n",
            "Generation: 900. 正答率(トレーニング) = 0.06\n",
            "                : 900. 正答率(テスト) = 0.1135\n",
            "Generation: 910. 正答率(トレーニング) = 0.15\n",
            "                : 910. 正答率(テスト) = 0.1135\n",
            "Generation: 920. 正答率(トレーニング) = 0.09\n",
            "                : 920. 正答率(テスト) = 0.1135\n",
            "Generation: 930. 正答率(トレーニング) = 0.06\n",
            "                : 930. 正答率(テスト) = 0.1135\n",
            "Generation: 940. 正答率(トレーニング) = 0.2\n",
            "                : 940. 正答率(テスト) = 0.1135\n",
            "Generation: 950. 正答率(トレーニング) = 0.15\n",
            "                : 950. 正答率(テスト) = 0.1135\n",
            "Generation: 960. 正答率(トレーニング) = 0.15\n",
            "                : 960. 正答率(テスト) = 0.1135\n",
            "Generation: 970. 正答率(トレーニング) = 0.07\n",
            "                : 970. 正答率(テスト) = 0.1135\n",
            "Generation: 980. 正答率(トレーニング) = 0.15\n",
            "                : 980. 正答率(テスト) = 0.1135\n",
            "Generation: 990. 正答率(トレーニング) = 0.1\n",
            "                : 990. 正答率(テスト) = 0.1135\n",
            "Generation: 1000. 正答率(トレーニング) = 0.08\n",
            "                : 1000. 正答率(テスト) = 0.1135\n"
          ]
        }
      ]
    },
    {
      "cell_type": "code",
      "metadata": {
        "id": "9_kotg_e2ZS0"
      },
      "source": [
        "lists = range(0, iters_num, plot_interval)"
      ],
      "execution_count": null,
      "outputs": []
    },
    {
      "cell_type": "code",
      "metadata": {
        "colab": {
          "base_uri": "https://localhost:8080/",
          "height": 282
        },
        "id": "jNUG-ac22qbt",
        "outputId": "1fcc4ebe-489f-4b61-c23f-41c7482dc915"
      },
      "source": [
        "plt.plot(lists, accuracies_train, label=\"training set\")"
      ],
      "execution_count": null,
      "outputs": [
        {
          "output_type": "execute_result",
          "data": {
            "text/plain": [
              "[<matplotlib.lines.Line2D at 0x7f083fc611d0>]"
            ]
          },
          "metadata": {},
          "execution_count": 19
        },
        {
          "output_type": "display_data",
          "data": {
            "image/png": "[encoded data removed]",
            "text/plain": [
              "<Figure size 432x288 with 1 Axes>"
            ]
          },
          "metadata": {
            "needs_background": "light"
          }
        }
      ]
    },
    {
      "cell_type": "code",
      "metadata": {
        "colab": {
          "base_uri": "https://localhost:8080/",
          "height": 282
        },
        "id": "Yabh3Qdl2s_T",
        "outputId": "344f2542-4a62-4648-b7f7-4f04b6fe5a76"
      },
      "source": [
        "plt.plot(lists, accuracies_test,  label=\"test set\")"
      ],
      "execution_count": null,
      "outputs": [
        {
          "output_type": "execute_result",
          "data": {
            "text/plain": [
              "[<matplotlib.lines.Line2D at 0x7f08368f9ed0>]"
            ]
          },
          "metadata": {},
          "execution_count": 20
        },
        {
          "output_type": "display_data",
          "data": {
            "image/png": "[encoded data removed]",
            "text/plain": [
              "<Figure size 432x288 with 1 Axes>"
            ]
          },
          "metadata": {
            "needs_background": "light"
          }
        }
      ]
    },
    {
      "cell_type": "code",
      "metadata": {
        "colab": {
          "base_uri": "https://localhost:8080/",
          "height": 295
        },
        "id": "ozV46cai3GZl",
        "outputId": "8b9d2601-e4ae-4e14-c28d-ef990483a6ed"
      },
      "source": [
        "lists = range(0, iters_num, plot_interval)\n",
        "plt.plot(lists, accuracies_train, label=\"training set\")\n",
        "plt.plot(lists, accuracies_test,  label=\"test set\")\n",
        "plt.legend(loc=\"lower right\")\n",
        "plt.title(\"accuracy\")\n",
        "plt.xlabel(\"count\")\n",
        "plt.ylabel(\"accuracy\")\n",
        "plt.ylim(0, 1.0)\n",
        "# グラフの表示\n",
        "plt.show()"
      ],
      "execution_count": null,
      "outputs": [
        {
          "output_type": "display_data",
          "data": {
            "image/png": "[encoded data removed]",
            "text/plain": [
              "<Figure size 432x288 with 1 Axes>"
            ]
          },
          "metadata": {
            "needs_background": "light"
          }
        }
      ]
    },
    {
      "cell_type": "markdown",
      "metadata": {
        "id": "uFNCs9T83m15"
      },
      "source": [
        "## Momentum"
      ]
    },
    {
      "cell_type": "code",
      "metadata": {
        "colab": {
          "base_uri": "https://localhost:8080/"
        },
        "id": "oD3HPpsS3Pv5",
        "outputId": "4b9c6909-b06b-4fd1-b2aa-1e5d09c88b36"
      },
      "source": [
        "# データの読み込み\n",
        "(x_train, d_train), (x_test, d_test) = load_mnist(normalize=True, one_hot_label=True)\n",
        "\n",
        "print(\"データ読み込み完了\")"
      ],
      "execution_count": null,
      "outputs": [
        {
          "output_type": "stream",
          "name": "stdout",
          "text": [
            "データ読み込み完了\n"
          ]
        }
      ]
    },
    {
      "cell_type": "code",
      "metadata": {
        "id": "q81Kbz5T3u7T"
      },
      "source": [
        "# batch_normalizationの設定 ================================\n",
        "# use_batchnorm = True\n",
        "use_batchnorm = False\n",
        "# ====================================================\n"
      ],
      "execution_count": null,
      "outputs": []
    },
    {
      "cell_type": "code",
      "metadata": {
        "id": "532McS6o3x5n"
      },
      "source": [
        "network = MultiLayerNet(input_size=784, hidden_size_list=[40, 20], output_size=10, activation='sigmoid', weight_init_std=0.01,\n",
        "                       use_batchnorm=use_batchnorm)\n",
        "\n",
        "iters_num = 1000\n",
        "train_size = x_train.shape[0]\n",
        "batch_size = 100\n",
        "learning_rate = 0.01\n",
        "# 慣性\n",
        "momentum = 0.9\n",
        "\n",
        "train_loss_list = []\n",
        "accuracies_train = []\n",
        "accuracies_test = []\n",
        "\n",
        "plot_interval=10\n"
      ],
      "execution_count": null,
      "outputs": []
    },
    {
      "cell_type": "code",
      "metadata": {
        "colab": {
          "base_uri": "https://localhost:8080/"
        },
        "id": "yR4Pez1Y323f",
        "outputId": "efc30ae6-71be-45e7-d90b-fdaba64c6323"
      },
      "source": [
        "for i in range(iters_num):\n",
        "    batch_mask = np.random.choice(train_size, batch_size)\n",
        "    x_batch = x_train[batch_mask]\n",
        "    d_batch = d_train[batch_mask]\n",
        "\n",
        "    # 勾配\n",
        "    grad = network.gradient(x_batch, d_batch)\n",
        "    if i == 0:\n",
        "        v = {}\n",
        "    for key in ('W1', 'W2', 'W3', 'b1', 'b2', 'b3'):\n",
        "        if i == 0:\n",
        "            v[key] = np.zeros_like(network.params[key])\n",
        "        v[key] = momentum * v[key] - learning_rate * grad[key]\n",
        "        network.params[key] += v[key]\n",
        "\n",
        "        loss = network.loss(x_batch, d_batch)\n",
        "        train_loss_list.append(loss)\n",
        "        \n",
        "    if (i + 1) % plot_interval == 0:\n",
        "        accr_test = network.accuracy(x_test, d_test)\n",
        "        accuracies_test.append(accr_test)        \n",
        "        accr_train = network.accuracy(x_batch, d_batch)\n",
        "        accuracies_train.append(accr_train)\n",
        "\n",
        "        print('Generation: ' + str(i+1) + '. 正答率(トレーニング) = ' + str(accr_train))\n",
        "        print('                : ' + str(i+1) + '. 正答率(テスト) = ' + str(accr_test))\n",
        "        \n",
        "        "
      ],
      "execution_count": null,
      "outputs": [
        {
          "output_type": "stream",
          "name": "stdout",
          "text": [
            "Generation: 10. 正答率(トレーニング) = 0.1\n",
            "                : 10. 正答率(テスト) = 0.1032\n",
            "Generation: 20. 正答率(トレーニング) = 0.1\n",
            "                : 20. 正答率(テスト) = 0.1135\n",
            "Generation: 30. 正答率(トレーニング) = 0.14\n",
            "                : 30. 正答率(テスト) = 0.1135\n",
            "Generation: 40. 正答率(トレーニング) = 0.17\n",
            "                : 40. 正答率(テスト) = 0.1135\n",
            "Generation: 50. 正答率(トレーニング) = 0.16\n",
            "                : 50. 正答率(テスト) = 0.1135\n",
            "Generation: 60. 正答率(トレーニング) = 0.08\n",
            "                : 60. 正答率(テスト) = 0.1135\n",
            "Generation: 70. 正答率(トレーニング) = 0.12\n",
            "                : 70. 正答率(テスト) = 0.1135\n",
            "Generation: 80. 正答率(トレーニング) = 0.1\n",
            "                : 80. 正答率(テスト) = 0.1135\n",
            "Generation: 90. 正答率(トレーニング) = 0.08\n",
            "                : 90. 正答率(テスト) = 0.1135\n",
            "Generation: 100. 正答率(トレーニング) = 0.07\n",
            "                : 100. 正答率(テスト) = 0.1135\n",
            "Generation: 110. 正答率(トレーニング) = 0.14\n",
            "                : 110. 正答率(テスト) = 0.1135\n",
            "Generation: 120. 正答率(トレーニング) = 0.11\n",
            "                : 120. 正答率(テスト) = 0.1135\n",
            "Generation: 130. 正答率(トレーニング) = 0.09\n",
            "                : 130. 正答率(テスト) = 0.1135\n",
            "Generation: 140. 正答率(トレーニング) = 0.12\n",
            "                : 140. 正答率(テスト) = 0.1135\n",
            "Generation: 150. 正答率(トレーニング) = 0.1\n",
            "                : 150. 正答率(テスト) = 0.1135\n",
            "Generation: 160. 正答率(トレーニング) = 0.11\n",
            "                : 160. 正答率(テスト) = 0.1028\n",
            "Generation: 170. 正答率(トレーニング) = 0.07\n",
            "                : 170. 正答率(テスト) = 0.1028\n",
            "Generation: 180. 正答率(トレーニング) = 0.07\n",
            "                : 180. 正答率(テスト) = 0.1028\n",
            "Generation: 190. 正答率(トレーニング) = 0.15\n",
            "                : 190. 正答率(テスト) = 0.1135\n",
            "Generation: 200. 正答率(トレーニング) = 0.07\n",
            "                : 200. 正答率(テスト) = 0.1135\n",
            "Generation: 210. 正答率(トレーニング) = 0.11\n",
            "                : 210. 正答率(テスト) = 0.1135\n",
            "Generation: 220. 正答率(トレーニング) = 0.07\n",
            "                : 220. 正答率(テスト) = 0.101\n",
            "Generation: 230. 正答率(トレーニング) = 0.12\n",
            "                : 230. 正答率(テスト) = 0.101\n",
            "Generation: 240. 正答率(トレーニング) = 0.12\n",
            "                : 240. 正答率(テスト) = 0.101\n",
            "Generation: 250. 正答率(トレーニング) = 0.08\n",
            "                : 250. 正答率(テスト) = 0.1135\n",
            "Generation: 260. 正答率(トレーニング) = 0.08\n",
            "                : 260. 正答率(テスト) = 0.1135\n",
            "Generation: 270. 正答率(トレーニング) = 0.12\n",
            "                : 270. 正答率(テスト) = 0.1135\n",
            "Generation: 280. 正答率(トレーニング) = 0.07\n",
            "                : 280. 正答率(テスト) = 0.1135\n",
            "Generation: 290. 正答率(トレーニング) = 0.14\n",
            "                : 290. 正答率(テスト) = 0.1135\n",
            "Generation: 300. 正答率(トレーニング) = 0.12\n",
            "                : 300. 正答率(テスト) = 0.1135\n",
            "Generation: 310. 正答率(トレーニング) = 0.11\n",
            "                : 310. 正答率(テスト) = 0.1135\n",
            "Generation: 320. 正答率(トレーニング) = 0.09\n",
            "                : 320. 正答率(テスト) = 0.101\n",
            "Generation: 330. 正答率(トレーニング) = 0.17\n",
            "                : 330. 正答率(テスト) = 0.1135\n",
            "Generation: 340. 正答率(トレーニング) = 0.14\n",
            "                : 340. 正答率(テスト) = 0.1135\n",
            "Generation: 350. 正答率(トレーニング) = 0.12\n",
            "                : 350. 正答率(テスト) = 0.1135\n",
            "Generation: 360. 正答率(トレーニング) = 0.12\n",
            "                : 360. 正答率(テスト) = 0.1135\n",
            "Generation: 370. 正答率(トレーニング) = 0.08\n",
            "                : 370. 正答率(テスト) = 0.1135\n",
            "Generation: 380. 正答率(トレーニング) = 0.14\n",
            "                : 380. 正答率(テスト) = 0.1135\n",
            "Generation: 390. 正答率(トレーニング) = 0.1\n",
            "                : 390. 正答率(テスト) = 0.1135\n",
            "Generation: 400. 正答率(トレーニング) = 0.19\n",
            "                : 400. 正答率(テスト) = 0.1135\n",
            "Generation: 410. 正答率(トレーニング) = 0.08\n",
            "                : 410. 正答率(テスト) = 0.1135\n",
            "Generation: 420. 正答率(トレーニング) = 0.02\n",
            "                : 420. 正答率(テスト) = 0.1135\n",
            "Generation: 430. 正答率(トレーニング) = 0.08\n",
            "                : 430. 正答率(テスト) = 0.1135\n",
            "Generation: 440. 正答率(トレーニング) = 0.08\n",
            "                : 440. 正答率(テスト) = 0.1135\n",
            "Generation: 450. 正答率(トレーニング) = 0.12\n",
            "                : 450. 正答率(テスト) = 0.1028\n",
            "Generation: 460. 正答率(トレーニング) = 0.04\n",
            "                : 460. 正答率(テスト) = 0.1028\n",
            "Generation: 470. 正答率(トレーニング) = 0.12\n",
            "                : 470. 正答率(テスト) = 0.1135\n",
            "Generation: 480. 正答率(トレーニング) = 0.17\n",
            "                : 480. 正答率(テスト) = 0.1135\n",
            "Generation: 490. 正答率(トレーニング) = 0.07\n",
            "                : 490. 正答率(テスト) = 0.1135\n",
            "Generation: 500. 正答率(トレーニング) = 0.12\n",
            "                : 500. 正答率(テスト) = 0.1135\n",
            "Generation: 510. 正答率(トレーニング) = 0.19\n",
            "                : 510. 正答率(テスト) = 0.1135\n",
            "Generation: 520. 正答率(トレーニング) = 0.11\n",
            "                : 520. 正答率(テスト) = 0.1135\n",
            "Generation: 530. 正答率(トレーニング) = 0.14\n",
            "                : 530. 正答率(テスト) = 0.1135\n",
            "Generation: 540. 正答率(トレーニング) = 0.14\n",
            "                : 540. 正答率(テスト) = 0.1135\n",
            "Generation: 550. 正答率(トレーニング) = 0.08\n",
            "                : 550. 正答率(テスト) = 0.1135\n",
            "Generation: 560. 正答率(トレーニング) = 0.09\n",
            "                : 560. 正答率(テスト) = 0.1135\n",
            "Generation: 570. 正答率(トレーニング) = 0.08\n",
            "                : 570. 正答率(テスト) = 0.1028\n",
            "Generation: 580. 正答率(トレーニング) = 0.1\n",
            "                : 580. 正答率(テスト) = 0.1028\n",
            "Generation: 590. 正答率(トレーニング) = 0.1\n",
            "                : 590. 正答率(テスト) = 0.1135\n",
            "Generation: 600. 正答率(トレーニング) = 0.17\n",
            "                : 600. 正答率(テスト) = 0.1135\n",
            "Generation: 610. 正答率(トレーニング) = 0.06\n",
            "                : 610. 正答率(テスト) = 0.1135\n",
            "Generation: 620. 正答率(トレーニング) = 0.09\n",
            "                : 620. 正答率(テスト) = 0.1135\n",
            "Generation: 630. 正答率(トレーニング) = 0.19\n",
            "                : 630. 正答率(テスト) = 0.1028\n",
            "Generation: 640. 正答率(トレーニング) = 0.11\n",
            "                : 640. 正答率(テスト) = 0.0958\n",
            "Generation: 650. 正答率(トレーニング) = 0.13\n",
            "                : 650. 正答率(テスト) = 0.0958\n",
            "Generation: 660. 正答率(トレーニング) = 0.08\n",
            "                : 660. 正答率(テスト) = 0.1135\n",
            "Generation: 670. 正答率(トレーニング) = 0.14\n",
            "                : 670. 正答率(テスト) = 0.1135\n",
            "Generation: 680. 正答率(トレーニング) = 0.15\n",
            "                : 680. 正答率(テスト) = 0.1135\n",
            "Generation: 690. 正答率(トレーニング) = 0.11\n",
            "                : 690. 正答率(テスト) = 0.1135\n",
            "Generation: 700. 正答率(トレーニング) = 0.1\n",
            "                : 700. 正答率(テスト) = 0.1135\n",
            "Generation: 710. 正答率(トレーニング) = 0.12\n",
            "                : 710. 正答率(テスト) = 0.1009\n",
            "Generation: 720. 正答率(トレーニング) = 0.13\n",
            "                : 720. 正答率(テスト) = 0.1009\n",
            "Generation: 730. 正答率(トレーニング) = 0.11\n",
            "                : 730. 正答率(テスト) = 0.1009\n",
            "Generation: 740. 正答率(トレーニング) = 0.08\n",
            "                : 740. 正答率(テスト) = 0.1028\n",
            "Generation: 750. 正答率(トレーニング) = 0.13\n",
            "                : 750. 正答率(テスト) = 0.1135\n",
            "Generation: 760. 正答率(トレーニング) = 0.12\n",
            "                : 760. 正答率(テスト) = 0.1135\n",
            "Generation: 770. 正答率(トレーニング) = 0.12\n",
            "                : 770. 正答率(テスト) = 0.1135\n",
            "Generation: 780. 正答率(トレーニング) = 0.12\n",
            "                : 780. 正答率(テスト) = 0.1135\n",
            "Generation: 790. 正答率(トレーニング) = 0.16\n",
            "                : 790. 正答率(テスト) = 0.1135\n",
            "Generation: 800. 正答率(トレーニング) = 0.1\n",
            "                : 800. 正答率(テスト) = 0.1135\n",
            "Generation: 810. 正答率(トレーニング) = 0.14\n",
            "                : 810. 正答率(テスト) = 0.1135\n",
            "Generation: 820. 正答率(トレーニング) = 0.08\n",
            "                : 820. 正答率(テスト) = 0.1135\n",
            "Generation: 830. 正答率(トレーニング) = 0.12\n",
            "                : 830. 正答率(テスト) = 0.1135\n",
            "Generation: 840. 正答率(トレーニング) = 0.08\n",
            "                : 840. 正答率(テスト) = 0.1135\n",
            "Generation: 850. 正答率(トレーニング) = 0.1\n",
            "                : 850. 正答率(テスト) = 0.0958\n",
            "Generation: 860. 正答率(トレーニング) = 0.08\n",
            "                : 860. 正答率(テスト) = 0.0958\n",
            "Generation: 870. 正答率(トレーニング) = 0.12\n",
            "                : 870. 正答率(テスト) = 0.1135\n",
            "Generation: 880. 正答率(トレーニング) = 0.16\n",
            "                : 880. 正答率(テスト) = 0.1135\n",
            "Generation: 890. 正答率(トレーニング) = 0.14\n",
            "                : 890. 正答率(テスト) = 0.1135\n",
            "Generation: 900. 正答率(トレーニング) = 0.12\n",
            "                : 900. 正答率(テスト) = 0.1135\n",
            "Generation: 910. 正答率(トレーニング) = 0.11\n",
            "                : 910. 正答率(テスト) = 0.1135\n",
            "Generation: 920. 正答率(トレーニング) = 0.1\n",
            "                : 920. 正答率(テスト) = 0.1135\n",
            "Generation: 930. 正答率(トレーニング) = 0.16\n",
            "                : 930. 正答率(テスト) = 0.0958\n",
            "Generation: 940. 正答率(トレーニング) = 0.14\n",
            "                : 940. 正答率(テスト) = 0.0958\n",
            "Generation: 950. 正答率(トレーニング) = 0.15\n",
            "                : 950. 正答率(テスト) = 0.1032\n",
            "Generation: 960. 正答率(トレーニング) = 0.07\n",
            "                : 960. 正答率(テスト) = 0.1032\n",
            "Generation: 970. 正答率(トレーニング) = 0.11\n",
            "                : 970. 正答率(テスト) = 0.1135\n",
            "Generation: 980. 正答率(トレーニング) = 0.12\n",
            "                : 980. 正答率(テスト) = 0.1135\n",
            "Generation: 990. 正答率(トレーニング) = 0.12\n",
            "                : 990. 正答率(テスト) = 0.1135\n",
            "Generation: 1000. 正答率(トレーニング) = 0.08\n",
            "                : 1000. 正答率(テスト) = 0.1135\n"
          ]
        }
      ]
    },
    {
      "cell_type": "code",
      "metadata": {
        "colab": {
          "base_uri": "https://localhost:8080/",
          "height": 282
        },
        "id": "pabbqM0O4GAQ",
        "outputId": "17f3164b-0caf-458b-f8be-c173fbcb70d3"
      },
      "source": [
        "plt.plot(lists, accuracies_train, label=\"training set\")"
      ],
      "execution_count": null,
      "outputs": [
        {
          "output_type": "execute_result",
          "data": {
            "text/plain": [
              "[<matplotlib.lines.Line2D at 0x7f08365ec0d0>]"
            ]
          },
          "metadata": {},
          "execution_count": 32
        },
        {
          "output_type": "display_data",
          "data": {
            "image/png": "[encoded data removed]",
            "text/plain": [
              "<Figure size 432x288 with 1 Axes>"
            ]
          },
          "metadata": {
            "needs_background": "light"
          }
        }
      ]
    },
    {
      "cell_type": "code",
      "metadata": {
        "colab": {
          "base_uri": "https://localhost:8080/",
          "height": 282
        },
        "id": "KyjOrEFD4IUJ",
        "outputId": "2c75c565-0f22-4718-d61f-491ce23ab1db"
      },
      "source": [
        "plt.plot(lists, accuracies_test,  label=\"test set\")"
      ],
      "execution_count": null,
      "outputs": [
        {
          "output_type": "execute_result",
          "data": {
            "text/plain": [
              "[<matplotlib.lines.Line2D at 0x7f08365d9050>]"
            ]
          },
          "metadata": {},
          "execution_count": 33
        },
        {
          "output_type": "display_data",
          "data": {
            "image/png": "[encoded data removed]",
            "text/plain": [
              "<Figure size 432x288 with 1 Axes>"
            ]
          },
          "metadata": {
            "needs_background": "light"
          }
        }
      ]
    },
    {
      "cell_type": "code",
      "metadata": {
        "colab": {
          "base_uri": "https://localhost:8080/",
          "height": 295
        },
        "id": "7texB1rK37sP",
        "outputId": "5826a820-83ad-4f5d-dd44-e60927bb35b8"
      },
      "source": [
        "lists = range(0, iters_num, plot_interval)\n",
        "plt.plot(lists, accuracies_train, label=\"training set\")\n",
        "plt.plot(lists, accuracies_test,  label=\"test set\")\n",
        "plt.legend(loc=\"lower right\")\n",
        "plt.title(\"accuracy\")\n",
        "plt.xlabel(\"count\")\n",
        "plt.ylabel(\"accuracy\")\n",
        "plt.ylim(0, 1.0)\n",
        "# グラフの表示\n",
        "plt.show()"
      ],
      "execution_count": null,
      "outputs": [
        {
          "output_type": "display_data",
          "data": {
            "image/png": "[encoded data removed]",
            "text/plain": [
              "<Figure size 432x288 with 1 Axes>"
            ]
          },
          "metadata": {
            "needs_background": "light"
          }
        }
      ]
    },
    {
      "cell_type": "markdown",
      "metadata": {
        "id": "cpK_2sFVoXU7"
      },
      "source": [
        "## MomentumをもとにAdaGradを作ってみよう\n",
        "θ = 1e-4 とする"
      ]
    },
    {
      "cell_type": "code",
      "metadata": {
        "colab": {
          "base_uri": "https://localhost:8080/"
        },
        "id": "CiU3SoDX4YAo",
        "outputId": "22042280-b689-40fb-b4ca-db5bc76ff235"
      },
      "source": [
        "# AdaGradを作ってみよう\n",
        "# データの読み込み\n",
        "(x_train, d_train), (x_test, d_test) = load_mnist(normalize=True, one_hot_label=True)\n",
        "\n",
        "print(\"データ読み込み完了\")"
      ],
      "execution_count": null,
      "outputs": [
        {
          "output_type": "stream",
          "name": "stdout",
          "text": [
            "データ読み込み完了\n"
          ]
        }
      ]
    },
    {
      "cell_type": "code",
      "metadata": {
        "id": "bjnpwzYC4Ykk"
      },
      "source": [
        "# batch_normalizationの設定 ================================\n",
        "# use_batchnorm = True\n",
        "use_batchnorm = False\n",
        "# ====================================================\n"
      ],
      "execution_count": null,
      "outputs": []
    },
    {
      "cell_type": "code",
      "metadata": {
        "id": "LLungL6o4bQ0"
      },
      "source": [
        "network = MultiLayerNet(input_size=784, hidden_size_list=[40, 20], output_size=10, activation='sigmoid', weight_init_std=0.01,\n",
        "                       use_batchnorm=use_batchnorm)\n",
        "\n",
        "iters_num = 1000\n",
        "# iters_num = 500 # 処理を短縮\n",
        "\n",
        "train_size = x_train.shape[0]\n",
        "batch_size = 100\n",
        "learning_rate = 0.01\n",
        "train_loss_list = []\n",
        "accuracies_train = []\n",
        "accuracies_test = []\n",
        "\n",
        "plot_interval=10"
      ],
      "execution_count": null,
      "outputs": []
    },
    {
      "cell_type": "code",
      "metadata": {
        "colab": {
          "base_uri": "https://localhost:8080/"
        },
        "id": "3cmSrS3_4ggB",
        "outputId": "320e48bb-a7e2-4db9-8bc7-592a48565c38"
      },
      "source": [
        "for i in range(iters_num):\n",
        "    batch_mask = np.random.choice(train_size, batch_size)\n",
        "    x_batch = x_train[batch_mask]\n",
        "    d_batch = d_train[batch_mask]\n",
        "\n",
        "    # 勾配\n",
        "    grad = network.gradient(x_batch, d_batch)\n",
        "    if i == 0:\n",
        "        h = {}\n",
        "    for key in ('W1', 'W2', 'W3', 'b1', 'b2', 'b3'):\n",
        "            \n",
        "        # 変更しよう  \n",
        "        # ===========================================\n",
        "        if i == 0:\n",
        "            h[key] = np.zeros_like(network.params[key])        \n",
        "        h[key] = momentum * h[key] - learning_rate * grad[key]\n",
        "        network.params[key] += h[key]\n",
        "\n",
        "        # ===========================================\n",
        "        \n",
        "        loss = network.loss(x_batch, d_batch)\n",
        "        train_loss_list.append(loss)\n",
        "        \n",
        "    if (i + 1) % plot_interval == 0:\n",
        "        accr_test = network.accuracy(x_test, d_test)\n",
        "        accuracies_test.append(accr_test)        \n",
        "        accr_train = network.accuracy(x_batch, d_batch)\n",
        "        accuracies_train.append(accr_train)\n",
        "\n",
        "        print('Generation: ' + str(i+1) + '. 正答率(トレーニング) = ' + str(accr_train))\n",
        "        print('                : ' + str(i+1) + '. 正答率(テスト) = ' + str(accr_test))\n",
        "        \n",
        "     "
      ],
      "execution_count": null,
      "outputs": [
        {
          "output_type": "stream",
          "name": "stdout",
          "text": [
            "Generation: 10. 正答率(トレーニング) = 0.07\n",
            "                : 10. 正答率(テスト) = 0.1028\n",
            "Generation: 20. 正答率(トレーニング) = 0.09\n",
            "                : 20. 正答率(テスト) = 0.1135\n",
            "Generation: 30. 正答率(トレーニング) = 0.11\n",
            "                : 30. 正答率(テスト) = 0.1135\n",
            "Generation: 40. 正答率(トレーニング) = 0.1\n",
            "                : 40. 正答率(テスト) = 0.1135\n",
            "Generation: 50. 正答率(トレーニング) = 0.13\n",
            "                : 50. 正答率(テスト) = 0.1135\n",
            "Generation: 60. 正答率(トレーニング) = 0.04\n",
            "                : 60. 正答率(テスト) = 0.1135\n",
            "Generation: 70. 正答率(トレーニング) = 0.07\n",
            "                : 70. 正答率(テスト) = 0.1135\n",
            "Generation: 80. 正答率(トレーニング) = 0.1\n",
            "                : 80. 正答率(テスト) = 0.1135\n",
            "Generation: 90. 正答率(トレーニング) = 0.14\n",
            "                : 90. 正答率(テスト) = 0.1135\n",
            "Generation: 100. 正答率(トレーニング) = 0.1\n",
            "                : 100. 正答率(テスト) = 0.1135\n",
            "Generation: 110. 正答率(トレーニング) = 0.11\n",
            "                : 110. 正答率(テスト) = 0.1135\n",
            "Generation: 120. 正答率(トレーニング) = 0.07\n",
            "                : 120. 正答率(テスト) = 0.1135\n",
            "Generation: 130. 正答率(トレーニング) = 0.17\n",
            "                : 130. 正答率(テスト) = 0.1135\n",
            "Generation: 140. 正答率(トレーニング) = 0.04\n",
            "                : 140. 正答率(テスト) = 0.101\n",
            "Generation: 150. 正答率(トレーニング) = 0.1\n",
            "                : 150. 正答率(テスト) = 0.1135\n",
            "Generation: 160. 正答率(トレーニング) = 0.16\n",
            "                : 160. 正答率(テスト) = 0.1135\n",
            "Generation: 170. 正答率(トレーニング) = 0.11\n",
            "                : 170. 正答率(テスト) = 0.1028\n",
            "Generation: 180. 正答率(トレーニング) = 0.11\n",
            "                : 180. 正答率(テスト) = 0.1028\n",
            "Generation: 190. 正答率(トレーニング) = 0.13\n",
            "                : 190. 正答率(テスト) = 0.1028\n",
            "Generation: 200. 正答率(トレーニング) = 0.1\n",
            "                : 200. 正答率(テスト) = 0.1135\n",
            "Generation: 210. 正答率(トレーニング) = 0.08\n",
            "                : 210. 正答率(テスト) = 0.1135\n",
            "Generation: 220. 正答率(トレーニング) = 0.12\n",
            "                : 220. 正答率(テスト) = 0.1135\n",
            "Generation: 230. 正答率(トレーニング) = 0.03\n",
            "                : 230. 正答率(テスト) = 0.0974\n",
            "Generation: 240. 正答率(トレーニング) = 0.09\n",
            "                : 240. 正答率(テスト) = 0.1135\n",
            "Generation: 250. 正答率(トレーニング) = 0.16\n",
            "                : 250. 正答率(テスト) = 0.1135\n",
            "Generation: 260. 正答率(トレーニング) = 0.09\n",
            "                : 260. 正答率(テスト) = 0.1135\n",
            "Generation: 270. 正答率(トレーニング) = 0.08\n",
            "                : 270. 正答率(テスト) = 0.1135\n",
            "Generation: 280. 正答率(トレーニング) = 0.13\n",
            "                : 280. 正答率(テスト) = 0.1135\n",
            "Generation: 290. 正答率(トレーニング) = 0.11\n",
            "                : 290. 正答率(テスト) = 0.0958\n",
            "Generation: 300. 正答率(トレーニング) = 0.11\n",
            "                : 300. 正答率(テスト) = 0.1135\n",
            "Generation: 310. 正答率(トレーニング) = 0.16\n",
            "                : 310. 正答率(テスト) = 0.1135\n",
            "Generation: 320. 正答率(トレーニング) = 0.08\n",
            "                : 320. 正答率(テスト) = 0.1135\n",
            "Generation: 330. 正答率(トレーニング) = 0.09\n",
            "                : 330. 正答率(テスト) = 0.1135\n",
            "Generation: 340. 正答率(トレーニング) = 0.16\n",
            "                : 340. 正答率(テスト) = 0.1135\n",
            "Generation: 350. 正答率(トレーニング) = 0.09\n",
            "                : 350. 正答率(テスト) = 0.1135\n",
            "Generation: 360. 正答率(トレーニング) = 0.08\n",
            "                : 360. 正答率(テスト) = 0.1135\n",
            "Generation: 370. 正答率(トレーニング) = 0.08\n",
            "                : 370. 正答率(テスト) = 0.101\n",
            "Generation: 380. 正答率(トレーニング) = 0.05\n",
            "                : 380. 正答率(テスト) = 0.1135\n",
            "Generation: 390. 正答率(トレーニング) = 0.12\n",
            "                : 390. 正答率(テスト) = 0.1135\n",
            "Generation: 400. 正答率(トレーニング) = 0.12\n",
            "                : 400. 正答率(テスト) = 0.1135\n",
            "Generation: 410. 正答率(トレーニング) = 0.08\n",
            "                : 410. 正答率(テスト) = 0.1135\n",
            "Generation: 420. 正答率(トレーニング) = 0.11\n",
            "                : 420. 正答率(テスト) = 0.1032\n",
            "Generation: 430. 正答率(トレーニング) = 0.11\n",
            "                : 430. 正答率(テスト) = 0.1135\n",
            "Generation: 440. 正答率(トレーニング) = 0.08\n",
            "                : 440. 正答率(テスト) = 0.1135\n",
            "Generation: 450. 正答率(トレーニング) = 0.11\n",
            "                : 450. 正答率(テスト) = 0.1028\n",
            "Generation: 460. 正答率(トレーニング) = 0.06\n",
            "                : 460. 正答率(テスト) = 0.1028\n",
            "Generation: 470. 正答率(トレーニング) = 0.06\n",
            "                : 470. 正答率(テスト) = 0.1028\n",
            "Generation: 480. 正答率(トレーニング) = 0.13\n",
            "                : 480. 正答率(テスト) = 0.101\n",
            "Generation: 490. 正答率(トレーニング) = 0.06\n",
            "                : 490. 正答率(テスト) = 0.101\n",
            "Generation: 500. 正答率(トレーニング) = 0.08\n",
            "                : 500. 正答率(テスト) = 0.1028\n",
            "Generation: 510. 正答率(トレーニング) = 0.09\n",
            "                : 510. 正答率(テスト) = 0.1028\n",
            "Generation: 520. 正答率(トレーニング) = 0.11\n",
            "                : 520. 正答率(テスト) = 0.1135\n",
            "Generation: 530. 正答率(トレーニング) = 0.09\n",
            "                : 530. 正答率(テスト) = 0.1028\n",
            "Generation: 540. 正答率(トレーニング) = 0.09\n",
            "                : 540. 正答率(テスト) = 0.1135\n",
            "Generation: 550. 正答率(トレーニング) = 0.06\n",
            "                : 550. 正答率(テスト) = 0.1135\n",
            "Generation: 560. 正答率(トレーニング) = 0.11\n",
            "                : 560. 正答率(テスト) = 0.1135\n",
            "Generation: 570. 正答率(トレーニング) = 0.13\n",
            "                : 570. 正答率(テスト) = 0.1135\n",
            "Generation: 580. 正答率(トレーニング) = 0.1\n",
            "                : 580. 正答率(テスト) = 0.0982\n",
            "Generation: 590. 正答率(トレーニング) = 0.1\n",
            "                : 590. 正答率(テスト) = 0.1135\n",
            "Generation: 600. 正答率(トレーニング) = 0.15\n",
            "                : 600. 正答率(テスト) = 0.101\n",
            "Generation: 610. 正答率(トレーニング) = 0.13\n",
            "                : 610. 正答率(テスト) = 0.1135\n",
            "Generation: 620. 正答率(トレーニング) = 0.14\n",
            "                : 620. 正答率(テスト) = 0.1135\n",
            "Generation: 630. 正答率(トレーニング) = 0.1\n",
            "                : 630. 正答率(テスト) = 0.1135\n",
            "Generation: 640. 正答率(トレーニング) = 0.11\n",
            "                : 640. 正答率(テスト) = 0.1135\n",
            "Generation: 650. 正答率(トレーニング) = 0.18\n",
            "                : 650. 正答率(テスト) = 0.1135\n",
            "Generation: 660. 正答率(トレーニング) = 0.13\n",
            "                : 660. 正答率(テスト) = 0.1135\n",
            "Generation: 670. 正答率(トレーニング) = 0.1\n",
            "                : 670. 正答率(テスト) = 0.1135\n",
            "Generation: 680. 正答率(トレーニング) = 0.1\n",
            "                : 680. 正答率(テスト) = 0.1135\n",
            "Generation: 690. 正答率(トレーニング) = 0.13\n",
            "                : 690. 正答率(テスト) = 0.1135\n",
            "Generation: 700. 正答率(トレーニング) = 0.09\n",
            "                : 700. 正答率(テスト) = 0.1028\n",
            "Generation: 710. 正答率(トレーニング) = 0.09\n",
            "                : 710. 正答率(テスト) = 0.1028\n",
            "Generation: 720. 正答率(トレーニング) = 0.09\n",
            "                : 720. 正答率(テスト) = 0.1028\n",
            "Generation: 730. 正答率(トレーニング) = 0.08\n",
            "                : 730. 正答率(テスト) = 0.1028\n",
            "Generation: 740. 正答率(トレーニング) = 0.14\n",
            "                : 740. 正答率(テスト) = 0.1135\n",
            "Generation: 750. 正答率(トレーニング) = 0.17\n",
            "                : 750. 正答率(テスト) = 0.1135\n",
            "Generation: 760. 正答率(トレーニング) = 0.1\n",
            "                : 760. 正答率(テスト) = 0.1135\n",
            "Generation: 770. 正答率(トレーニング) = 0.08\n",
            "                : 770. 正答率(テスト) = 0.1135\n",
            "Generation: 780. 正答率(トレーニング) = 0.16\n",
            "                : 780. 正答率(テスト) = 0.1135\n",
            "Generation: 790. 正答率(トレーニング) = 0.13\n",
            "                : 790. 正答率(テスト) = 0.1135\n",
            "Generation: 800. 正答率(トレーニング) = 0.13\n",
            "                : 800. 正答率(テスト) = 0.1135\n",
            "Generation: 810. 正答率(トレーニング) = 0.13\n",
            "                : 810. 正答率(テスト) = 0.1135\n",
            "Generation: 820. 正答率(トレーニング) = 0.07\n",
            "                : 820. 正答率(テスト) = 0.1135\n",
            "Generation: 830. 正答率(トレーニング) = 0.09\n",
            "                : 830. 正答率(テスト) = 0.1135\n",
            "Generation: 840. 正答率(トレーニング) = 0.11\n",
            "                : 840. 正答率(テスト) = 0.098\n",
            "Generation: 850. 正答率(トレーニング) = 0.2\n",
            "                : 850. 正答率(テスト) = 0.0974\n",
            "Generation: 860. 正答率(トレーニング) = 0.13\n",
            "                : 860. 正答率(テスト) = 0.0974\n",
            "Generation: 870. 正答率(トレーニング) = 0.13\n",
            "                : 870. 正答率(テスト) = 0.1032\n",
            "Generation: 880. 正答率(トレーニング) = 0.1\n",
            "                : 880. 正答率(テスト) = 0.1032\n",
            "Generation: 890. 正答率(トレーニング) = 0.15\n",
            "                : 890. 正答率(テスト) = 0.1135\n",
            "Generation: 900. 正答率(トレーニング) = 0.08\n",
            "                : 900. 正答率(テスト) = 0.1135\n",
            "Generation: 910. 正答率(トレーニング) = 0.11\n",
            "                : 910. 正答率(テスト) = 0.1135\n",
            "Generation: 920. 正答率(トレーニング) = 0.08\n",
            "                : 920. 正答率(テスト) = 0.1135\n",
            "Generation: 930. 正答率(トレーニング) = 0.14\n",
            "                : 930. 正答率(テスト) = 0.1135\n",
            "Generation: 940. 正答率(トレーニング) = 0.12\n",
            "                : 940. 正答率(テスト) = 0.1135\n",
            "Generation: 950. 正答率(トレーニング) = 0.07\n",
            "                : 950. 正答率(テスト) = 0.1028\n",
            "Generation: 960. 正答率(トレーニング) = 0.08\n",
            "                : 960. 正答率(テスト) = 0.1135\n",
            "Generation: 970. 正答率(トレーニング) = 0.08\n",
            "                : 970. 正答率(テスト) = 0.1135\n",
            "Generation: 980. 正答率(トレーニング) = 0.13\n",
            "                : 980. 正答率(テスト) = 0.1135\n",
            "Generation: 990. 正答率(トレーニング) = 0.05\n",
            "                : 990. 正答率(テスト) = 0.1135\n",
            "Generation: 1000. 正答率(トレーニング) = 0.05\n",
            "                : 1000. 正答率(テスト) = 0.1135\n"
          ]
        }
      ]
    },
    {
      "cell_type": "code",
      "metadata": {
        "id": "m3UYlCJt4qyZ"
      },
      "source": [
        "lists = range(0, iters_num, plot_interval)"
      ],
      "execution_count": null,
      "outputs": []
    },
    {
      "cell_type": "code",
      "metadata": {
        "colab": {
          "base_uri": "https://localhost:8080/",
          "height": 282
        },
        "id": "d152vObh4wvJ",
        "outputId": "25470003-247a-4265-ff62-11146f8cb034"
      },
      "source": [
        "plt.plot(lists, accuracies_train, label=\"training set\")"
      ],
      "execution_count": null,
      "outputs": [
        {
          "output_type": "execute_result",
          "data": {
            "text/plain": [
              "[<matplotlib.lines.Line2D at 0x7f08364b9fd0>]"
            ]
          },
          "metadata": {},
          "execution_count": 41
        },
        {
          "output_type": "display_data",
          "data": {
            "image/png": "[encoded data removed]",
            "text/plain": [
              "<Figure size 432x288 with 1 Axes>"
            ]
          },
          "metadata": {
            "needs_background": "light"
          }
        }
      ]
    },
    {
      "cell_type": "code",
      "metadata": {
        "colab": {
          "base_uri": "https://localhost:8080/",
          "height": 282
        },
        "id": "7f08cx684zDG",
        "outputId": "e9679560-c258-4be2-82f1-3abb560c54c1"
      },
      "source": [
        "plt.plot(lists, accuracies_test,  label=\"test set\")"
      ],
      "execution_count": null,
      "outputs": [
        {
          "output_type": "execute_result",
          "data": {
            "text/plain": [
              "[<matplotlib.lines.Line2D at 0x7f08364a99d0>]"
            ]
          },
          "metadata": {},
          "execution_count": 42
        },
        {
          "output_type": "display_data",
          "data": {
            "image/png": "[encoded data removed]",
            "text/plain": [
              "<Figure size 432x288 with 1 Axes>"
            ]
          },
          "metadata": {
            "needs_background": "light"
          }
        }
      ]
    },
    {
      "cell_type": "code",
      "metadata": {
        "colab": {
          "base_uri": "https://localhost:8080/",
          "height": 295
        },
        "id": "Y5bT_HdG4125",
        "outputId": "280cc7b2-9d7e-4206-c3dd-bba7dbff4ba7"
      },
      "source": [
        "lists = range(0, iters_num, plot_interval)\n",
        "plt.plot(lists, accuracies_train, label=\"training set\")\n",
        "plt.plot(lists, accuracies_test,  label=\"test set\")\n",
        "plt.legend(loc=\"lower right\")\n",
        "plt.title(\"accuracy\")\n",
        "plt.xlabel(\"count\")\n",
        "plt.ylabel(\"accuracy\")\n",
        "plt.ylim(0, 1.0)\n",
        "# グラフの表示\n",
        "plt.show()"
      ],
      "execution_count": null,
      "outputs": [
        {
          "output_type": "display_data",
          "data": {
            "image/png": "[encoded data removed]",
            "text/plain": [
              "<Figure size 432x288 with 1 Axes>"
            ]
          },
          "metadata": {
            "needs_background": "light"
          }
        }
      ]
    },
    {
      "cell_type": "markdown",
      "metadata": {
        "id": "l_UawNH_oXU_"
      },
      "source": [
        "## RMSprop"
      ]
    },
    {
      "cell_type": "code",
      "metadata": {
        "colab": {
          "base_uri": "https://localhost:8080/"
        },
        "id": "fnszxbNO5B5L",
        "outputId": "d20e18f5-5dc3-4f4c-f132-c9ce1656bde8"
      },
      "source": [
        "# データの読み込み\n",
        "(x_train, d_train), (x_test, d_test) = load_mnist(normalize=True, one_hot_label=True)\n",
        "\n",
        "print(\"データ読み込み完了\")"
      ],
      "execution_count": null,
      "outputs": [
        {
          "output_type": "stream",
          "name": "stdout",
          "text": [
            "データ読み込み完了\n"
          ]
        }
      ]
    },
    {
      "cell_type": "code",
      "metadata": {
        "id": "OUY2HOF65Etj"
      },
      "source": [
        "# batch_normalizationの設定 ================================\n",
        "# use_batchnorm = True\n",
        "use_batchnorm = False\n",
        "# ====================================================\n"
      ],
      "execution_count": null,
      "outputs": []
    },
    {
      "cell_type": "code",
      "metadata": {
        "id": "VL2WCVGA5GZm"
      },
      "source": [
        "network = MultiLayerNet(input_size=784, hidden_size_list=[40, 20], output_size=10, activation='sigmoid', weight_init_std=0.01,\n",
        "                       use_batchnorm=use_batchnorm)\n",
        "\n",
        "iters_num = 1000\n",
        "train_size = x_train.shape[0]\n",
        "batch_size = 100\n",
        "learning_rate = 0.01\n",
        "decay_rate = 0.99\n",
        "\n",
        "train_loss_list = []\n",
        "accuracies_train = []\n",
        "accuracies_test = []\n",
        "\n",
        "plot_interval=10\n"
      ],
      "execution_count": null,
      "outputs": []
    },
    {
      "cell_type": "code",
      "metadata": {
        "colab": {
          "base_uri": "https://localhost:8080/"
        },
        "id": "LsVHQZft5Iq-",
        "outputId": "202058d8-d7e8-40fd-8a82-7586b1d63d07"
      },
      "source": [
        "for i in range(iters_num):\n",
        "    batch_mask = np.random.choice(train_size, batch_size)\n",
        "    x_batch = x_train[batch_mask]\n",
        "    d_batch = d_train[batch_mask]\n",
        "\n",
        "    # 勾配\n",
        "    grad = network.gradient(x_batch, d_batch)\n",
        "    if i == 0:\n",
        "        h = {}\n",
        "    for key in ('W1', 'W2', 'W3', 'b1', 'b2', 'b3'):\n",
        "        if i == 0:\n",
        "            h[key] = np.zeros_like(network.params[key])\n",
        "        h[key] *= decay_rate\n",
        "        h[key] += (1 - decay_rate) * np.square(grad[key])\n",
        "        network.params[key] -= learning_rate * grad[key] / (np.sqrt(h[key]) + 1e-7)\n",
        "\n",
        "        loss = network.loss(x_batch, d_batch)\n",
        "        train_loss_list.append(loss)                \n",
        "        \n",
        "    if (i + 1) % plot_interval == 0:\n",
        "        accr_test = network.accuracy(x_test, d_test)\n",
        "        accuracies_test.append(accr_test)        \n",
        "        accr_train = network.accuracy(x_batch, d_batch)\n",
        "        accuracies_train.append(accr_train)\n",
        "        \n",
        "        print('Generation: ' + str(i+1) + '. 正答率(トレーニング) = ' + str(accr_train))\n",
        "        print('                : ' + str(i+1) + '. 正答率(テスト) = ' + str(accr_test))\n",
        "        \n",
        "     "
      ],
      "execution_count": null,
      "outputs": [
        {
          "output_type": "stream",
          "name": "stdout",
          "text": [
            "Generation: 10. 正答率(トレーニング) = 0.13\n",
            "                : 10. 正答率(テスト) = 0.1032\n",
            "Generation: 20. 正答率(トレーニング) = 0.17\n",
            "                : 20. 正答率(テスト) = 0.2058\n",
            "Generation: 30. 正答率(トレーニング) = 0.23\n",
            "                : 30. 正答率(テスト) = 0.29\n",
            "Generation: 40. 正答率(トレーニング) = 0.38\n",
            "                : 40. 正答率(テスト) = 0.3188\n",
            "Generation: 50. 正答率(トレーニング) = 0.33\n",
            "                : 50. 正答率(テスト) = 0.3351\n",
            "Generation: 60. 正答率(トレーニング) = 0.39\n",
            "                : 60. 正答率(テスト) = 0.3856\n",
            "Generation: 70. 正答率(トレーニング) = 0.4\n",
            "                : 70. 正答率(テスト) = 0.4207\n",
            "Generation: 80. 正答率(トレーニング) = 0.53\n",
            "                : 80. 正答率(テスト) = 0.5036\n",
            "Generation: 90. 正答率(トレーニング) = 0.5\n",
            "                : 90. 正答率(テスト) = 0.4805\n",
            "Generation: 100. 正答率(トレーニング) = 0.61\n",
            "                : 100. 正答率(テスト) = 0.5423\n",
            "Generation: 110. 正答率(トレーニング) = 0.67\n",
            "                : 110. 正答率(テスト) = 0.6415\n",
            "Generation: 120. 正答率(トレーニング) = 0.65\n",
            "                : 120. 正答率(テスト) = 0.6321\n",
            "Generation: 130. 正答率(トレーニング) = 0.65\n",
            "                : 130. 正答率(テスト) = 0.6006\n",
            "Generation: 140. 正答率(トレーニング) = 0.75\n",
            "                : 140. 正答率(テスト) = 0.6475\n",
            "Generation: 150. 正答率(トレーニング) = 0.73\n",
            "                : 150. 正答率(テスト) = 0.6945\n",
            "Generation: 160. 正答率(トレーニング) = 0.73\n",
            "                : 160. 正答率(テスト) = 0.6942\n",
            "Generation: 170. 正答率(トレーニング) = 0.87\n",
            "                : 170. 正答率(テスト) = 0.7636\n",
            "Generation: 180. 正答率(トレーニング) = 0.81\n",
            "                : 180. 正答率(テスト) = 0.7583\n",
            "Generation: 190. 正答率(トレーニング) = 0.84\n",
            "                : 190. 正答率(テスト) = 0.7624\n",
            "Generation: 200. 正答率(トレーニング) = 0.87\n",
            "                : 200. 正答率(テスト) = 0.7964\n",
            "Generation: 210. 正答率(トレーニング) = 0.87\n",
            "                : 210. 正答率(テスト) = 0.7965\n",
            "Generation: 220. 正答率(トレーニング) = 0.89\n",
            "                : 220. 正答率(テスト) = 0.8127\n",
            "Generation: 230. 正答率(トレーニング) = 0.92\n",
            "                : 230. 正答率(テスト) = 0.854\n",
            "Generation: 240. 正答率(トレーニング) = 0.96\n",
            "                : 240. 正答率(テスト) = 0.8653\n",
            "Generation: 250. 正答率(トレーニング) = 0.89\n",
            "                : 250. 正答率(テスト) = 0.8791\n",
            "Generation: 260. 正答率(トレーニング) = 0.95\n",
            "                : 260. 正答率(テスト) = 0.8909\n",
            "Generation: 270. 正答率(トレーニング) = 0.97\n",
            "                : 270. 正答率(テスト) = 0.8986\n",
            "Generation: 280. 正答率(トレーニング) = 0.96\n",
            "                : 280. 正答率(テスト) = 0.9073\n",
            "Generation: 290. 正答率(トレーニング) = 0.98\n",
            "                : 290. 正答率(テスト) = 0.9057\n",
            "Generation: 300. 正答率(トレーニング) = 0.98\n",
            "                : 300. 正答率(テスト) = 0.9141\n",
            "Generation: 310. 正答率(トレーニング) = 0.97\n",
            "                : 310. 正答率(テスト) = 0.9129\n",
            "Generation: 320. 正答率(トレーニング) = 0.98\n",
            "                : 320. 正答率(テスト) = 0.9196\n",
            "Generation: 330. 正答率(トレーニング) = 0.89\n",
            "                : 330. 正答率(テスト) = 0.9154\n",
            "Generation: 340. 正答率(トレーニング) = 0.96\n",
            "                : 340. 正答率(テスト) = 0.9195\n",
            "Generation: 350. 正答率(トレーニング) = 0.99\n",
            "                : 350. 正答率(テスト) = 0.921\n",
            "Generation: 360. 正答率(トレーニング) = 0.97\n",
            "                : 360. 正答率(テスト) = 0.9259\n",
            "Generation: 370. 正答率(トレーニング) = 0.93\n",
            "                : 370. 正答率(テスト) = 0.9125\n",
            "Generation: 380. 正答率(トレーニング) = 0.99\n",
            "                : 380. 正答率(テスト) = 0.9271\n",
            "Generation: 390. 正答率(トレーニング) = 0.97\n",
            "                : 390. 正答率(テスト) = 0.9255\n",
            "Generation: 400. 正答率(トレーニング) = 0.99\n",
            "                : 400. 正答率(テスト) = 0.9218\n",
            "Generation: 410. 正答率(トレーニング) = 0.96\n",
            "                : 410. 正答率(テスト) = 0.9272\n",
            "Generation: 420. 正答率(トレーニング) = 0.98\n",
            "                : 420. 正答率(テスト) = 0.9277\n",
            "Generation: 430. 正答率(トレーニング) = 0.93\n",
            "                : 430. 正答率(テスト) = 0.9254\n",
            "Generation: 440. 正答率(トレーニング) = 0.95\n",
            "                : 440. 正答率(テスト) = 0.9267\n",
            "Generation: 450. 正答率(トレーニング) = 0.99\n",
            "                : 450. 正答率(テスト) = 0.9289\n",
            "Generation: 460. 正答率(トレーニング) = 0.98\n",
            "                : 460. 正答率(テスト) = 0.9292\n",
            "Generation: 470. 正答率(トレーニング) = 0.95\n",
            "                : 470. 正答率(テスト) = 0.9321\n",
            "Generation: 480. 正答率(トレーニング) = 0.97\n",
            "                : 480. 正答率(テスト) = 0.9329\n",
            "Generation: 490. 正答率(トレーニング) = 0.95\n",
            "                : 490. 正答率(テスト) = 0.9334\n",
            "Generation: 500. 正答率(トレーニング) = 0.99\n",
            "                : 500. 正答率(テスト) = 0.9334\n",
            "Generation: 510. 正答率(トレーニング) = 0.95\n",
            "                : 510. 正答率(テスト) = 0.9327\n",
            "Generation: 520. 正答率(トレーニング) = 0.99\n",
            "                : 520. 正答率(テスト) = 0.9312\n",
            "Generation: 530. 正答率(トレーニング) = 0.96\n",
            "                : 530. 正答率(テスト) = 0.9354\n",
            "Generation: 540. 正答率(トレーニング) = 0.96\n",
            "                : 540. 正答率(テスト) = 0.9369\n",
            "Generation: 550. 正答率(トレーニング) = 0.98\n",
            "                : 550. 正答率(テスト) = 0.9192\n",
            "Generation: 560. 正答率(トレーニング) = 1.0\n",
            "                : 560. 正答率(テスト) = 0.9343\n",
            "Generation: 570. 正答率(トレーニング) = 0.97\n",
            "                : 570. 正答率(テスト) = 0.9371\n",
            "Generation: 580. 正答率(トレーニング) = 1.0\n",
            "                : 580. 正答率(テスト) = 0.9353\n",
            "Generation: 590. 正答率(トレーニング) = 0.98\n",
            "                : 590. 正答率(テスト) = 0.9373\n",
            "Generation: 600. 正答率(トレーニング) = 0.99\n",
            "                : 600. 正答率(テスト) = 0.9384\n",
            "Generation: 610. 正答率(トレーニング) = 0.99\n",
            "                : 610. 正答率(テスト) = 0.9348\n",
            "Generation: 620. 正答率(トレーニング) = 0.97\n",
            "                : 620. 正答率(テスト) = 0.9376\n",
            "Generation: 630. 正答率(トレーニング) = 0.99\n",
            "                : 630. 正答率(テスト) = 0.9375\n",
            "Generation: 640. 正答率(トレーニング) = 0.97\n",
            "                : 640. 正答率(テスト) = 0.9395\n",
            "Generation: 650. 正答率(トレーニング) = 0.96\n",
            "                : 650. 正答率(テスト) = 0.9307\n",
            "Generation: 660. 正答率(トレーニング) = 0.97\n",
            "                : 660. 正答率(テスト) = 0.9362\n",
            "Generation: 670. 正答率(トレーニング) = 0.98\n",
            "                : 670. 正答率(テスト) = 0.9411\n",
            "Generation: 680. 正答率(トレーニング) = 0.97\n",
            "                : 680. 正答率(テスト) = 0.9374\n",
            "Generation: 690. 正答率(トレーニング) = 0.98\n",
            "                : 690. 正答率(テスト) = 0.9418\n",
            "Generation: 700. 正答率(トレーニング) = 0.98\n",
            "                : 700. 正答率(テスト) = 0.9437\n",
            "Generation: 710. 正答率(トレーニング) = 0.95\n",
            "                : 710. 正答率(テスト) = 0.9416\n",
            "Generation: 720. 正答率(トレーニング) = 0.96\n",
            "                : 720. 正答率(テスト) = 0.9417\n",
            "Generation: 730. 正答率(トレーニング) = 0.99\n",
            "                : 730. 正答率(テスト) = 0.9451\n",
            "Generation: 740. 正答率(トレーニング) = 0.96\n",
            "                : 740. 正答率(テスト) = 0.9412\n",
            "Generation: 750. 正答率(トレーニング) = 0.97\n",
            "                : 750. 正答率(テスト) = 0.9415\n",
            "Generation: 760. 正答率(トレーニング) = 0.98\n",
            "                : 760. 正答率(テスト) = 0.9369\n",
            "Generation: 770. 正答率(トレーニング) = 0.99\n",
            "                : 770. 正答率(テスト) = 0.942\n",
            "Generation: 780. 正答率(トレーニング) = 1.0\n",
            "                : 780. 正答率(テスト) = 0.9359\n",
            "Generation: 790. 正答率(トレーニング) = 0.94\n",
            "                : 790. 正答率(テスト) = 0.9378\n",
            "Generation: 800. 正答率(トレーニング) = 1.0\n",
            "                : 800. 正答率(テスト) = 0.9428\n",
            "Generation: 810. 正答率(トレーニング) = 0.98\n",
            "                : 810. 正答率(テスト) = 0.946\n",
            "Generation: 820. 正答率(トレーニング) = 0.97\n",
            "                : 820. 正答率(テスト) = 0.9399\n",
            "Generation: 830. 正答率(トレーニング) = 0.96\n",
            "                : 830. 正答率(テスト) = 0.9464\n",
            "Generation: 840. 正答率(トレーニング) = 0.99\n",
            "                : 840. 正答率(テスト) = 0.9465\n",
            "Generation: 850. 正答率(トレーニング) = 0.98\n",
            "                : 850. 正答率(テスト) = 0.9439\n",
            "Generation: 860. 正答率(トレーニング) = 0.97\n",
            "                : 860. 正答率(テスト) = 0.9464\n",
            "Generation: 870. 正答率(トレーニング) = 0.98\n",
            "                : 870. 正答率(テスト) = 0.9463\n",
            "Generation: 880. 正答率(トレーニング) = 0.98\n",
            "                : 880. 正答率(テスト) = 0.9465\n",
            "Generation: 890. 正答率(トレーニング) = 0.99\n",
            "                : 890. 正答率(テスト) = 0.9461\n",
            "Generation: 900. 正答率(トレーニング) = 0.98\n",
            "                : 900. 正答率(テスト) = 0.948\n",
            "Generation: 910. 正答率(トレーニング) = 0.98\n",
            "                : 910. 正答率(テスト) = 0.9447\n",
            "Generation: 920. 正答率(トレーニング) = 0.97\n",
            "                : 920. 正答率(テスト) = 0.9464\n",
            "Generation: 930. 正答率(トレーニング) = 0.99\n",
            "                : 930. 正答率(テスト) = 0.9472\n",
            "Generation: 940. 正答率(トレーニング) = 1.0\n",
            "                : 940. 正答率(テスト) = 0.9417\n",
            "Generation: 950. 正答率(トレーニング) = 1.0\n",
            "                : 950. 正答率(テスト) = 0.9503\n",
            "Generation: 960. 正答率(トレーニング) = 0.96\n",
            "                : 960. 正答率(テスト) = 0.9465\n",
            "Generation: 970. 正答率(トレーニング) = 0.98\n",
            "                : 970. 正答率(テスト) = 0.9454\n",
            "Generation: 980. 正答率(トレーニング) = 0.99\n",
            "                : 980. 正答率(テスト) = 0.9466\n",
            "Generation: 990. 正答率(トレーニング) = 1.0\n",
            "                : 990. 正答率(テスト) = 0.9477\n",
            "Generation: 1000. 正答率(トレーニング) = 0.99\n",
            "                : 1000. 正答率(テスト) = 0.9453\n"
          ]
        }
      ]
    },
    {
      "cell_type": "code",
      "metadata": {
        "id": "j2bGaA8B5K9W"
      },
      "source": [
        "lists = range(0, iters_num, plot_interval)"
      ],
      "execution_count": null,
      "outputs": []
    },
    {
      "cell_type": "code",
      "metadata": {
        "colab": {
          "base_uri": "https://localhost:8080/",
          "height": 282
        },
        "id": "ceQA9yYm5RtW",
        "outputId": "361fb1a1-eef4-4864-c080-ed8cbfdd78e9"
      },
      "source": [
        "plt.plot(lists, accuracies_train, label=\"training set\")\n"
      ],
      "execution_count": null,
      "outputs": [
        {
          "output_type": "execute_result",
          "data": {
            "text/plain": [
              "[<matplotlib.lines.Line2D at 0x7f08368a6510>]"
            ]
          },
          "metadata": {},
          "execution_count": 49
        },
        {
          "output_type": "display_data",
          "data": {
            "image/png": "[encoded data removed]",
            "text/plain": [
              "<Figure size 432x288 with 1 Axes>"
            ]
          },
          "metadata": {
            "needs_background": "light"
          }
        }
      ]
    },
    {
      "cell_type": "code",
      "metadata": {
        "colab": {
          "base_uri": "https://localhost:8080/",
          "height": 282
        },
        "id": "kfqx20fc5UIy",
        "outputId": "eeb10036-bf95-47cc-cd10-f8d10fa7190a"
      },
      "source": [
        "plt.plot(lists, accuracies_test,  label=\"test set\")\n"
      ],
      "execution_count": null,
      "outputs": [
        {
          "output_type": "execute_result",
          "data": {
            "text/plain": [
              "[<matplotlib.lines.Line2D at 0x7f08363e25d0>]"
            ]
          },
          "metadata": {},
          "execution_count": 50
        },
        {
          "output_type": "display_data",
          "data": {
            "image/png": "[encoded data removed]",
            "text/plain": [
              "<Figure size 432x288 with 1 Axes>"
            ]
          },
          "metadata": {
            "needs_background": "light"
          }
        }
      ]
    },
    {
      "cell_type": "code",
      "metadata": {
        "colab": {
          "base_uri": "https://localhost:8080/",
          "height": 295
        },
        "id": "VY0gvthP5Z0m",
        "outputId": "5b0d6fb5-bcc2-4a4c-b4fa-a80cc66a5288"
      },
      "source": [
        "lists = range(0, iters_num, plot_interval)\n",
        "plt.plot(lists, accuracies_train, label=\"training set\")\n",
        "plt.plot(lists, accuracies_test,  label=\"test set\")\n",
        "plt.legend(loc=\"lower right\")\n",
        "plt.title(\"accuracy\")\n",
        "plt.xlabel(\"count\")\n",
        "plt.ylabel(\"accuracy\")\n",
        "plt.ylim(0, 1.0)\n",
        "# グラフの表示\n",
        "plt.show()"
      ],
      "execution_count": null,
      "outputs": [
        {
          "output_type": "display_data",
          "data": {
            "image/png": "[encoded data removed]",
            "text/plain": [
              "<Figure size 432x288 with 1 Axes>"
            ]
          },
          "metadata": {
            "needs_background": "light"
          }
        }
      ]
    },
    {
      "cell_type": "markdown",
      "metadata": {
        "id": "b8AuEm-YoXVD"
      },
      "source": [
        "## Adam"
      ]
    },
    {
      "cell_type": "code",
      "metadata": {
        "colab": {
          "base_uri": "https://localhost:8080/"
        },
        "id": "GSiftx6z5u36",
        "outputId": "d00ce3eb-4643-44f7-9527-6718ee5dfca4"
      },
      "source": [
        "# データの読み込み\n",
        "(x_train, d_train), (x_test, d_test) = load_mnist(normalize=True, one_hot_label=True)\n",
        "\n",
        "print(\"データ読み込み完了\")\n",
        "\n",
        "# batch_normalizationの設定 ================================\n",
        "# use_batchnorm = True\n",
        "use_batchnorm = False\n",
        "# ====================================================\n",
        "\n",
        "network = MultiLayerNet(input_size=784, hidden_size_list=[40, 20], output_size=10, activation='sigmoid', weight_init_std=0.01,\n",
        "                       use_batchnorm=use_batchnorm)\n",
        "\n",
        "iters_num = 1000\n",
        "train_size = x_train.shape[0]\n",
        "batch_size = 100\n",
        "learning_rate = 0.01\n",
        "beta1 = 0.9\n",
        "beta2 = 0.999\n",
        "\n",
        "train_loss_list = []\n",
        "accuracies_train = []\n",
        "accuracies_test = []\n",
        "\n",
        "plot_interval=10\n"
      ],
      "execution_count": null,
      "outputs": [
        {
          "output_type": "stream",
          "name": "stdout",
          "text": [
            "データ読み込み完了\n"
          ]
        }
      ]
    },
    {
      "cell_type": "code",
      "metadata": {
        "colab": {
          "base_uri": "https://localhost:8080/"
        },
        "id": "jqqMrOmW5zoo",
        "outputId": "c32bb82a-2bad-47b4-ab22-8f1fd196f5e0"
      },
      "source": [
        "for i in range(iters_num):\n",
        "    batch_mask = np.random.choice(train_size, batch_size)\n",
        "    x_batch = x_train[batch_mask]\n",
        "    d_batch = d_train[batch_mask]\n",
        "\n",
        "    # 勾配\n",
        "    grad = network.gradient(x_batch, d_batch)\n",
        "    if i == 0:\n",
        "        m = {}\n",
        "        v = {}\n",
        "    learning_rate_t  = learning_rate * np.sqrt(1.0 - beta2 ** (i + 1)) / (1.0 - beta1 ** (i + 1))    \n",
        "    for key in ('W1', 'W2', 'W3', 'b1', 'b2', 'b3'):\n",
        "        if i == 0:\n",
        "            m[key] = np.zeros_like(network.params[key])\n",
        "            v[key] = np.zeros_like(network.params[key])\n",
        "            \n",
        "        m[key] += (1 - beta1) * (grad[key] - m[key])\n",
        "        v[key] += (1 - beta2) * (grad[key] ** 2 - v[key])            \n",
        "        network.params[key] -= learning_rate_t * m[key] / (np.sqrt(v[key]) + 1e-7)                \n",
        "        \n",
        "        \n",
        "    if (i + 1) % plot_interval == 0:\n",
        "        accr_test = network.accuracy(x_test, d_test)\n",
        "        accuracies_test.append(accr_test)        \n",
        "        accr_train = network.accuracy(x_batch, d_batch)\n",
        "        accuracies_train.append(accr_train)\n",
        "        loss = network.loss(x_batch, d_batch)\n",
        "        train_loss_list.append(loss)        \n",
        "        \n",
        "        print('Generation: ' + str(i+1) + '. 正答率(トレーニング) = ' + str(accr_train))\n",
        "        print('                : ' + str(i+1) + '. 正答率(テスト) = ' + str(accr_test))\n",
        "                \n"
      ],
      "execution_count": null,
      "outputs": [
        {
          "output_type": "stream",
          "name": "stdout",
          "text": [
            "Generation: 10. 正答率(トレーニング) = 0.1\n",
            "                : 10. 正答率(テスト) = 0.1135\n",
            "Generation: 20. 正答率(トレーニング) = 0.11\n",
            "                : 20. 正答率(テスト) = 0.1135\n",
            "Generation: 30. 正答率(トレーニング) = 0.16\n",
            "                : 30. 正答率(テスト) = 0.1405\n",
            "Generation: 40. 正答率(トレーニング) = 0.19\n",
            "                : 40. 正答率(テスト) = 0.2109\n",
            "Generation: 50. 正答率(トレーニング) = 0.22\n",
            "                : 50. 正答率(テスト) = 0.2097\n",
            "Generation: 60. 正答率(トレーニング) = 0.26\n",
            "                : 60. 正答率(テスト) = 0.2147\n",
            "Generation: 70. 正答率(トレーニング) = 0.24\n",
            "                : 70. 正答率(テスト) = 0.2873\n",
            "Generation: 80. 正答率(トレーニング) = 0.36\n",
            "                : 80. 正答率(テスト) = 0.3646\n",
            "Generation: 90. 正答率(トレーニング) = 0.44\n",
            "                : 90. 正答率(テスト) = 0.3304\n",
            "Generation: 100. 正答率(トレーニング) = 0.4\n",
            "                : 100. 正答率(テスト) = 0.3765\n",
            "Generation: 110. 正答率(トレーニング) = 0.34\n",
            "                : 110. 正答率(テスト) = 0.3976\n",
            "Generation: 120. 正答率(トレーニング) = 0.4\n",
            "                : 120. 正答率(テスト) = 0.4566\n",
            "Generation: 130. 正答率(トレーニング) = 0.43\n",
            "                : 130. 正答率(テスト) = 0.4475\n",
            "Generation: 140. 正答率(トレーニング) = 0.56\n",
            "                : 140. 正答率(テスト) = 0.5028\n",
            "Generation: 150. 正答率(トレーニング) = 0.56\n",
            "                : 150. 正答率(テスト) = 0.5086\n",
            "Generation: 160. 正答率(トレーニング) = 0.53\n",
            "                : 160. 正答率(テスト) = 0.5249\n",
            "Generation: 170. 正答率(トレーニング) = 0.52\n",
            "                : 170. 正答率(テスト) = 0.56\n",
            "Generation: 180. 正答率(トレーニング) = 0.52\n",
            "                : 180. 正答率(テスト) = 0.5955\n",
            "Generation: 190. 正答率(トレーニング) = 0.63\n",
            "                : 190. 正答率(テスト) = 0.5971\n",
            "Generation: 200. 正答率(トレーニング) = 0.64\n",
            "                : 200. 正答率(テスト) = 0.6233\n",
            "Generation: 210. 正答率(トレーニング) = 0.65\n",
            "                : 210. 正答率(テスト) = 0.7193\n",
            "Generation: 220. 正答率(トレーニング) = 0.75\n",
            "                : 220. 正答率(テスト) = 0.7536\n",
            "Generation: 230. 正答率(トレーニング) = 0.79\n",
            "                : 230. 正答率(テスト) = 0.7839\n",
            "Generation: 240. 正答率(トレーニング) = 0.85\n",
            "                : 240. 正答率(テスト) = 0.8225\n",
            "Generation: 250. 正答率(トレーニング) = 0.85\n",
            "                : 250. 正答率(テスト) = 0.8169\n",
            "Generation: 260. 正答率(トレーニング) = 0.85\n",
            "                : 260. 正答率(テスト) = 0.8655\n",
            "Generation: 270. 正答率(トレーニング) = 0.85\n",
            "                : 270. 正答率(テスト) = 0.8661\n",
            "Generation: 280. 正答率(トレーニング) = 0.9\n",
            "                : 280. 正答率(テスト) = 0.873\n",
            "Generation: 290. 正答率(トレーニング) = 0.87\n",
            "                : 290. 正答率(テスト) = 0.884\n",
            "Generation: 300. 正答率(トレーニング) = 0.93\n",
            "                : 300. 正答率(テスト) = 0.8954\n",
            "Generation: 310. 正答率(トレーニング) = 0.88\n",
            "                : 310. 正答率(テスト) = 0.8951\n",
            "Generation: 320. 正答率(トレーニング) = 0.92\n",
            "                : 320. 正答率(テスト) = 0.9069\n",
            "Generation: 330. 正答率(トレーニング) = 0.87\n",
            "                : 330. 正答率(テスト) = 0.9057\n",
            "Generation: 340. 正答率(トレーニング) = 0.94\n",
            "                : 340. 正答率(テスト) = 0.9106\n",
            "Generation: 350. 正答率(トレーニング) = 0.92\n",
            "                : 350. 正答率(テスト) = 0.9099\n",
            "Generation: 360. 正答率(トレーニング) = 0.94\n",
            "                : 360. 正答率(テスト) = 0.9047\n",
            "Generation: 370. 正答率(トレーニング) = 0.91\n",
            "                : 370. 正答率(テスト) = 0.9048\n",
            "Generation: 380. 正答率(トレーニング) = 0.9\n",
            "                : 380. 正答率(テスト) = 0.9155\n",
            "Generation: 390. 正答率(トレーニング) = 0.91\n",
            "                : 390. 正答率(テスト) = 0.9194\n",
            "Generation: 400. 正答率(トレーニング) = 0.95\n",
            "                : 400. 正答率(テスト) = 0.9145\n",
            "Generation: 410. 正答率(トレーニング) = 0.89\n",
            "                : 410. 正答率(テスト) = 0.9206\n",
            "Generation: 420. 正答率(トレーニング) = 0.9\n",
            "                : 420. 正答率(テスト) = 0.9203\n",
            "Generation: 430. 正答率(トレーニング) = 0.96\n",
            "                : 430. 正答率(テスト) = 0.9214\n",
            "Generation: 440. 正答率(トレーニング) = 0.91\n",
            "                : 440. 正答率(テスト) = 0.9231\n",
            "Generation: 450. 正答率(トレーニング) = 0.9\n",
            "                : 450. 正答率(テスト) = 0.921\n",
            "Generation: 460. 正答率(トレーニング) = 0.91\n",
            "                : 460. 正答率(テスト) = 0.925\n",
            "Generation: 470. 正答率(トレーニング) = 0.92\n",
            "                : 470. 正答率(テスト) = 0.9285\n",
            "Generation: 480. 正答率(トレーニング) = 0.93\n",
            "                : 480. 正答率(テスト) = 0.9246\n",
            "Generation: 490. 正答率(トレーニング) = 0.96\n",
            "                : 490. 正答率(テスト) = 0.9289\n",
            "Generation: 500. 正答率(トレーニング) = 0.94\n",
            "                : 500. 正答率(テスト) = 0.9302\n",
            "Generation: 510. 正答率(トレーニング) = 0.93\n",
            "                : 510. 正答率(テスト) = 0.929\n",
            "Generation: 520. 正答率(トレーニング) = 0.91\n",
            "                : 520. 正答率(テスト) = 0.931\n",
            "Generation: 530. 正答率(トレーニング) = 0.91\n",
            "                : 530. 正答率(テスト) = 0.9344\n",
            "Generation: 540. 正答率(トレーニング) = 0.97\n",
            "                : 540. 正答率(テスト) = 0.9336\n",
            "Generation: 550. 正答率(トレーニング) = 0.92\n",
            "                : 550. 正答率(テスト) = 0.9265\n",
            "Generation: 560. 正答率(トレーニング) = 0.95\n",
            "                : 560. 正答率(テスト) = 0.9348\n",
            "Generation: 570. 正答率(トレーニング) = 0.96\n",
            "                : 570. 正答率(テスト) = 0.9372\n",
            "Generation: 580. 正答率(トレーニング) = 0.93\n",
            "                : 580. 正答率(テスト) = 0.9342\n",
            "Generation: 590. 正答率(トレーニング) = 0.91\n",
            "                : 590. 正答率(テスト) = 0.937\n",
            "Generation: 600. 正答率(トレーニング) = 0.88\n",
            "                : 600. 正答率(テスト) = 0.9362\n",
            "Generation: 610. 正答率(トレーニング) = 0.94\n",
            "                : 610. 正答率(テスト) = 0.936\n",
            "Generation: 620. 正答率(トレーニング) = 0.94\n",
            "                : 620. 正答率(テスト) = 0.9359\n",
            "Generation: 630. 正答率(トレーニング) = 0.96\n",
            "                : 630. 正答率(テスト) = 0.9385\n",
            "Generation: 640. 正答率(トレーニング) = 0.95\n",
            "                : 640. 正答率(テスト) = 0.9356\n",
            "Generation: 650. 正答率(トレーニング) = 0.94\n",
            "                : 650. 正答率(テスト) = 0.9363\n",
            "Generation: 660. 正答率(トレーニング) = 0.92\n",
            "                : 660. 正答率(テスト) = 0.934\n",
            "Generation: 670. 正答率(トレーニング) = 0.93\n",
            "                : 670. 正答率(テスト) = 0.9329\n",
            "Generation: 680. 正答率(トレーニング) = 0.96\n",
            "                : 680. 正答率(テスト) = 0.9365\n",
            "Generation: 690. 正答率(トレーニング) = 0.95\n",
            "                : 690. 正答率(テスト) = 0.9414\n",
            "Generation: 700. 正答率(トレーニング) = 0.93\n",
            "                : 700. 正答率(テスト) = 0.9387\n",
            "Generation: 710. 正答率(トレーニング) = 0.96\n",
            "                : 710. 正答率(テスト) = 0.94\n",
            "Generation: 720. 正答率(トレーニング) = 0.98\n",
            "                : 720. 正答率(テスト) = 0.9413\n",
            "Generation: 730. 正答率(トレーニング) = 0.95\n",
            "                : 730. 正答率(テスト) = 0.9399\n",
            "Generation: 740. 正答率(トレーニング) = 0.98\n",
            "                : 740. 正答率(テスト) = 0.9408\n",
            "Generation: 750. 正答率(トレーニング) = 0.93\n",
            "                : 750. 正答率(テスト) = 0.9351\n",
            "Generation: 760. 正答率(トレーニング) = 0.97\n",
            "                : 760. 正答率(テスト) = 0.9397\n",
            "Generation: 770. 正答率(トレーニング) = 0.88\n",
            "                : 770. 正答率(テスト) = 0.9359\n",
            "Generation: 780. 正答率(トレーニング) = 0.98\n",
            "                : 780. 正答率(テスト) = 0.9368\n",
            "Generation: 790. 正答率(トレーニング) = 0.94\n",
            "                : 790. 正答率(テスト) = 0.9369\n",
            "Generation: 800. 正答率(トレーニング) = 0.95\n",
            "                : 800. 正答率(テスト) = 0.9393\n",
            "Generation: 810. 正答率(トレーニング) = 0.95\n",
            "                : 810. 正答率(テスト) = 0.9366\n",
            "Generation: 820. 正答率(トレーニング) = 0.95\n",
            "                : 820. 正答率(テスト) = 0.9313\n",
            "Generation: 830. 正答率(トレーニング) = 0.95\n",
            "                : 830. 正答率(テスト) = 0.9298\n",
            "Generation: 840. 正答率(トレーニング) = 0.97\n",
            "                : 840. 正答率(テスト) = 0.9347\n",
            "Generation: 850. 正答率(トレーニング) = 0.92\n",
            "                : 850. 正答率(テスト) = 0.9321\n",
            "Generation: 860. 正答率(トレーニング) = 0.96\n",
            "                : 860. 正答率(テスト) = 0.9423\n",
            "Generation: 870. 正答率(トレーニング) = 0.93\n",
            "                : 870. 正答率(テスト) = 0.9387\n",
            "Generation: 880. 正答率(トレーニング) = 0.97\n",
            "                : 880. 正答率(テスト) = 0.9448\n",
            "Generation: 890. 正答率(トレーニング) = 0.96\n",
            "                : 890. 正答率(テスト) = 0.9442\n",
            "Generation: 900. 正答率(トレーニング) = 0.94\n",
            "                : 900. 正答率(テスト) = 0.9438\n",
            "Generation: 910. 正答率(トレーニング) = 0.91\n",
            "                : 910. 正答率(テスト) = 0.9431\n",
            "Generation: 920. 正答率(トレーニング) = 0.98\n",
            "                : 920. 正答率(テスト) = 0.9418\n",
            "Generation: 930. 正答率(トレーニング) = 0.97\n",
            "                : 930. 正答率(テスト) = 0.9419\n",
            "Generation: 940. 正答率(トレーニング) = 0.97\n",
            "                : 940. 正答率(テスト) = 0.9426\n",
            "Generation: 950. 正答率(トレーニング) = 0.96\n",
            "                : 950. 正答率(テスト) = 0.9457\n",
            "Generation: 960. 正答率(トレーニング) = 0.99\n",
            "                : 960. 正答率(テスト) = 0.9396\n",
            "Generation: 970. 正答率(トレーニング) = 0.97\n",
            "                : 970. 正答率(テスト) = 0.9466\n",
            "Generation: 980. 正答率(トレーニング) = 0.97\n",
            "                : 980. 正答率(テスト) = 0.9415\n",
            "Generation: 990. 正答率(トレーニング) = 0.97\n",
            "                : 990. 正答率(テスト) = 0.9445\n",
            "Generation: 1000. 正答率(トレーニング) = 0.93\n",
            "                : 1000. 正答率(テスト) = 0.9472\n"
          ]
        }
      ]
    },
    {
      "cell_type": "code",
      "metadata": {
        "id": "oC3KyPSH52vz"
      },
      "source": [
        "lists = range(0, iters_num, plot_interval)"
      ],
      "execution_count": null,
      "outputs": []
    },
    {
      "cell_type": "code",
      "metadata": {
        "colab": {
          "base_uri": "https://localhost:8080/",
          "height": 282
        },
        "id": "DgKbc6Hj5-cG",
        "outputId": "12509926-1cac-402d-e80c-6ad77e31108b"
      },
      "source": [
        "plt.plot(lists, accuracies_train, label=\"training set\")"
      ],
      "execution_count": null,
      "outputs": [
        {
          "output_type": "execute_result",
          "data": {
            "text/plain": [
              "[<matplotlib.lines.Line2D at 0x7f0836715690>]"
            ]
          },
          "metadata": {},
          "execution_count": 55
        },
        {
          "output_type": "display_data",
          "data": {
            "image/png": "[encoded data removed]",
            "text/plain": [
              "<Figure size 432x288 with 1 Axes>"
            ]
          },
          "metadata": {
            "needs_background": "light"
          }
        }
      ]
    },
    {
      "cell_type": "code",
      "metadata": {
        "colab": {
          "base_uri": "https://localhost:8080/",
          "height": 282
        },
        "id": "41WtUlCR6A6G",
        "outputId": "95508f3a-a531-47dd-c726-265ac18d86f2"
      },
      "source": [
        "plt.plot(lists, accuracies_test,  label=\"test set\")"
      ],
      "execution_count": null,
      "outputs": [
        {
          "output_type": "execute_result",
          "data": {
            "text/plain": [
              "[<matplotlib.lines.Line2D at 0x7f0836e2e690>]"
            ]
          },
          "metadata": {},
          "execution_count": 56
        },
        {
          "output_type": "display_data",
          "data": {
            "image/png": "[encoded data removed]",
            "text/plain": [
              "<Figure size 432x288 with 1 Axes>"
            ]
          },
          "metadata": {
            "needs_background": "light"
          }
        }
      ]
    },
    {
      "cell_type": "code",
      "metadata": {
        "colab": {
          "base_uri": "https://localhost:8080/",
          "height": 295
        },
        "id": "mnMxyNP06C93",
        "outputId": "d9705d0a-9e8b-4a23-b870-2a27e6a9ba2a"
      },
      "source": [
        "lists = range(0, iters_num, plot_interval)\n",
        "plt.plot(lists, accuracies_train, label=\"training set\")\n",
        "plt.plot(lists, accuracies_test,  label=\"test set\")\n",
        "plt.legend(loc=\"lower right\")\n",
        "plt.title(\"accuracy\")\n",
        "plt.xlabel(\"count\")\n",
        "plt.ylabel(\"accuracy\")\n",
        "plt.ylim(0, 1.0)\n",
        "# グラフの表示\n",
        "plt.show()"
      ],
      "execution_count": null,
      "outputs": [
        {
          "output_type": "display_data",
          "data": {
            "image/png": "[encoded data removed]",
            "text/plain": [
              "<Figure size 432x288 with 1 Axes>"
            ]
          },
          "metadata": {
            "needs_background": "light"
          }
        }
      ]
    },
    {
      "cell_type": "markdown",
      "metadata": {
        "id": "vES2U8SwoXVH"
      },
      "source": [
        "---------------------------------------------------------------------------------------------------------------------------------------------------------------------------------------------\n",
        "## [try] 学習率を変えてみよう"
      ]
    },
    {
      "cell_type": "markdown",
      "metadata": {
        "id": "MH537niB6Zv0"
      },
      "source": [
        "**try1:learning_rate = 0.1**"
      ]
    },
    {
      "cell_type": "code",
      "metadata": {
        "colab": {
          "base_uri": "https://localhost:8080/",
          "height": 1000
        },
        "id": "IyLWBSjX6US0",
        "outputId": "cb4e1e27-3fbc-4458-f9bc-833ce603e9eb"
      },
      "source": [
        "# データの読み込み\n",
        "(x_train, d_train), (x_test, d_test) = load_mnist(normalize=True, one_hot_label=True)\n",
        "\n",
        "print(\"データ読み込み完了\")\n",
        "\n",
        "# batch_normalizationの設定 ================================\n",
        "# use_batchnorm = True\n",
        "use_batchnorm = False\n",
        "# ====================================================\n",
        "\n",
        "network = MultiLayerNet(input_size=784, hidden_size_list=[40, 20], output_size=10, activation='sigmoid', weight_init_std=0.01,\n",
        "                       use_batchnorm=use_batchnorm)\n",
        "\n",
        "iters_num = 1000\n",
        "train_size = x_train.shape[0]\n",
        "batch_size = 100\n",
        "learning_rate = 0.1\n",
        "beta1 = 0.9\n",
        "beta2 = 0.999\n",
        "\n",
        "train_loss_list = []\n",
        "accuracies_train = []\n",
        "accuracies_test = []\n",
        "\n",
        "plot_interval=10\n",
        "\n",
        "for i in range(iters_num):\n",
        "    batch_mask = np.random.choice(train_size, batch_size)\n",
        "    x_batch = x_train[batch_mask]\n",
        "    d_batch = d_train[batch_mask]\n",
        "\n",
        "    # 勾配\n",
        "    grad = network.gradient(x_batch, d_batch)\n",
        "    if i == 0:\n",
        "        m = {}\n",
        "        v = {}\n",
        "    learning_rate_t  = learning_rate * np.sqrt(1.0 - beta2 ** (i + 1)) / (1.0 - beta1 ** (i + 1))    \n",
        "    for key in ('W1', 'W2', 'W3', 'b1', 'b2', 'b3'):\n",
        "        if i == 0:\n",
        "            m[key] = np.zeros_like(network.params[key])\n",
        "            v[key] = np.zeros_like(network.params[key])\n",
        "            \n",
        "        m[key] += (1 - beta1) * (grad[key] - m[key])\n",
        "        v[key] += (1 - beta2) * (grad[key] ** 2 - v[key])            \n",
        "        network.params[key] -= learning_rate_t * m[key] / (np.sqrt(v[key]) + 1e-7)                \n",
        "        \n",
        "        \n",
        "    if (i + 1) % plot_interval == 0:\n",
        "        accr_test = network.accuracy(x_test, d_test)\n",
        "        accuracies_test.append(accr_test)        \n",
        "        accr_train = network.accuracy(x_batch, d_batch)\n",
        "        accuracies_train.append(accr_train)\n",
        "        loss = network.loss(x_batch, d_batch)\n",
        "        train_loss_list.append(loss)        \n",
        "        \n",
        "        print('Generation: ' + str(i+1) + '. 正答率(トレーニング) = ' + str(accr_train))\n",
        "        print('                : ' + str(i+1) + '. 正答率(テスト) = ' + str(accr_test))\n",
        "                \n",
        "\n",
        "lists = range(0, iters_num, plot_interval)\n",
        "plt.plot(lists, accuracies_train, label=\"training set\")\n",
        "plt.plot(lists, accuracies_test,  label=\"test set\")\n",
        "plt.legend(loc=\"lower right\")\n",
        "plt.title(\"accuracy\")\n",
        "plt.xlabel(\"count\")\n",
        "plt.ylabel(\"accuracy\")\n",
        "plt.ylim(0, 1.0)\n",
        "# グラフの表示\n",
        "plt.show()"
      ],
      "execution_count": null,
      "outputs": [
        {
          "output_type": "stream",
          "name": "stdout",
          "text": [
            "データ読み込み完了\n",
            "Generation: 10. 正答率(トレーニング) = 0.1\n",
            "                : 10. 正答率(テスト) = 0.1135\n",
            "Generation: 20. 正答率(トレーニング) = 0.16\n",
            "                : 20. 正答率(テスト) = 0.1028\n",
            "Generation: 30. 正答率(トレーニング) = 0.16\n",
            "                : 30. 正答率(テスト) = 0.0974\n",
            "Generation: 40. 正答率(トレーニング) = 0.16\n",
            "                : 40. 正答率(テスト) = 0.101\n",
            "Generation: 50. 正答率(トレーニング) = 0.15\n",
            "                : 50. 正答率(テスト) = 0.0958\n",
            "Generation: 60. 正答率(トレーニング) = 0.09\n",
            "                : 60. 正答率(テスト) = 0.101\n",
            "Generation: 70. 正答率(トレーニング) = 0.13\n",
            "                : 70. 正答率(テスト) = 0.1028\n",
            "Generation: 80. 正答率(トレーニング) = 0.06\n",
            "                : 80. 正答率(テスト) = 0.1135\n",
            "Generation: 90. 正答率(トレーニング) = 0.12\n",
            "                : 90. 正答率(テスト) = 0.101\n",
            "Generation: 100. 正答率(トレーニング) = 0.08\n",
            "                : 100. 正答率(テスト) = 0.1032\n",
            "Generation: 110. 正答率(トレーニング) = 0.1\n",
            "                : 110. 正答率(テスト) = 0.098\n",
            "Generation: 120. 正答率(トレーニング) = 0.11\n",
            "                : 120. 正答率(テスト) = 0.1028\n",
            "Generation: 130. 正答率(トレーニング) = 0.12\n",
            "                : 130. 正答率(テスト) = 0.098\n",
            "Generation: 140. 正答率(トレーニング) = 0.08\n",
            "                : 140. 正答率(テスト) = 0.1032\n",
            "Generation: 150. 正答率(トレーニング) = 0.08\n",
            "                : 150. 正答率(テスト) = 0.1135\n",
            "Generation: 160. 正答率(トレーニング) = 0.08\n",
            "                : 160. 正答率(テスト) = 0.101\n",
            "Generation: 170. 正答率(トレーニング) = 0.13\n",
            "                : 170. 正答率(テスト) = 0.1028\n",
            "Generation: 180. 正答率(トレーニング) = 0.11\n",
            "                : 180. 正答率(テスト) = 0.0974\n",
            "Generation: 190. 正答率(トレーニング) = 0.1\n",
            "                : 190. 正答率(テスト) = 0.1009\n",
            "Generation: 200. 正答率(トレーニング) = 0.13\n",
            "                : 200. 正答率(テスト) = 0.1135\n",
            "Generation: 210. 正答率(トレーニング) = 0.05\n",
            "                : 210. 正答率(テスト) = 0.1032\n",
            "Generation: 220. 正答率(トレーニング) = 0.09\n",
            "                : 220. 正答率(テスト) = 0.0958\n",
            "Generation: 230. 正答率(トレーニング) = 0.09\n",
            "                : 230. 正答率(テスト) = 0.101\n",
            "Generation: 240. 正答率(トレーニング) = 0.11\n",
            "                : 240. 正答率(テスト) = 0.1135\n",
            "Generation: 250. 正答率(トレーニング) = 0.08\n",
            "                : 250. 正答率(テスト) = 0.1032\n",
            "Generation: 260. 正答率(トレーニング) = 0.14\n",
            "                : 260. 正答率(テスト) = 0.098\n",
            "Generation: 270. 正答率(トレーニング) = 0.09\n",
            "                : 270. 正答率(テスト) = 0.1135\n",
            "Generation: 280. 正答率(トレーニング) = 0.14\n",
            "                : 280. 正答率(テスト) = 0.1135\n",
            "Generation: 290. 正答率(トレーニング) = 0.11\n",
            "                : 290. 正答率(テスト) = 0.1135\n",
            "Generation: 300. 正答率(トレーニング) = 0.08\n",
            "                : 300. 正答率(テスト) = 0.1009\n",
            "Generation: 310. 正答率(トレーニング) = 0.1\n",
            "                : 310. 正答率(テスト) = 0.0958\n",
            "Generation: 320. 正答率(トレーニング) = 0.05\n",
            "                : 320. 正答率(テスト) = 0.1028\n",
            "Generation: 330. 正答率(トレーニング) = 0.16\n",
            "                : 330. 正答率(テスト) = 0.1135\n",
            "Generation: 340. 正答率(トレーニング) = 0.08\n",
            "                : 340. 正答率(テスト) = 0.1135\n",
            "Generation: 350. 正答率(トレーニング) = 0.08\n",
            "                : 350. 正答率(テスト) = 0.1135\n",
            "Generation: 360. 正答率(トレーニング) = 0.12\n",
            "                : 360. 正答率(テスト) = 0.0982\n",
            "Generation: 370. 正答率(トレーニング) = 0.15\n",
            "                : 370. 正答率(テスト) = 0.1028\n",
            "Generation: 380. 正答率(トレーニング) = 0.07\n",
            "                : 380. 正答率(テスト) = 0.098\n",
            "Generation: 390. 正答率(トレーニング) = 0.07\n",
            "                : 390. 正答率(テスト) = 0.0958\n",
            "Generation: 400. 正答率(トレーニング) = 0.11\n",
            "                : 400. 正答率(テスト) = 0.0982\n",
            "Generation: 410. 正答率(トレーニング) = 0.14\n",
            "                : 410. 正答率(テスト) = 0.098\n",
            "Generation: 420. 正答率(トレーニング) = 0.12\n",
            "                : 420. 正答率(テスト) = 0.101\n",
            "Generation: 430. 正答率(トレーニング) = 0.1\n",
            "                : 430. 正答率(テスト) = 0.1028\n",
            "Generation: 440. 正答率(トレーニング) = 0.1\n",
            "                : 440. 正答率(テスト) = 0.1028\n",
            "Generation: 450. 正答率(トレーニング) = 0.12\n",
            "                : 450. 正答率(テスト) = 0.1135\n",
            "Generation: 460. 正答率(トレーニング) = 0.08\n",
            "                : 460. 正答率(テスト) = 0.1135\n",
            "Generation: 470. 正答率(トレーニング) = 0.15\n",
            "                : 470. 正答率(テスト) = 0.1009\n",
            "Generation: 480. 正答率(トレーニング) = 0.07\n",
            "                : 480. 正答率(テスト) = 0.1009\n",
            "Generation: 490. 正答率(トレーニング) = 0.12\n",
            "                : 490. 正答率(テスト) = 0.0958\n",
            "Generation: 500. 正答率(トレーニング) = 0.12\n",
            "                : 500. 正答率(テスト) = 0.101\n",
            "Generation: 510. 正答率(トレーニング) = 0.09\n",
            "                : 510. 正答率(テスト) = 0.0982\n",
            "Generation: 520. 正答率(トレーニング) = 0.1\n",
            "                : 520. 正答率(テスト) = 0.1135\n",
            "Generation: 530. 正答率(トレーニング) = 0.05\n",
            "                : 530. 正答率(テスト) = 0.1028\n",
            "Generation: 540. 正答率(トレーニング) = 0.09\n",
            "                : 540. 正答率(テスト) = 0.0974\n",
            "Generation: 550. 正答率(トレーニング) = 0.09\n",
            "                : 550. 正答率(テスト) = 0.098\n",
            "Generation: 560. 正答率(トレーニング) = 0.11\n",
            "                : 560. 正答率(テスト) = 0.0982\n",
            "Generation: 570. 正答率(トレーニング) = 0.1\n",
            "                : 570. 正答率(テスト) = 0.1135\n",
            "Generation: 580. 正答率(トレーニング) = 0.11\n",
            "                : 580. 正答率(テスト) = 0.1028\n",
            "Generation: 590. 正答率(トレーニング) = 0.12\n",
            "                : 590. 正答率(テスト) = 0.101\n",
            "Generation: 600. 正答率(トレーニング) = 0.09\n",
            "                : 600. 正答率(テスト) = 0.1135\n",
            "Generation: 610. 正答率(トレーニング) = 0.11\n",
            "                : 610. 正答率(テスト) = 0.1135\n",
            "Generation: 620. 正答率(トレーニング) = 0.11\n",
            "                : 620. 正答率(テスト) = 0.1009\n",
            "Generation: 630. 正答率(トレーニング) = 0.11\n",
            "                : 630. 正答率(テスト) = 0.1135\n",
            "Generation: 640. 正答率(トレーニング) = 0.08\n",
            "                : 640. 正答率(テスト) = 0.1028\n",
            "Generation: 650. 正答率(トレーニング) = 0.11\n",
            "                : 650. 正答率(テスト) = 0.1028\n",
            "Generation: 660. 正答率(トレーニング) = 0.11\n",
            "                : 660. 正答率(テスト) = 0.101\n",
            "Generation: 670. 正答率(トレーニング) = 0.11\n",
            "                : 670. 正答率(テスト) = 0.098\n",
            "Generation: 680. 正答率(トレーニング) = 0.1\n",
            "                : 680. 正答率(テスト) = 0.098\n",
            "Generation: 690. 正答率(トレーニング) = 0.09\n",
            "                : 690. 正答率(テスト) = 0.0974\n",
            "Generation: 700. 正答率(トレーニング) = 0.1\n",
            "                : 700. 正答率(テスト) = 0.1028\n",
            "Generation: 710. 正答率(トレーニング) = 0.09\n",
            "                : 710. 正答率(テスト) = 0.1028\n",
            "Generation: 720. 正答率(トレーニング) = 0.08\n",
            "                : 720. 正答率(テスト) = 0.0974\n",
            "Generation: 730. 正答率(トレーニング) = 0.11\n",
            "                : 730. 正答率(テスト) = 0.1032\n",
            "Generation: 740. 正答率(トレーニング) = 0.11\n",
            "                : 740. 正答率(テスト) = 0.0982\n",
            "Generation: 750. 正答率(トレーニング) = 0.11\n",
            "                : 750. 正答率(テスト) = 0.1135\n",
            "Generation: 760. 正答率(トレーニング) = 0.1\n",
            "                : 760. 正答率(テスト) = 0.101\n",
            "Generation: 770. 正答率(トレーニング) = 0.09\n",
            "                : 770. 正答率(テスト) = 0.1028\n",
            "Generation: 780. 正答率(トレーニング) = 0.14\n",
            "                : 780. 正答率(テスト) = 0.1135\n",
            "Generation: 790. 正答率(トレーニング) = 0.14\n",
            "                : 790. 正答率(テスト) = 0.1135\n",
            "Generation: 800. 正答率(トレーニング) = 0.12\n",
            "                : 800. 正答率(テスト) = 0.1028\n",
            "Generation: 810. 正答率(トレーニング) = 0.08\n",
            "                : 810. 正答率(テスト) = 0.1135\n",
            "Generation: 820. 正答率(トレーニング) = 0.13\n",
            "                : 820. 正答率(テスト) = 0.1135\n",
            "Generation: 830. 正答率(トレーニング) = 0.15\n",
            "                : 830. 正答率(テスト) = 0.101\n",
            "Generation: 840. 正答率(トレーニング) = 0.11\n",
            "                : 840. 正答率(テスト) = 0.101\n",
            "Generation: 850. 正答率(トレーニング) = 0.12\n",
            "                : 850. 正答率(テスト) = 0.1028\n",
            "Generation: 860. 正答率(トレーニング) = 0.11\n",
            "                : 860. 正答率(テスト) = 0.1135\n",
            "Generation: 870. 正答率(トレーニング) = 0.11\n",
            "                : 870. 正答率(テスト) = 0.0974\n",
            "Generation: 880. 正答率(トレーニング) = 0.04\n",
            "                : 880. 正答率(テスト) = 0.1028\n",
            "Generation: 890. 正答率(トレーニング) = 0.16\n",
            "                : 890. 正答率(テスト) = 0.1135\n",
            "Generation: 900. 正答率(トレーニング) = 0.1\n",
            "                : 900. 正答率(テスト) = 0.1135\n",
            "Generation: 910. 正答率(トレーニング) = 0.08\n",
            "                : 910. 正答率(テスト) = 0.101\n",
            "Generation: 920. 正答率(トレーニング) = 0.06\n",
            "                : 920. 正答率(テスト) = 0.1009\n",
            "Generation: 930. 正答率(トレーニング) = 0.14\n",
            "                : 930. 正答率(テスト) = 0.098\n",
            "Generation: 940. 正答率(トレーニング) = 0.12\n",
            "                : 940. 正答率(テスト) = 0.1032\n",
            "Generation: 950. 正答率(トレーニング) = 0.06\n",
            "                : 950. 正答率(テスト) = 0.1009\n",
            "Generation: 960. 正答率(トレーニング) = 0.11\n",
            "                : 960. 正答率(テスト) = 0.1028\n",
            "Generation: 970. 正答率(トレーニング) = 0.11\n",
            "                : 970. 正答率(テスト) = 0.1135\n",
            "Generation: 980. 正答率(トレーニング) = 0.11\n",
            "                : 980. 正答率(テスト) = 0.0974\n",
            "Generation: 990. 正答率(トレーニング) = 0.13\n",
            "                : 990. 正答率(テスト) = 0.098\n",
            "Generation: 1000. 正答率(トレーニング) = 0.08\n",
            "                : 1000. 正答率(テスト) = 0.1135\n"
          ]
        },
        {
          "output_type": "display_data",
          "data": {
            "image/png": "[encoded data removed]",
            "text/plain": [
              "<Figure size 432x288 with 1 Axes>"
            ]
          },
          "metadata": {
            "needs_background": "light"
          }
        }
      ]
    },
    {
      "cell_type": "markdown",
      "metadata": {
        "id": "zs63wOti6l9k"
      },
      "source": [
        "**tyr2:learning_rate = 0.05**"
      ]
    },
    {
      "cell_type": "code",
      "metadata": {
        "colab": {
          "base_uri": "https://localhost:8080/",
          "height": 1000
        },
        "id": "lw6PbpP16dWF",
        "outputId": "26bfbca1-3bff-4ce7-bac6-7039127bc5b9"
      },
      "source": [
        "# データの読み込み\n",
        "(x_train, d_train), (x_test, d_test) = load_mnist(normalize=True, one_hot_label=True)\n",
        "\n",
        "print(\"データ読み込み完了\")\n",
        "\n",
        "# batch_normalizationの設定 ================================\n",
        "# use_batchnorm = True\n",
        "use_batchnorm = False\n",
        "# ====================================================\n",
        "\n",
        "network = MultiLayerNet(input_size=784, hidden_size_list=[40, 20], output_size=10, activation='sigmoid', weight_init_std=0.01,\n",
        "                       use_batchnorm=use_batchnorm)\n",
        "\n",
        "iters_num = 1000\n",
        "train_size = x_train.shape[0]\n",
        "batch_size = 100\n",
        "learning_rate = 0.05\n",
        "beta1 = 0.9\n",
        "beta2 = 0.999\n",
        "\n",
        "train_loss_list = []\n",
        "accuracies_train = []\n",
        "accuracies_test = []\n",
        "\n",
        "plot_interval=10\n",
        "\n",
        "for i in range(iters_num):\n",
        "    batch_mask = np.random.choice(train_size, batch_size)\n",
        "    x_batch = x_train[batch_mask]\n",
        "    d_batch = d_train[batch_mask]\n",
        "\n",
        "    # 勾配\n",
        "    grad = network.gradient(x_batch, d_batch)\n",
        "    if i == 0:\n",
        "        m = {}\n",
        "        v = {}\n",
        "    learning_rate_t  = learning_rate * np.sqrt(1.0 - beta2 ** (i + 1)) / (1.0 - beta1 ** (i + 1))    \n",
        "    for key in ('W1', 'W2', 'W3', 'b1', 'b2', 'b3'):\n",
        "        if i == 0:\n",
        "            m[key] = np.zeros_like(network.params[key])\n",
        "            v[key] = np.zeros_like(network.params[key])\n",
        "            \n",
        "        m[key] += (1 - beta1) * (grad[key] - m[key])\n",
        "        v[key] += (1 - beta2) * (grad[key] ** 2 - v[key])            \n",
        "        network.params[key] -= learning_rate_t * m[key] / (np.sqrt(v[key]) + 1e-7)                \n",
        "        \n",
        "        \n",
        "    if (i + 1) % plot_interval == 0:\n",
        "        accr_test = network.accuracy(x_test, d_test)\n",
        "        accuracies_test.append(accr_test)        \n",
        "        accr_train = network.accuracy(x_batch, d_batch)\n",
        "        accuracies_train.append(accr_train)\n",
        "        loss = network.loss(x_batch, d_batch)\n",
        "        train_loss_list.append(loss)        \n",
        "        \n",
        "        print('Generation: ' + str(i+1) + '. 正答率(トレーニング) = ' + str(accr_train))\n",
        "        print('                : ' + str(i+1) + '. 正答率(テスト) = ' + str(accr_test))\n",
        "                \n",
        "\n",
        "lists = range(0, iters_num, plot_interval)\n",
        "plt.plot(lists, accuracies_train, label=\"training set\")\n",
        "plt.plot(lists, accuracies_test,  label=\"test set\")\n",
        "plt.legend(loc=\"lower right\")\n",
        "plt.title(\"accuracy\")\n",
        "plt.xlabel(\"count\")\n",
        "plt.ylabel(\"accuracy\")\n",
        "plt.ylim(0, 1.0)\n",
        "# グラフの表示\n",
        "plt.show()"
      ],
      "execution_count": null,
      "outputs": [
        {
          "output_type": "stream",
          "name": "stdout",
          "text": [
            "データ読み込み完了\n",
            "Generation: 10. 正答率(トレーニング) = 0.11\n",
            "                : 10. 正答率(テスト) = 0.0974\n",
            "Generation: 20. 正答率(トレーニング) = 0.15\n",
            "                : 20. 正答率(テスト) = 0.1135\n",
            "Generation: 30. 正答率(トレーニング) = 0.1\n",
            "                : 30. 正答率(テスト) = 0.101\n",
            "Generation: 40. 正答率(トレーニング) = 0.12\n",
            "                : 40. 正答率(テスト) = 0.1135\n",
            "Generation: 50. 正答率(トレーニング) = 0.16\n",
            "                : 50. 正答率(テスト) = 0.1135\n",
            "Generation: 60. 正答率(トレーニング) = 0.1\n",
            "                : 60. 正答率(テスト) = 0.1135\n",
            "Generation: 70. 正答率(トレーニング) = 0.11\n",
            "                : 70. 正答率(テスト) = 0.0982\n",
            "Generation: 80. 正答率(トレーニング) = 0.1\n",
            "                : 80. 正答率(テスト) = 0.101\n",
            "Generation: 90. 正答率(トレーニング) = 0.08\n",
            "                : 90. 正答率(テスト) = 0.1028\n",
            "Generation: 100. 正答率(トレーニング) = 0.16\n",
            "                : 100. 正答率(テスト) = 0.1135\n",
            "Generation: 110. 正答率(トレーニング) = 0.08\n",
            "                : 110. 正答率(テスト) = 0.1135\n",
            "Generation: 120. 正答率(トレーニング) = 0.1\n",
            "                : 120. 正答率(テスト) = 0.0974\n",
            "Generation: 130. 正答率(トレーニング) = 0.07\n",
            "                : 130. 正答率(テスト) = 0.0974\n",
            "Generation: 140. 正答率(トレーニング) = 0.07\n",
            "                : 140. 正答率(テスト) = 0.101\n",
            "Generation: 150. 正答率(トレーニング) = 0.1\n",
            "                : 150. 正答率(テスト) = 0.1135\n",
            "Generation: 160. 正答率(トレーニング) = 0.11\n",
            "                : 160. 正答率(テスト) = 0.0974\n",
            "Generation: 170. 正答率(トレーニング) = 0.06\n",
            "                : 170. 正答率(テスト) = 0.0958\n",
            "Generation: 180. 正答率(トレーニング) = 0.1\n",
            "                : 180. 正答率(テスト) = 0.1135\n",
            "Generation: 190. 正答率(トレーニング) = 0.11\n",
            "                : 190. 正答率(テスト) = 0.1135\n",
            "Generation: 200. 正答率(トレーニング) = 0.1\n",
            "                : 200. 正答率(テスト) = 0.1135\n",
            "Generation: 210. 正答率(トレーニング) = 0.12\n",
            "                : 210. 正答率(テスト) = 0.101\n",
            "Generation: 220. 正答率(トレーニング) = 0.1\n",
            "                : 220. 正答率(テスト) = 0.098\n",
            "Generation: 230. 正答率(トレーニング) = 0.15\n",
            "                : 230. 正答率(テスト) = 0.0982\n",
            "Generation: 240. 正答率(トレーニング) = 0.08\n",
            "                : 240. 正答率(テスト) = 0.0982\n",
            "Generation: 250. 正答率(トレーニング) = 0.08\n",
            "                : 250. 正答率(テスト) = 0.101\n",
            "Generation: 260. 正答率(トレーニング) = 0.05\n",
            "                : 260. 正答率(テスト) = 0.101\n",
            "Generation: 270. 正答率(トレーニング) = 0.16\n",
            "                : 270. 正答率(テスト) = 0.1028\n",
            "Generation: 280. 正答率(トレーニング) = 0.13\n",
            "                : 280. 正答率(テスト) = 0.0974\n",
            "Generation: 290. 正答率(トレーニング) = 0.08\n",
            "                : 290. 正答率(テスト) = 0.0974\n",
            "Generation: 300. 正答率(トレーニング) = 0.14\n",
            "                : 300. 正答率(テスト) = 0.1135\n",
            "Generation: 310. 正答率(トレーニング) = 0.12\n",
            "                : 310. 正答率(テスト) = 0.1135\n",
            "Generation: 320. 正答率(トレーニング) = 0.11\n",
            "                : 320. 正答率(テスト) = 0.1135\n",
            "Generation: 330. 正答率(トレーニング) = 0.08\n",
            "                : 330. 正答率(テスト) = 0.1135\n",
            "Generation: 340. 正答率(トレーニング) = 0.13\n",
            "                : 340. 正答率(テスト) = 0.101\n",
            "Generation: 350. 正答率(トレーニング) = 0.11\n",
            "                : 350. 正答率(テスト) = 0.1135\n",
            "Generation: 360. 正答率(トレーニング) = 0.1\n",
            "                : 360. 正答率(テスト) = 0.1028\n",
            "Generation: 370. 正答率(トレーニング) = 0.15\n",
            "                : 370. 正答率(テスト) = 0.1028\n",
            "Generation: 380. 正答率(トレーニング) = 0.04\n",
            "                : 380. 正答率(テスト) = 0.1028\n",
            "Generation: 390. 正答率(トレーニング) = 0.06\n",
            "                : 390. 正答率(テスト) = 0.1135\n",
            "Generation: 400. 正答率(トレーニング) = 0.11\n",
            "                : 400. 正答率(テスト) = 0.1135\n",
            "Generation: 410. 正答率(トレーニング) = 0.11\n",
            "                : 410. 正答率(テスト) = 0.1135\n",
            "Generation: 420. 正答率(トレーニング) = 0.13\n",
            "                : 420. 正答率(テスト) = 0.1135\n",
            "Generation: 430. 正答率(トレーニング) = 0.1\n",
            "                : 430. 正答率(テスト) = 0.1028\n",
            "Generation: 440. 正答率(トレーニング) = 0.09\n",
            "                : 440. 正答率(テスト) = 0.1009\n",
            "Generation: 450. 正答率(トレーニング) = 0.04\n",
            "                : 450. 正答率(テスト) = 0.0892\n",
            "Generation: 460. 正答率(トレーニング) = 0.19\n",
            "                : 460. 正答率(テスト) = 0.1135\n",
            "Generation: 470. 正答率(トレーニング) = 0.14\n",
            "                : 470. 正答率(テスト) = 0.1135\n",
            "Generation: 480. 正答率(トレーニング) = 0.05\n",
            "                : 480. 正答率(テスト) = 0.101\n",
            "Generation: 490. 正答率(トレーニング) = 0.07\n",
            "                : 490. 正答率(テスト) = 0.1135\n",
            "Generation: 500. 正答率(トレーニング) = 0.07\n",
            "                : 500. 正答率(テスト) = 0.1009\n",
            "Generation: 510. 正答率(トレーニング) = 0.12\n",
            "                : 510. 正答率(テスト) = 0.1009\n",
            "Generation: 520. 正答率(トレーニング) = 0.11\n",
            "                : 520. 正答率(テスト) = 0.1135\n",
            "Generation: 530. 正答率(トレーニング) = 0.12\n",
            "                : 530. 正答率(テスト) = 0.098\n",
            "Generation: 540. 正答率(トレーニング) = 0.07\n",
            "                : 540. 正答率(テスト) = 0.1028\n",
            "Generation: 550. 正答率(トレーニング) = 0.1\n",
            "                : 550. 正答率(テスト) = 0.1032\n",
            "Generation: 560. 正答率(トレーニング) = 0.07\n",
            "                : 560. 正答率(テスト) = 0.1032\n",
            "Generation: 570. 正答率(トレーニング) = 0.1\n",
            "                : 570. 正答率(テスト) = 0.101\n",
            "Generation: 580. 正答率(トレーニング) = 0.07\n",
            "                : 580. 正答率(テスト) = 0.1135\n",
            "Generation: 590. 正答率(トレーニング) = 0.14\n",
            "                : 590. 正答率(テスト) = 0.1135\n",
            "Generation: 600. 正答率(トレーニング) = 0.1\n",
            "                : 600. 正答率(テスト) = 0.1009\n",
            "Generation: 610. 正答率(トレーニング) = 0.08\n",
            "                : 610. 正答率(テスト) = 0.1028\n",
            "Generation: 620. 正答率(トレーニング) = 0.1\n",
            "                : 620. 正答率(テスト) = 0.1028\n",
            "Generation: 630. 正答率(トレーニング) = 0.08\n",
            "                : 630. 正答率(テスト) = 0.1135\n",
            "Generation: 640. 正答率(トレーニング) = 0.12\n",
            "                : 640. 正答率(テスト) = 0.1135\n",
            "Generation: 650. 正答率(トレーニング) = 0.09\n",
            "                : 650. 正答率(テスト) = 0.1135\n",
            "Generation: 660. 正答率(トレーニング) = 0.05\n",
            "                : 660. 正答率(テスト) = 0.1028\n",
            "Generation: 670. 正答率(トレーニング) = 0.09\n",
            "                : 670. 正答率(テスト) = 0.1028\n",
            "Generation: 680. 正答率(トレーニング) = 0.09\n",
            "                : 680. 正答率(テスト) = 0.1028\n",
            "Generation: 690. 正答率(トレーニング) = 0.07\n",
            "                : 690. 正答率(テスト) = 0.101\n",
            "Generation: 700. 正答率(トレーニング) = 0.06\n",
            "                : 700. 正答率(テスト) = 0.1135\n",
            "Generation: 710. 正答率(トレーニング) = 0.18\n",
            "                : 710. 正答率(テスト) = 0.1135\n",
            "Generation: 720. 正答率(トレーニング) = 0.06\n",
            "                : 720. 正答率(テスト) = 0.1009\n",
            "Generation: 730. 正答率(トレーニング) = 0.12\n",
            "                : 730. 正答率(テスト) = 0.1135\n",
            "Generation: 740. 正答率(トレーニング) = 0.15\n",
            "                : 740. 正答率(テスト) = 0.1135\n",
            "Generation: 750. 正答率(トレーニング) = 0.1\n",
            "                : 750. 正答率(テスト) = 0.0982\n",
            "Generation: 760. 正答率(トレーニング) = 0.14\n",
            "                : 760. 正答率(テスト) = 0.101\n",
            "Generation: 770. 正答率(トレーニング) = 0.14\n",
            "                : 770. 正答率(テスト) = 0.101\n",
            "Generation: 780. 正答率(トレーニング) = 0.09\n",
            "                : 780. 正答率(テスト) = 0.101\n",
            "Generation: 790. 正答率(トレーニング) = 0.17\n",
            "                : 790. 正答率(テスト) = 0.1135\n",
            "Generation: 800. 正答率(トレーニング) = 0.1\n",
            "                : 800. 正答率(テスト) = 0.1135\n",
            "Generation: 810. 正答率(トレーニング) = 0.17\n",
            "                : 810. 正答率(テスト) = 0.1028\n",
            "Generation: 820. 正答率(トレーニング) = 0.19\n",
            "                : 820. 正答率(テスト) = 0.101\n",
            "Generation: 830. 正答率(トレーニング) = 0.11\n",
            "                : 830. 正答率(テスト) = 0.0958\n",
            "Generation: 840. 正答率(トレーニング) = 0.06\n",
            "                : 840. 正答率(テスト) = 0.0958\n",
            "Generation: 850. 正答率(トレーニング) = 0.09\n",
            "                : 850. 正答率(テスト) = 0.0974\n",
            "Generation: 860. 正答率(トレーニング) = 0.1\n",
            "                : 860. 正答率(テスト) = 0.1009\n",
            "Generation: 870. 正答率(トレーニング) = 0.17\n",
            "                : 870. 正答率(テスト) = 0.1135\n",
            "Generation: 880. 正答率(トレーニング) = 0.09\n",
            "                : 880. 正答率(テスト) = 0.1135\n",
            "Generation: 890. 正答率(トレーニング) = 0.14\n",
            "                : 890. 正答率(テスト) = 0.1135\n",
            "Generation: 900. 正答率(トレーニング) = 0.15\n",
            "                : 900. 正答率(テスト) = 0.0982\n",
            "Generation: 910. 正答率(トレーニング) = 0.11\n",
            "                : 910. 正答率(テスト) = 0.1135\n",
            "Generation: 920. 正答率(トレーニング) = 0.1\n",
            "                : 920. 正答率(テスト) = 0.1135\n",
            "Generation: 930. 正答率(トレーニング) = 0.09\n",
            "                : 930. 正答率(テスト) = 0.1135\n",
            "Generation: 940. 正答率(トレーニング) = 0.09\n",
            "                : 940. 正答率(テスト) = 0.098\n",
            "Generation: 950. 正答率(トレーニング) = 0.2\n",
            "                : 950. 正答率(テスト) = 0.1135\n",
            "Generation: 960. 正答率(トレーニング) = 0.12\n",
            "                : 960. 正答率(テスト) = 0.1135\n",
            "Generation: 970. 正答率(トレーニング) = 0.12\n",
            "                : 970. 正答率(テスト) = 0.1135\n",
            "Generation: 980. 正答率(トレーニング) = 0.12\n",
            "                : 980. 正答率(テスト) = 0.1135\n",
            "Generation: 990. 正答率(トレーニング) = 0.11\n",
            "                : 990. 正答率(テスト) = 0.1135\n",
            "Generation: 1000. 正答率(トレーニング) = 0.2\n",
            "                : 1000. 正答率(テスト) = 0.101\n"
          ]
        },
        {
          "output_type": "display_data",
          "data": {
            "image/png": "[encoded data removed]",
            "text/plain": [
              "<Figure size 432x288 with 1 Axes>"
            ]
          },
          "metadata": {
            "needs_background": "light"
          }
        }
      ]
    },
    {
      "cell_type": "markdown",
      "metadata": {
        "id": "VHpz32wd65qr"
      },
      "source": [
        "**try3:learning_rate = 0.005**"
      ]
    },
    {
      "cell_type": "code",
      "metadata": {
        "colab": {
          "base_uri": "https://localhost:8080/",
          "height": 1000
        },
        "id": "iX1crMDx6xOr",
        "outputId": "07caab72-aee3-4fed-f3a1-6954f0294be2"
      },
      "source": [
        "# データの読み込み\n",
        "(x_train, d_train), (x_test, d_test) = load_mnist(normalize=True, one_hot_label=True)\n",
        "\n",
        "print(\"データ読み込み完了\")\n",
        "\n",
        "# batch_normalizationの設定 ================================\n",
        "# use_batchnorm = True\n",
        "use_batchnorm = False\n",
        "# ====================================================\n",
        "\n",
        "network = MultiLayerNet(input_size=784, hidden_size_list=[40, 20], output_size=10, activation='sigmoid', weight_init_std=0.01,\n",
        "                       use_batchnorm=use_batchnorm)\n",
        "\n",
        "iters_num = 1000\n",
        "train_size = x_train.shape[0]\n",
        "batch_size = 100\n",
        "learning_rate = 0.005\n",
        "beta1 = 0.9\n",
        "beta2 = 0.999\n",
        "\n",
        "train_loss_list = []\n",
        "accuracies_train = []\n",
        "accuracies_test = []\n",
        "\n",
        "plot_interval=10\n",
        "\n",
        "for i in range(iters_num):\n",
        "    batch_mask = np.random.choice(train_size, batch_size)\n",
        "    x_batch = x_train[batch_mask]\n",
        "    d_batch = d_train[batch_mask]\n",
        "\n",
        "    # 勾配\n",
        "    grad = network.gradient(x_batch, d_batch)\n",
        "    if i == 0:\n",
        "        m = {}\n",
        "        v = {}\n",
        "    learning_rate_t  = learning_rate * np.sqrt(1.0 - beta2 ** (i + 1)) / (1.0 - beta1 ** (i + 1))    \n",
        "    for key in ('W1', 'W2', 'W3', 'b1', 'b2', 'b3'):\n",
        "        if i == 0:\n",
        "            m[key] = np.zeros_like(network.params[key])\n",
        "            v[key] = np.zeros_like(network.params[key])\n",
        "            \n",
        "        m[key] += (1 - beta1) * (grad[key] - m[key])\n",
        "        v[key] += (1 - beta2) * (grad[key] ** 2 - v[key])            \n",
        "        network.params[key] -= learning_rate_t * m[key] / (np.sqrt(v[key]) + 1e-7)                \n",
        "        \n",
        "        \n",
        "    if (i + 1) % plot_interval == 0:\n",
        "        accr_test = network.accuracy(x_test, d_test)\n",
        "        accuracies_test.append(accr_test)        \n",
        "        accr_train = network.accuracy(x_batch, d_batch)\n",
        "        accuracies_train.append(accr_train)\n",
        "        loss = network.loss(x_batch, d_batch)\n",
        "        train_loss_list.append(loss)        \n",
        "        \n",
        "        print('Generation: ' + str(i+1) + '. 正答率(トレーニング) = ' + str(accr_train))\n",
        "        print('                : ' + str(i+1) + '. 正答率(テスト) = ' + str(accr_test))\n",
        "                \n",
        "\n",
        "lists = range(0, iters_num, plot_interval)\n",
        "plt.plot(lists, accuracies_train, label=\"training set\")\n",
        "plt.plot(lists, accuracies_test,  label=\"test set\")\n",
        "plt.legend(loc=\"lower right\")\n",
        "plt.title(\"accuracy\")\n",
        "plt.xlabel(\"count\")\n",
        "plt.ylabel(\"accuracy\")\n",
        "plt.ylim(0, 1.0)\n",
        "# グラフの表示\n",
        "plt.show()"
      ],
      "execution_count": null,
      "outputs": [
        {
          "output_type": "stream",
          "name": "stdout",
          "text": [
            "データ読み込み完了\n",
            "Generation: 10. 正答率(トレーニング) = 0.1\n",
            "                : 10. 正答率(テスト) = 0.098\n",
            "Generation: 20. 正答率(トレーニング) = 0.17\n",
            "                : 20. 正答率(テスト) = 0.1011\n",
            "Generation: 30. 正答率(トレーニング) = 0.12\n",
            "                : 30. 正答率(テスト) = 0.1152\n",
            "Generation: 40. 正答率(トレーニング) = 0.17\n",
            "                : 40. 正答率(テスト) = 0.1634\n",
            "Generation: 50. 正答率(トレーニング) = 0.24\n",
            "                : 50. 正答率(テスト) = 0.2007\n",
            "Generation: 60. 正答率(トレーニング) = 0.24\n",
            "                : 60. 正答率(テスト) = 0.2093\n",
            "Generation: 70. 正答率(トレーニング) = 0.21\n",
            "                : 70. 正答率(テスト) = 0.2137\n",
            "Generation: 80. 正答率(トレーニング) = 0.15\n",
            "                : 80. 正答率(テスト) = 0.2144\n",
            "Generation: 90. 正答率(トレーニング) = 0.24\n",
            "                : 90. 正答率(テスト) = 0.2176\n",
            "Generation: 100. 正答率(トレーニング) = 0.14\n",
            "                : 100. 正答率(テスト) = 0.2143\n",
            "Generation: 110. 正答率(トレーニング) = 0.26\n",
            "                : 110. 正答率(テスト) = 0.215\n",
            "Generation: 120. 正答率(トレーニング) = 0.18\n",
            "                : 120. 正答率(テスト) = 0.2353\n",
            "Generation: 130. 正答率(トレーニング) = 0.25\n",
            "                : 130. 正答率(テスト) = 0.2447\n",
            "Generation: 140. 正答率(トレーニング) = 0.26\n",
            "                : 140. 正答率(テスト) = 0.2819\n",
            "Generation: 150. 正答率(トレーニング) = 0.38\n",
            "                : 150. 正答率(テスト) = 0.3448\n",
            "Generation: 160. 正答率(トレーニング) = 0.36\n",
            "                : 160. 正答率(テスト) = 0.3454\n",
            "Generation: 170. 正答率(トレーニング) = 0.3\n",
            "                : 170. 正答率(テスト) = 0.3414\n",
            "Generation: 180. 正答率(トレーニング) = 0.41\n",
            "                : 180. 正答率(テスト) = 0.379\n",
            "Generation: 190. 正答率(トレーニング) = 0.36\n",
            "                : 190. 正答率(テスト) = 0.3772\n",
            "Generation: 200. 正答率(トレーニング) = 0.42\n",
            "                : 200. 正答率(テスト) = 0.3563\n",
            "Generation: 210. 正答率(トレーニング) = 0.36\n",
            "                : 210. 正答率(テスト) = 0.3768\n",
            "Generation: 220. 正答率(トレーニング) = 0.35\n",
            "                : 220. 正答率(テスト) = 0.3689\n",
            "Generation: 230. 正答率(トレーニング) = 0.43\n",
            "                : 230. 正答率(テスト) = 0.4535\n",
            "Generation: 240. 正答率(トレーニング) = 0.48\n",
            "                : 240. 正答率(テスト) = 0.487\n",
            "Generation: 250. 正答率(トレーニング) = 0.52\n",
            "                : 250. 正答率(テスト) = 0.5014\n",
            "Generation: 260. 正答率(トレーニング) = 0.52\n",
            "                : 260. 正答率(テスト) = 0.5235\n",
            "Generation: 270. 正答率(トレーニング) = 0.5\n",
            "                : 270. 正答率(テスト) = 0.5719\n",
            "Generation: 280. 正答率(トレーニング) = 0.69\n",
            "                : 280. 正答率(テスト) = 0.6407\n",
            "Generation: 290. 正答率(トレーニング) = 0.64\n",
            "                : 290. 正答率(テスト) = 0.655\n",
            "Generation: 300. 正答率(トレーニング) = 0.72\n",
            "                : 300. 正答率(テスト) = 0.7002\n",
            "Generation: 310. 正答率(トレーニング) = 0.75\n",
            "                : 310. 正答率(テスト) = 0.7016\n",
            "Generation: 320. 正答率(トレーニング) = 0.74\n",
            "                : 320. 正答率(テスト) = 0.7095\n",
            "Generation: 330. 正答率(トレーニング) = 0.72\n",
            "                : 330. 正答率(テスト) = 0.7212\n",
            "Generation: 340. 正答率(トレーニング) = 0.75\n",
            "                : 340. 正答率(テスト) = 0.7703\n",
            "Generation: 350. 正答率(トレーニング) = 0.8\n",
            "                : 350. 正答率(テスト) = 0.7727\n",
            "Generation: 360. 正答率(トレーニング) = 0.79\n",
            "                : 360. 正答率(テスト) = 0.8002\n",
            "Generation: 370. 正答率(トレーニング) = 0.8\n",
            "                : 370. 正答率(テスト) = 0.8009\n",
            "Generation: 380. 正答率(トレーニング) = 0.9\n",
            "                : 380. 正答率(テスト) = 0.841\n",
            "Generation: 390. 正答率(トレーニング) = 0.85\n",
            "                : 390. 正答率(テスト) = 0.8539\n",
            "Generation: 400. 正答率(トレーニング) = 0.94\n",
            "                : 400. 正答率(テスト) = 0.866\n",
            "Generation: 410. 正答率(トレーニング) = 0.9\n",
            "                : 410. 正答率(テスト) = 0.8679\n",
            "Generation: 420. 正答率(トレーニング) = 0.95\n",
            "                : 420. 正答率(テスト) = 0.8808\n",
            "Generation: 430. 正答率(トレーニング) = 0.85\n",
            "                : 430. 正答率(テスト) = 0.8887\n",
            "Generation: 440. 正答率(トレーニング) = 0.84\n",
            "                : 440. 正答率(テスト) = 0.8964\n",
            "Generation: 450. 正答率(トレーニング) = 0.92\n",
            "                : 450. 正答率(テスト) = 0.8986\n",
            "Generation: 460. 正答率(トレーニング) = 0.89\n",
            "                : 460. 正答率(テスト) = 0.9007\n",
            "Generation: 470. 正答率(トレーニング) = 0.89\n",
            "                : 470. 正答率(テスト) = 0.9026\n",
            "Generation: 480. 正答率(トレーニング) = 0.97\n",
            "                : 480. 正答率(テスト) = 0.9007\n",
            "Generation: 490. 正答率(トレーニング) = 0.95\n",
            "                : 490. 正答率(テスト) = 0.906\n",
            "Generation: 500. 正答率(トレーニング) = 0.9\n",
            "                : 500. 正答率(テスト) = 0.9089\n",
            "Generation: 510. 正答率(トレーニング) = 0.92\n",
            "                : 510. 正答率(テスト) = 0.9067\n",
            "Generation: 520. 正答率(トレーニング) = 0.9\n",
            "                : 520. 正答率(テスト) = 0.9117\n",
            "Generation: 530. 正答率(トレーニング) = 0.9\n",
            "                : 530. 正答率(テスト) = 0.9128\n",
            "Generation: 540. 正答率(トレーニング) = 0.93\n",
            "                : 540. 正答率(テスト) = 0.9116\n",
            "Generation: 550. 正答率(トレーニング) = 0.88\n",
            "                : 550. 正答率(テスト) = 0.9101\n",
            "Generation: 560. 正答率(トレーニング) = 0.93\n",
            "                : 560. 正答率(テスト) = 0.9155\n",
            "Generation: 570. 正答率(トレーニング) = 0.95\n",
            "                : 570. 正答率(テスト) = 0.9126\n",
            "Generation: 580. 正答率(トレーニング) = 0.9\n",
            "                : 580. 正答率(テスト) = 0.9132\n",
            "Generation: 590. 正答率(トレーニング) = 0.96\n",
            "                : 590. 正答率(テスト) = 0.917\n",
            "Generation: 600. 正答率(トレーニング) = 0.88\n",
            "                : 600. 正答率(テスト) = 0.9211\n",
            "Generation: 610. 正答率(トレーニング) = 0.97\n",
            "                : 610. 正答率(テスト) = 0.9209\n",
            "Generation: 620. 正答率(トレーニング) = 0.96\n",
            "                : 620. 正答率(テスト) = 0.9201\n",
            "Generation: 630. 正答率(トレーニング) = 0.9\n",
            "                : 630. 正答率(テスト) = 0.9204\n",
            "Generation: 640. 正答率(トレーニング) = 0.98\n",
            "                : 640. 正答率(テスト) = 0.9237\n",
            "Generation: 650. 正答率(トレーニング) = 0.97\n",
            "                : 650. 正答率(テスト) = 0.9242\n",
            "Generation: 660. 正答率(トレーニング) = 0.91\n",
            "                : 660. 正答率(テスト) = 0.9266\n",
            "Generation: 670. 正答率(トレーニング) = 0.94\n",
            "                : 670. 正答率(テスト) = 0.9253\n",
            "Generation: 680. 正答率(トレーニング) = 0.96\n",
            "                : 680. 正答率(テスト) = 0.9246\n",
            "Generation: 690. 正答率(トレーニング) = 0.95\n",
            "                : 690. 正答率(テスト) = 0.9248\n",
            "Generation: 700. 正答率(トレーニング) = 0.97\n",
            "                : 700. 正答率(テスト) = 0.9264\n",
            "Generation: 710. 正答率(トレーニング) = 0.95\n",
            "                : 710. 正答率(テスト) = 0.9281\n",
            "Generation: 720. 正答率(トレーニング) = 0.94\n",
            "                : 720. 正答率(テスト) = 0.9255\n",
            "Generation: 730. 正答率(トレーニング) = 0.94\n",
            "                : 730. 正答率(テスト) = 0.9311\n",
            "Generation: 740. 正答率(トレーニング) = 0.94\n",
            "                : 740. 正答率(テスト) = 0.9316\n",
            "Generation: 750. 正答率(トレーニング) = 0.95\n",
            "                : 750. 正答率(テスト) = 0.9279\n",
            "Generation: 760. 正答率(トレーニング) = 0.91\n",
            "                : 760. 正答率(テスト) = 0.9304\n",
            "Generation: 770. 正答率(トレーニング) = 0.93\n",
            "                : 770. 正答率(テスト) = 0.9331\n",
            "Generation: 780. 正答率(トレーニング) = 0.93\n",
            "                : 780. 正答率(テスト) = 0.9324\n",
            "Generation: 790. 正答率(トレーニング) = 0.95\n",
            "                : 790. 正答率(テスト) = 0.9299\n",
            "Generation: 800. 正答率(トレーニング) = 0.93\n",
            "                : 800. 正答率(テスト) = 0.9294\n",
            "Generation: 810. 正答率(トレーニング) = 0.91\n",
            "                : 810. 正答率(テスト) = 0.9336\n",
            "Generation: 820. 正答率(トレーニング) = 0.94\n",
            "                : 820. 正答率(テスト) = 0.9323\n",
            "Generation: 830. 正答率(トレーニング) = 0.96\n",
            "                : 830. 正答率(テスト) = 0.9348\n",
            "Generation: 840. 正答率(トレーニング) = 0.92\n",
            "                : 840. 正答率(テスト) = 0.9356\n",
            "Generation: 850. 正答率(トレーニング) = 0.95\n",
            "                : 850. 正答率(テスト) = 0.9371\n",
            "Generation: 860. 正答率(トレーニング) = 0.93\n",
            "                : 860. 正答率(テスト) = 0.9372\n",
            "Generation: 870. 正答率(トレーニング) = 0.96\n",
            "                : 870. 正答率(テスト) = 0.9375\n",
            "Generation: 880. 正答率(トレーニング) = 0.99\n",
            "                : 880. 正答率(テスト) = 0.9373\n",
            "Generation: 890. 正答率(トレーニング) = 0.95\n",
            "                : 890. 正答率(テスト) = 0.9361\n",
            "Generation: 900. 正答率(トレーニング) = 0.94\n",
            "                : 900. 正答率(テスト) = 0.9343\n",
            "Generation: 910. 正答率(トレーニング) = 0.95\n",
            "                : 910. 正答率(テスト) = 0.9362\n",
            "Generation: 920. 正答率(トレーニング) = 0.97\n",
            "                : 920. 正答率(テスト) = 0.9377\n",
            "Generation: 930. 正答率(トレーニング) = 0.98\n",
            "                : 930. 正答率(テスト) = 0.9336\n",
            "Generation: 940. 正答率(トレーニング) = 0.95\n",
            "                : 940. 正答率(テスト) = 0.9381\n",
            "Generation: 950. 正答率(トレーニング) = 0.94\n",
            "                : 950. 正答率(テスト) = 0.9381\n",
            "Generation: 960. 正答率(トレーニング) = 0.97\n",
            "                : 960. 正答率(テスト) = 0.94\n",
            "Generation: 970. 正答率(トレーニング) = 0.95\n",
            "                : 970. 正答率(テスト) = 0.9389\n",
            "Generation: 980. 正答率(トレーニング) = 0.97\n",
            "                : 980. 正答率(テスト) = 0.9393\n",
            "Generation: 990. 正答率(トレーニング) = 0.96\n",
            "                : 990. 正答率(テスト) = 0.9385\n",
            "Generation: 1000. 正答率(トレーニング) = 0.96\n",
            "                : 1000. 正答率(テスト) = 0.9386\n"
          ]
        },
        {
          "output_type": "display_data",
          "data": {
            "image/png": "[encoded data removed]",
            "text/plain": [
              "<Figure size 432x288 with 1 Axes>"
            ]
          },
          "metadata": {
            "needs_background": "light"
          }
        }
      ]
    },
    {
      "cell_type": "markdown",
      "metadata": {
        "id": "7MMdi7-DoXVI"
      },
      "source": [
        "## [try] 活性化関数と重みの初期化方法を変えてみよう\n",
        "初期状態ではsigmoid - gauss<br>\n",
        "activationはReLU、weight_init_stdは別の数値や'Xavier'・'He'に変更可能"
      ]
    },
    {
      "cell_type": "markdown",
      "metadata": {
        "id": "Hf25g9am7aBK"
      },
      "source": [
        "**try1:activation='ReLU'**"
      ]
    },
    {
      "cell_type": "code",
      "metadata": {
        "colab": {
          "base_uri": "https://localhost:8080/",
          "height": 1000
        },
        "id": "mYSCQXQc7Byh",
        "outputId": "21d36573-3bab-4061-a121-043f20d3e8ff"
      },
      "source": [
        "# データの読み込み\n",
        "(x_train, d_train), (x_test, d_test) = load_mnist(normalize=True, one_hot_label=True)\n",
        "\n",
        "print(\"データ読み込み完了\")\n",
        "\n",
        "# batch_normalizationの設定 ================================\n",
        "# use_batchnorm = True\n",
        "use_batchnorm = False\n",
        "# ====================================================\n",
        "\n",
        "network = MultiLayerNet(input_size=784, hidden_size_list=[40, 20], output_size=10, activation='relu', weight_init_std=0.01,\n",
        "                       use_batchnorm=use_batchnorm)\n",
        "\n",
        "iters_num = 1000\n",
        "train_size = x_train.shape[0]\n",
        "batch_size = 100\n",
        "learning_rate = 0.01\n",
        "beta1 = 0.9\n",
        "beta2 = 0.999\n",
        "\n",
        "train_loss_list = []\n",
        "accuracies_train = []\n",
        "accuracies_test = []\n",
        "\n",
        "plot_interval=10\n",
        "\n",
        "for i in range(iters_num):\n",
        "    batch_mask = np.random.choice(train_size, batch_size)\n",
        "    x_batch = x_train[batch_mask]\n",
        "    d_batch = d_train[batch_mask]\n",
        "\n",
        "    # 勾配\n",
        "    grad = network.gradient(x_batch, d_batch)\n",
        "    if i == 0:\n",
        "        m = {}\n",
        "        v = {}\n",
        "    learning_rate_t  = learning_rate * np.sqrt(1.0 - beta2 ** (i + 1)) / (1.0 - beta1 ** (i + 1))    \n",
        "    for key in ('W1', 'W2', 'W3', 'b1', 'b2', 'b3'):\n",
        "        if i == 0:\n",
        "            m[key] = np.zeros_like(network.params[key])\n",
        "            v[key] = np.zeros_like(network.params[key])\n",
        "            \n",
        "        m[key] += (1 - beta1) * (grad[key] - m[key])\n",
        "        v[key] += (1 - beta2) * (grad[key] ** 2 - v[key])            \n",
        "        network.params[key] -= learning_rate_t * m[key] / (np.sqrt(v[key]) + 1e-7)                \n",
        "        \n",
        "        \n",
        "    if (i + 1) % plot_interval == 0:\n",
        "        accr_test = network.accuracy(x_test, d_test)\n",
        "        accuracies_test.append(accr_test)        \n",
        "        accr_train = network.accuracy(x_batch, d_batch)\n",
        "        accuracies_train.append(accr_train)\n",
        "        loss = network.loss(x_batch, d_batch)\n",
        "        train_loss_list.append(loss)        \n",
        "        \n",
        "        print('Generation: ' + str(i+1) + '. 正答率(トレーニング) = ' + str(accr_train))\n",
        "        print('                : ' + str(i+1) + '. 正答率(テスト) = ' + str(accr_test))\n",
        "                \n",
        "\n",
        "lists = range(0, iters_num, plot_interval)\n",
        "plt.plot(lists, accuracies_train, label=\"training set\")\n",
        "plt.plot(lists, accuracies_test,  label=\"test set\")\n",
        "plt.legend(loc=\"lower right\")\n",
        "plt.title(\"accuracy\")\n",
        "plt.xlabel(\"count\")\n",
        "plt.ylabel(\"accuracy\")\n",
        "plt.ylim(0, 1.0)\n",
        "# グラフの表示\n",
        "plt.show()"
      ],
      "execution_count": null,
      "outputs": [
        {
          "output_type": "stream",
          "name": "stdout",
          "text": [
            "データ読み込み完了\n",
            "Generation: 10. 正答率(トレーニング) = 0.16\n",
            "                : 10. 正答率(テスト) = 0.1364\n",
            "Generation: 20. 正答率(トレーニング) = 0.43\n",
            "                : 20. 正答率(テスト) = 0.3541\n",
            "Generation: 30. 正答率(トレーニング) = 0.48\n",
            "                : 30. 正答率(テスト) = 0.5028\n",
            "Generation: 40. 正答率(トレーニング) = 0.66\n",
            "                : 40. 正答率(テスト) = 0.6853\n",
            "Generation: 50. 正答率(トレーニング) = 0.72\n",
            "                : 50. 正答率(テスト) = 0.7441\n",
            "Generation: 60. 正答率(トレーニング) = 0.75\n",
            "                : 60. 正答率(テスト) = 0.7503\n",
            "Generation: 70. 正答率(トレーニング) = 0.79\n",
            "                : 70. 正答率(テスト) = 0.7879\n",
            "Generation: 80. 正答率(トレーニング) = 0.85\n",
            "                : 80. 正答率(テスト) = 0.8278\n",
            "Generation: 90. 正答率(トレーニング) = 0.83\n",
            "                : 90. 正答率(テスト) = 0.7965\n",
            "Generation: 100. 正答率(トレーニング) = 0.8\n",
            "                : 100. 正答率(テスト) = 0.792\n",
            "Generation: 110. 正答率(トレーニング) = 0.83\n",
            "                : 110. 正答率(テスト) = 0.85\n",
            "Generation: 120. 正答率(トレーニング) = 0.86\n",
            "                : 120. 正答率(テスト) = 0.8672\n",
            "Generation: 130. 正答率(トレーニング) = 0.87\n",
            "                : 130. 正答率(テスト) = 0.8679\n",
            "Generation: 140. 正答率(トレーニング) = 0.86\n",
            "                : 140. 正答率(テスト) = 0.8652\n",
            "Generation: 150. 正答率(トレーニング) = 0.89\n",
            "                : 150. 正答率(テスト) = 0.8663\n",
            "Generation: 160. 正答率(トレーニング) = 0.93\n",
            "                : 160. 正答率(テスト) = 0.8711\n",
            "Generation: 170. 正答率(トレーニング) = 0.85\n",
            "                : 170. 正答率(テスト) = 0.8725\n",
            "Generation: 180. 正答率(トレーニング) = 0.93\n",
            "                : 180. 正答率(テスト) = 0.8861\n",
            "Generation: 190. 正答率(トレーニング) = 0.92\n",
            "                : 190. 正答率(テスト) = 0.8898\n",
            "Generation: 200. 正答率(トレーニング) = 0.9\n",
            "                : 200. 正答率(テスト) = 0.8971\n",
            "Generation: 210. 正答率(トレーニング) = 0.94\n",
            "                : 210. 正答率(テスト) = 0.8944\n",
            "Generation: 220. 正答率(トレーニング) = 0.97\n",
            "                : 220. 正答率(テスト) = 0.896\n",
            "Generation: 230. 正答率(トレーニング) = 0.92\n",
            "                : 230. 正答率(テスト) = 0.901\n",
            "Generation: 240. 正答率(トレーニング) = 0.96\n",
            "                : 240. 正答率(テスト) = 0.896\n",
            "Generation: 250. 正答率(トレーニング) = 0.94\n",
            "                : 250. 正答率(テスト) = 0.8956\n",
            "Generation: 260. 正答率(トレーニング) = 0.91\n",
            "                : 260. 正答率(テスト) = 0.8977\n",
            "Generation: 270. 正答率(トレーニング) = 0.91\n",
            "                : 270. 正答率(テスト) = 0.8962\n",
            "Generation: 280. 正答率(トレーニング) = 0.91\n",
            "                : 280. 正答率(テスト) = 0.9022\n",
            "Generation: 290. 正答率(トレーニング) = 0.9\n",
            "                : 290. 正答率(テスト) = 0.9079\n",
            "Generation: 300. 正答率(トレーニング) = 0.87\n",
            "                : 300. 正答率(テスト) = 0.909\n",
            "Generation: 310. 正答率(トレーニング) = 0.88\n",
            "                : 310. 正答率(テスト) = 0.911\n",
            "Generation: 320. 正答率(トレーニング) = 0.94\n",
            "                : 320. 正答率(テスト) = 0.9032\n",
            "Generation: 330. 正答率(トレーニング) = 0.91\n",
            "                : 330. 正答率(テスト) = 0.9143\n",
            "Generation: 340. 正答率(トレーニング) = 0.94\n",
            "                : 340. 正答率(テスト) = 0.9165\n",
            "Generation: 350. 正答率(トレーニング) = 0.92\n",
            "                : 350. 正答率(テスト) = 0.9094\n",
            "Generation: 360. 正答率(トレーニング) = 0.86\n",
            "                : 360. 正答率(テスト) = 0.9162\n",
            "Generation: 370. 正答率(トレーニング) = 0.93\n",
            "                : 370. 正答率(テスト) = 0.9078\n",
            "Generation: 380. 正答率(トレーニング) = 0.9\n",
            "                : 380. 正答率(テスト) = 0.9116\n",
            "Generation: 390. 正答率(トレーニング) = 0.9\n",
            "                : 390. 正答率(テスト) = 0.9157\n",
            "Generation: 400. 正答率(トレーニング) = 0.95\n",
            "                : 400. 正答率(テスト) = 0.9128\n",
            "Generation: 410. 正答率(トレーニング) = 0.91\n",
            "                : 410. 正答率(テスト) = 0.9134\n",
            "Generation: 420. 正答率(トレーニング) = 0.94\n",
            "                : 420. 正答率(テスト) = 0.9208\n",
            "Generation: 430. 正答率(トレーニング) = 0.96\n",
            "                : 430. 正答率(テスト) = 0.9123\n",
            "Generation: 440. 正答率(トレーニング) = 0.9\n",
            "                : 440. 正答率(テスト) = 0.9168\n",
            "Generation: 450. 正答率(トレーニング) = 0.91\n",
            "                : 450. 正答率(テスト) = 0.9154\n",
            "Generation: 460. 正答率(トレーニング) = 0.89\n",
            "                : 460. 正答率(テスト) = 0.9256\n",
            "Generation: 470. 正答率(トレーニング) = 0.93\n",
            "                : 470. 正答率(テスト) = 0.92\n",
            "Generation: 480. 正答率(トレーニング) = 0.92\n",
            "                : 480. 正答率(テスト) = 0.9263\n",
            "Generation: 490. 正答率(トレーニング) = 0.95\n",
            "                : 490. 正答率(テスト) = 0.9246\n",
            "Generation: 500. 正答率(トレーニング) = 0.93\n",
            "                : 500. 正答率(テスト) = 0.9252\n",
            "Generation: 510. 正答率(トレーニング) = 0.95\n",
            "                : 510. 正答率(テスト) = 0.9197\n",
            "Generation: 520. 正答率(トレーニング) = 0.93\n",
            "                : 520. 正答率(テスト) = 0.9252\n",
            "Generation: 530. 正答率(トレーニング) = 0.96\n",
            "                : 530. 正答率(テスト) = 0.9264\n",
            "Generation: 540. 正答率(トレーニング) = 0.95\n",
            "                : 540. 正答率(テスト) = 0.9259\n",
            "Generation: 550. 正答率(トレーニング) = 0.91\n",
            "                : 550. 正答率(テスト) = 0.922\n",
            "Generation: 560. 正答率(トレーニング) = 0.93\n",
            "                : 560. 正答率(テスト) = 0.9276\n",
            "Generation: 570. 正答率(トレーニング) = 0.94\n",
            "                : 570. 正答率(テスト) = 0.9303\n",
            "Generation: 580. 正答率(トレーニング) = 0.95\n",
            "                : 580. 正答率(テスト) = 0.9305\n",
            "Generation: 590. 正答率(トレーニング) = 0.98\n",
            "                : 590. 正答率(テスト) = 0.9279\n",
            "Generation: 600. 正答率(トレーニング) = 0.95\n",
            "                : 600. 正答率(テスト) = 0.9202\n",
            "Generation: 610. 正答率(トレーニング) = 0.95\n",
            "                : 610. 正答率(テスト) = 0.9268\n",
            "Generation: 620. 正答率(トレーニング) = 0.91\n",
            "                : 620. 正答率(テスト) = 0.9233\n",
            "Generation: 630. 正答率(トレーニング) = 0.94\n",
            "                : 630. 正答率(テスト) = 0.929\n",
            "Generation: 640. 正答率(トレーニング) = 0.93\n",
            "                : 640. 正答率(テスト) = 0.9308\n",
            "Generation: 650. 正答率(トレーニング) = 0.95\n",
            "                : 650. 正答率(テスト) = 0.9288\n",
            "Generation: 660. 正答率(トレーニング) = 0.95\n",
            "                : 660. 正答率(テスト) = 0.9252\n",
            "Generation: 670. 正答率(トレーニング) = 0.92\n",
            "                : 670. 正答率(テスト) = 0.9329\n",
            "Generation: 680. 正答率(トレーニング) = 0.95\n",
            "                : 680. 正答率(テスト) = 0.9325\n",
            "Generation: 690. 正答率(トレーニング) = 0.92\n",
            "                : 690. 正答率(テスト) = 0.9362\n",
            "Generation: 700. 正答率(トレーニング) = 0.93\n",
            "                : 700. 正答率(テスト) = 0.9348\n",
            "Generation: 710. 正答率(トレーニング) = 0.94\n",
            "                : 710. 正答率(テスト) = 0.9276\n",
            "Generation: 720. 正答率(トレーニング) = 0.97\n",
            "                : 720. 正答率(テスト) = 0.934\n",
            "Generation: 730. 正答率(トレーニング) = 0.94\n",
            "                : 730. 正答率(テスト) = 0.9357\n",
            "Generation: 740. 正答率(トレーニング) = 0.93\n",
            "                : 740. 正答率(テスト) = 0.9371\n",
            "Generation: 750. 正答率(トレーニング) = 0.94\n",
            "                : 750. 正答率(テスト) = 0.9316\n",
            "Generation: 760. 正答率(トレーニング) = 0.91\n",
            "                : 760. 正答率(テスト) = 0.9375\n",
            "Generation: 770. 正答率(トレーニング) = 0.94\n",
            "                : 770. 正答率(テスト) = 0.9323\n",
            "Generation: 780. 正答率(トレーニング) = 0.96\n",
            "                : 780. 正答率(テスト) = 0.935\n",
            "Generation: 790. 正答率(トレーニング) = 0.95\n",
            "                : 790. 正答率(テスト) = 0.9391\n",
            "Generation: 800. 正答率(トレーニング) = 0.92\n",
            "                : 800. 正答率(テスト) = 0.9383\n",
            "Generation: 810. 正答率(トレーニング) = 0.95\n",
            "                : 810. 正答率(テスト) = 0.9396\n",
            "Generation: 820. 正答率(トレーニング) = 0.95\n",
            "                : 820. 正答率(テスト) = 0.9382\n",
            "Generation: 830. 正答率(トレーニング) = 0.95\n",
            "                : 830. 正答率(テスト) = 0.9366\n",
            "Generation: 840. 正答率(トレーニング) = 0.94\n",
            "                : 840. 正答率(テスト) = 0.9313\n",
            "Generation: 850. 正答率(トレーニング) = 0.95\n",
            "                : 850. 正答率(テスト) = 0.9352\n",
            "Generation: 860. 正答率(トレーニング) = 0.92\n",
            "                : 860. 正答率(テスト) = 0.9371\n",
            "Generation: 870. 正答率(トレーニング) = 0.98\n",
            "                : 870. 正答率(テスト) = 0.9398\n",
            "Generation: 880. 正答率(トレーニング) = 0.95\n",
            "                : 880. 正答率(テスト) = 0.9357\n",
            "Generation: 890. 正答率(トレーニング) = 0.96\n",
            "                : 890. 正答率(テスト) = 0.9406\n",
            "Generation: 900. 正答率(トレーニング) = 0.95\n",
            "                : 900. 正答率(テスト) = 0.9358\n",
            "Generation: 910. 正答率(トレーニング) = 0.96\n",
            "                : 910. 正答率(テスト) = 0.9378\n",
            "Generation: 920. 正答率(トレーニング) = 0.96\n",
            "                : 920. 正答率(テスト) = 0.9394\n",
            "Generation: 930. 正答率(トレーニング) = 0.98\n",
            "                : 930. 正答率(テスト) = 0.9343\n",
            "Generation: 940. 正答率(トレーニング) = 0.93\n",
            "                : 940. 正答率(テスト) = 0.9363\n",
            "Generation: 950. 正答率(トレーニング) = 0.96\n",
            "                : 950. 正答率(テスト) = 0.9376\n",
            "Generation: 960. 正答率(トレーニング) = 0.95\n",
            "                : 960. 正答率(テスト) = 0.9368\n",
            "Generation: 970. 正答率(トレーニング) = 0.93\n",
            "                : 970. 正答率(テスト) = 0.9384\n",
            "Generation: 980. 正答率(トレーニング) = 0.97\n",
            "                : 980. 正答率(テスト) = 0.929\n",
            "Generation: 990. 正答率(トレーニング) = 0.97\n",
            "                : 990. 正答率(テスト) = 0.942\n",
            "Generation: 1000. 正答率(トレーニング) = 0.92\n",
            "                : 1000. 正答率(テスト) = 0.9405\n"
          ]
        },
        {
          "output_type": "display_data",
          "data": {
            "image/png": "[encoded data removed]",
            "text/plain": [
              "<Figure size 432x288 with 1 Axes>"
            ]
          },
          "metadata": {
            "needs_background": "light"
          }
        }
      ]
    },
    {
      "cell_type": "markdown",
      "metadata": {
        "id": "CrSFAue88ah5"
      },
      "source": [
        "**try2: weight_init_std = xavier**"
      ]
    },
    {
      "cell_type": "code",
      "metadata": {
        "colab": {
          "base_uri": "https://localhost:8080/",
          "height": 1000
        },
        "id": "t_HIr1M1701S",
        "outputId": "fb22fead-d240-4a68-c490-9f85214c852c"
      },
      "source": [
        "# データの読み込み\n",
        "(x_train, d_train), (x_test, d_test) = load_mnist(normalize=True, one_hot_label=True)\n",
        "\n",
        "print(\"データ読み込み完了\")\n",
        "\n",
        "# batch_normalizationの設定 ================================\n",
        "# use_batchnorm = True\n",
        "use_batchnorm = False\n",
        "# ====================================================\n",
        "\n",
        "network = MultiLayerNet(input_size=784, hidden_size_list=[40, 20], output_size=10, activation='sigmoid', weight_init_std='xavier',\n",
        "                       use_batchnorm=use_batchnorm)\n",
        "\n",
        "iters_num = 1000\n",
        "train_size = x_train.shape[0]\n",
        "batch_size = 100\n",
        "learning_rate = 0.005\n",
        "beta1 = 0.9\n",
        "beta2 = 0.999\n",
        "\n",
        "train_loss_list = []\n",
        "accuracies_train = []\n",
        "accuracies_test = []\n",
        "\n",
        "plot_interval=10\n",
        "\n",
        "for i in range(iters_num):\n",
        "    batch_mask = np.random.choice(train_size, batch_size)\n",
        "    x_batch = x_train[batch_mask]\n",
        "    d_batch = d_train[batch_mask]\n",
        "\n",
        "    # 勾配\n",
        "    grad = network.gradient(x_batch, d_batch)\n",
        "    if i == 0:\n",
        "        m = {}\n",
        "        v = {}\n",
        "    learning_rate_t  = learning_rate * np.sqrt(1.0 - beta2 ** (i + 1)) / (1.0 - beta1 ** (i + 1))    \n",
        "    for key in ('W1', 'W2', 'W3', 'b1', 'b2', 'b3'):\n",
        "        if i == 0:\n",
        "            m[key] = np.zeros_like(network.params[key])\n",
        "            v[key] = np.zeros_like(network.params[key])\n",
        "            \n",
        "        m[key] += (1 - beta1) * (grad[key] - m[key])\n",
        "        v[key] += (1 - beta2) * (grad[key] ** 2 - v[key])            \n",
        "        network.params[key] -= learning_rate_t * m[key] / (np.sqrt(v[key]) + 1e-7)                \n",
        "        \n",
        "        \n",
        "    if (i + 1) % plot_interval == 0:\n",
        "        accr_test = network.accuracy(x_test, d_test)\n",
        "        accuracies_test.append(accr_test)        \n",
        "        accr_train = network.accuracy(x_batch, d_batch)\n",
        "        accuracies_train.append(accr_train)\n",
        "        loss = network.loss(x_batch, d_batch)\n",
        "        train_loss_list.append(loss)        \n",
        "        \n",
        "        print('Generation: ' + str(i+1) + '. 正答率(トレーニング) = ' + str(accr_train))\n",
        "        print('                : ' + str(i+1) + '. 正答率(テスト) = ' + str(accr_test))\n",
        "                \n",
        "\n",
        "lists = range(0, iters_num, plot_interval)\n",
        "plt.plot(lists, accuracies_train, label=\"training set\")\n",
        "plt.plot(lists, accuracies_test,  label=\"test set\")\n",
        "plt.legend(loc=\"lower right\")\n",
        "plt.title(\"accuracy\")\n",
        "plt.xlabel(\"count\")\n",
        "plt.ylabel(\"accuracy\")\n",
        "plt.ylim(0, 1.0)\n",
        "# グラフの表示\n",
        "plt.show()"
      ],
      "execution_count": null,
      "outputs": [
        {
          "output_type": "stream",
          "name": "stdout",
          "text": [
            "データ読み込み完了\n",
            "Generation: 10. 正答率(トレーニング) = 0.4\n",
            "                : 10. 正答率(テスト) = 0.3698\n",
            "Generation: 20. 正答率(トレーニング) = 0.38\n",
            "                : 20. 正答率(テスト) = 0.4053\n",
            "Generation: 30. 正答率(トレーニング) = 0.39\n",
            "                : 30. 正答率(テスト) = 0.4757\n",
            "Generation: 40. 正答率(トレーニング) = 0.6\n",
            "                : 40. 正答率(テスト) = 0.5813\n",
            "Generation: 50. 正答率(トレーニング) = 0.65\n",
            "                : 50. 正答率(テスト) = 0.6299\n",
            "Generation: 60. 正答率(トレーニング) = 0.59\n",
            "                : 60. 正答率(テスト) = 0.6485\n",
            "Generation: 70. 正答率(トレーニング) = 0.75\n",
            "                : 70. 正答率(テスト) = 0.7027\n",
            "Generation: 80. 正答率(トレーニング) = 0.78\n",
            "                : 80. 正答率(テスト) = 0.7582\n",
            "Generation: 90. 正答率(トレーニング) = 0.8\n",
            "                : 90. 正答率(テスト) = 0.789\n",
            "Generation: 100. 正答率(トレーニング) = 0.76\n",
            "                : 100. 正答率(テスト) = 0.8138\n",
            "Generation: 110. 正答率(トレーニング) = 0.79\n",
            "                : 110. 正答率(テスト) = 0.808\n",
            "Generation: 120. 正答率(トレーニング) = 0.82\n",
            "                : 120. 正答率(テスト) = 0.8395\n",
            "Generation: 130. 正答率(トレーニング) = 0.87\n",
            "                : 130. 正答率(テスト) = 0.8453\n",
            "Generation: 140. 正答率(トレーニング) = 0.89\n",
            "                : 140. 正答率(テスト) = 0.8554\n",
            "Generation: 150. 正答率(トレーニング) = 0.92\n",
            "                : 150. 正答率(テスト) = 0.87\n",
            "Generation: 160. 正答率(トレーニング) = 0.91\n",
            "                : 160. 正答率(テスト) = 0.8759\n",
            "Generation: 170. 正答率(トレーニング) = 0.91\n",
            "                : 170. 正答率(テスト) = 0.868\n",
            "Generation: 180. 正答率(トレーニング) = 0.86\n",
            "                : 180. 正答率(テスト) = 0.8834\n",
            "Generation: 190. 正答率(トレーニング) = 0.92\n",
            "                : 190. 正答率(テスト) = 0.8921\n",
            "Generation: 200. 正答率(トレーニング) = 0.87\n",
            "                : 200. 正答率(テスト) = 0.8949\n",
            "Generation: 210. 正答率(トレーニング) = 0.88\n",
            "                : 210. 正答率(テスト) = 0.887\n",
            "Generation: 220. 正答率(トレーニング) = 0.88\n",
            "                : 220. 正答率(テスト) = 0.9006\n",
            "Generation: 230. 正答率(トレーニング) = 0.93\n",
            "                : 230. 正答率(テスト) = 0.9024\n",
            "Generation: 240. 正答率(トレーニング) = 0.87\n",
            "                : 240. 正答率(テスト) = 0.9055\n",
            "Generation: 250. 正答率(トレーニング) = 0.89\n",
            "                : 250. 正答率(テスト) = 0.9015\n",
            "Generation: 260. 正答率(トレーニング) = 0.89\n",
            "                : 260. 正答率(テスト) = 0.9043\n",
            "Generation: 270. 正答率(トレーニング) = 0.85\n",
            "                : 270. 正答率(テスト) = 0.9083\n",
            "Generation: 280. 正答率(トレーニング) = 0.93\n",
            "                : 280. 正答率(テスト) = 0.9102\n",
            "Generation: 290. 正答率(トレーニング) = 0.96\n",
            "                : 290. 正答率(テスト) = 0.911\n",
            "Generation: 300. 正答率(トレーニング) = 0.92\n",
            "                : 300. 正答率(テスト) = 0.9123\n",
            "Generation: 310. 正答率(トレーニング) = 0.9\n",
            "                : 310. 正答率(テスト) = 0.9147\n",
            "Generation: 320. 正答率(トレーニング) = 0.95\n",
            "                : 320. 正答率(テスト) = 0.9157\n",
            "Generation: 330. 正答率(トレーニング) = 0.92\n",
            "                : 330. 正答率(テスト) = 0.919\n",
            "Generation: 340. 正答率(トレーニング) = 0.91\n",
            "                : 340. 正答率(テスト) = 0.9154\n",
            "Generation: 350. 正答率(トレーニング) = 0.95\n",
            "                : 350. 正答率(テスト) = 0.921\n",
            "Generation: 360. 正答率(トレーニング) = 0.92\n",
            "                : 360. 正答率(テスト) = 0.92\n",
            "Generation: 370. 正答率(トレーニング) = 0.9\n",
            "                : 370. 正答率(テスト) = 0.9223\n",
            "Generation: 380. 正答率(トレーニング) = 0.91\n",
            "                : 380. 正答率(テスト) = 0.9221\n",
            "Generation: 390. 正答率(トレーニング) = 0.93\n",
            "                : 390. 正答率(テスト) = 0.923\n",
            "Generation: 400. 正答率(トレーニング) = 0.9\n",
            "                : 400. 正答率(テスト) = 0.9215\n",
            "Generation: 410. 正答率(トレーニング) = 0.88\n",
            "                : 410. 正答率(テスト) = 0.9259\n",
            "Generation: 420. 正答率(トレーニング) = 0.89\n",
            "                : 420. 正答率(テスト) = 0.9265\n",
            "Generation: 430. 正答率(トレーニング) = 0.95\n",
            "                : 430. 正答率(テスト) = 0.9277\n",
            "Generation: 440. 正答率(トレーニング) = 0.94\n",
            "                : 440. 正答率(テスト) = 0.93\n",
            "Generation: 450. 正答率(トレーニング) = 0.94\n",
            "                : 450. 正答率(テスト) = 0.9299\n",
            "Generation: 460. 正答率(トレーニング) = 0.89\n",
            "                : 460. 正答率(テスト) = 0.9264\n",
            "Generation: 470. 正答率(トレーニング) = 0.98\n",
            "                : 470. 正答率(テスト) = 0.9298\n",
            "Generation: 480. 正答率(トレーニング) = 0.93\n",
            "                : 480. 正答率(テスト) = 0.9307\n",
            "Generation: 490. 正答率(トレーニング) = 0.9\n",
            "                : 490. 正答率(テスト) = 0.9303\n",
            "Generation: 500. 正答率(トレーニング) = 0.94\n",
            "                : 500. 正答率(テスト) = 0.9321\n",
            "Generation: 510. 正答率(トレーニング) = 0.91\n",
            "                : 510. 正答率(テスト) = 0.9302\n",
            "Generation: 520. 正答率(トレーニング) = 0.95\n",
            "                : 520. 正答率(テスト) = 0.9263\n",
            "Generation: 530. 正答率(トレーニング) = 0.94\n",
            "                : 530. 正答率(テスト) = 0.9317\n",
            "Generation: 540. 正答率(トレーニング) = 0.96\n",
            "                : 540. 正答率(テスト) = 0.9298\n",
            "Generation: 550. 正答率(トレーニング) = 0.94\n",
            "                : 550. 正答率(テスト) = 0.9343\n",
            "Generation: 560. 正答率(トレーニング) = 0.94\n",
            "                : 560. 正答率(テスト) = 0.9339\n",
            "Generation: 570. 正答率(トレーニング) = 0.96\n",
            "                : 570. 正答率(テスト) = 0.9357\n",
            "Generation: 580. 正答率(トレーニング) = 0.95\n",
            "                : 580. 正答率(テスト) = 0.9349\n",
            "Generation: 590. 正答率(トレーニング) = 0.98\n",
            "                : 590. 正答率(テスト) = 0.9345\n",
            "Generation: 600. 正答率(トレーニング) = 0.93\n",
            "                : 600. 正答率(テスト) = 0.9359\n",
            "Generation: 610. 正答率(トレーニング) = 0.94\n",
            "                : 610. 正答率(テスト) = 0.9353\n",
            "Generation: 620. 正答率(トレーニング) = 0.96\n",
            "                : 620. 正答率(テスト) = 0.937\n",
            "Generation: 630. 正答率(トレーニング) = 0.97\n",
            "                : 630. 正答率(テスト) = 0.9375\n",
            "Generation: 640. 正答率(トレーニング) = 0.96\n",
            "                : 640. 正答率(テスト) = 0.9354\n",
            "Generation: 650. 正答率(トレーニング) = 0.97\n",
            "                : 650. 正答率(テスト) = 0.9365\n",
            "Generation: 660. 正答率(トレーニング) = 0.96\n",
            "                : 660. 正答率(テスト) = 0.939\n",
            "Generation: 670. 正答率(トレーニング) = 0.92\n",
            "                : 670. 正答率(テスト) = 0.9382\n",
            "Generation: 680. 正答率(トレーニング) = 0.99\n",
            "                : 680. 正答率(テスト) = 0.9396\n",
            "Generation: 690. 正答率(トレーニング) = 0.96\n",
            "                : 690. 正答率(テスト) = 0.9374\n",
            "Generation: 700. 正答率(トレーニング) = 0.95\n",
            "                : 700. 正答率(テスト) = 0.939\n",
            "Generation: 710. 正答率(トレーニング) = 0.94\n",
            "                : 710. 正答率(テスト) = 0.9391\n",
            "Generation: 720. 正答率(トレーニング) = 0.93\n",
            "                : 720. 正答率(テスト) = 0.9372\n",
            "Generation: 730. 正答率(トレーニング) = 0.92\n",
            "                : 730. 正答率(テスト) = 0.9352\n",
            "Generation: 740. 正答率(トレーニング) = 0.98\n",
            "                : 740. 正答率(テスト) = 0.9423\n",
            "Generation: 750. 正答率(トレーニング) = 0.92\n",
            "                : 750. 正答率(テスト) = 0.9401\n",
            "Generation: 760. 正答率(トレーニング) = 0.97\n",
            "                : 760. 正答率(テスト) = 0.9413\n",
            "Generation: 770. 正答率(トレーニング) = 0.99\n",
            "                : 770. 正答率(テスト) = 0.9431\n",
            "Generation: 780. 正答率(トレーニング) = 0.98\n",
            "                : 780. 正答率(テスト) = 0.9405\n",
            "Generation: 790. 正答率(トレーニング) = 0.96\n",
            "                : 790. 正答率(テスト) = 0.9445\n",
            "Generation: 800. 正答率(トレーニング) = 0.93\n",
            "                : 800. 正答率(テスト) = 0.9435\n",
            "Generation: 810. 正答率(トレーニング) = 0.97\n",
            "                : 810. 正答率(テスト) = 0.9444\n",
            "Generation: 820. 正答率(トレーニング) = 0.97\n",
            "                : 820. 正答率(テスト) = 0.9457\n",
            "Generation: 830. 正答率(トレーニング) = 0.97\n",
            "                : 830. 正答率(テスト) = 0.9447\n",
            "Generation: 840. 正答率(トレーニング) = 0.97\n",
            "                : 840. 正答率(テスト) = 0.943\n",
            "Generation: 850. 正答率(トレーニング) = 0.99\n",
            "                : 850. 正答率(テスト) = 0.9425\n",
            "Generation: 860. 正答率(トレーニング) = 0.93\n",
            "                : 860. 正答率(テスト) = 0.9442\n",
            "Generation: 870. 正答率(トレーニング) = 0.93\n",
            "                : 870. 正答率(テスト) = 0.9461\n",
            "Generation: 880. 正答率(トレーニング) = 0.97\n",
            "                : 880. 正答率(テスト) = 0.9467\n",
            "Generation: 890. 正答率(トレーニング) = 0.95\n",
            "                : 890. 正答率(テスト) = 0.9449\n",
            "Generation: 900. 正答率(トレーニング) = 0.97\n",
            "                : 900. 正答率(テスト) = 0.945\n",
            "Generation: 910. 正答率(トレーニング) = 0.94\n",
            "                : 910. 正答率(テスト) = 0.9457\n",
            "Generation: 920. 正答率(トレーニング) = 0.94\n",
            "                : 920. 正答率(テスト) = 0.944\n",
            "Generation: 930. 正答率(トレーニング) = 0.98\n",
            "                : 930. 正答率(テスト) = 0.9457\n",
            "Generation: 940. 正答率(トレーニング) = 0.94\n",
            "                : 940. 正答率(テスト) = 0.9449\n",
            "Generation: 950. 正答率(トレーニング) = 1.0\n",
            "                : 950. 正答率(テスト) = 0.949\n",
            "Generation: 960. 正答率(トレーニング) = 0.96\n",
            "                : 960. 正答率(テスト) = 0.9462\n",
            "Generation: 970. 正答率(トレーニング) = 0.94\n",
            "                : 970. 正答率(テスト) = 0.948\n",
            "Generation: 980. 正答率(トレーニング) = 0.93\n",
            "                : 980. 正答率(テスト) = 0.9495\n",
            "Generation: 990. 正答率(トレーニング) = 0.97\n",
            "                : 990. 正答率(テスト) = 0.945\n",
            "Generation: 1000. 正答率(トレーニング) = 0.98\n",
            "                : 1000. 正答率(テスト) = 0.9461\n"
          ]
        },
        {
          "output_type": "display_data",
          "data": {
            "image/png": "[encoded data removed]",
            "text/plain": [
              "<Figure size 432x288 with 1 Axes>"
            ]
          },
          "metadata": {
            "needs_background": "light"
          }
        }
      ]
    },
    {
      "cell_type": "markdown",
      "metadata": {
        "id": "a9WKdPo49L7v"
      },
      "source": [
        "**try3: weight_init_std='he'**"
      ]
    },
    {
      "cell_type": "code",
      "metadata": {
        "colab": {
          "base_uri": "https://localhost:8080/",
          "height": 1000
        },
        "id": "7IX0_IDN9HVL",
        "outputId": "11983c39-be1a-41bc-9f75-2e59ca6887bb"
      },
      "source": [
        "# データの読み込み\n",
        "(x_train, d_train), (x_test, d_test) = load_mnist(normalize=True, one_hot_label=True)\n",
        "\n",
        "print(\"データ読み込み完了\")\n",
        "\n",
        "# batch_normalizationの設定 ================================\n",
        "# use_batchnorm = True\n",
        "use_batchnorm = False\n",
        "# ====================================================\n",
        "\n",
        "network = MultiLayerNet(input_size=784, hidden_size_list=[40, 20], output_size=10, activation='sigmoid', weight_init_std='he',\n",
        "                       use_batchnorm=use_batchnorm)\n",
        "\n",
        "iters_num = 1000\n",
        "train_size = x_train.shape[0]\n",
        "batch_size = 100\n",
        "learning_rate = 0.005\n",
        "beta1 = 0.9\n",
        "beta2 = 0.999\n",
        "\n",
        "train_loss_list = []\n",
        "accuracies_train = []\n",
        "accuracies_test = []\n",
        "\n",
        "plot_interval=10\n",
        "\n",
        "for i in range(iters_num):\n",
        "    batch_mask = np.random.choice(train_size, batch_size)\n",
        "    x_batch = x_train[batch_mask]\n",
        "    d_batch = d_train[batch_mask]\n",
        "\n",
        "    # 勾配\n",
        "    grad = network.gradient(x_batch, d_batch)\n",
        "    if i == 0:\n",
        "        m = {}\n",
        "        v = {}\n",
        "    learning_rate_t  = learning_rate * np.sqrt(1.0 - beta2 ** (i + 1)) / (1.0 - beta1 ** (i + 1))    \n",
        "    for key in ('W1', 'W2', 'W3', 'b1', 'b2', 'b3'):\n",
        "        if i == 0:\n",
        "            m[key] = np.zeros_like(network.params[key])\n",
        "            v[key] = np.zeros_like(network.params[key])\n",
        "            \n",
        "        m[key] += (1 - beta1) * (grad[key] - m[key])\n",
        "        v[key] += (1 - beta2) * (grad[key] ** 2 - v[key])            \n",
        "        network.params[key] -= learning_rate_t * m[key] / (np.sqrt(v[key]) + 1e-7)                \n",
        "        \n",
        "        \n",
        "    if (i + 1) % plot_interval == 0:\n",
        "        accr_test = network.accuracy(x_test, d_test)\n",
        "        accuracies_test.append(accr_test)        \n",
        "        accr_train = network.accuracy(x_batch, d_batch)\n",
        "        accuracies_train.append(accr_train)\n",
        "        loss = network.loss(x_batch, d_batch)\n",
        "        train_loss_list.append(loss)        \n",
        "        \n",
        "        print('Generation: ' + str(i+1) + '. 正答率(トレーニング) = ' + str(accr_train))\n",
        "        print('                : ' + str(i+1) + '. 正答率(テスト) = ' + str(accr_test))\n",
        "                \n",
        "\n",
        "lists = range(0, iters_num, plot_interval)\n",
        "plt.plot(lists, accuracies_train, label=\"training set\")\n",
        "plt.plot(lists, accuracies_test,  label=\"test set\")\n",
        "plt.legend(loc=\"lower right\")\n",
        "plt.title(\"accuracy\")\n",
        "plt.xlabel(\"count\")\n",
        "plt.ylabel(\"accuracy\")\n",
        "plt.ylim(0, 1.0)\n",
        "# グラフの表示\n",
        "plt.show()"
      ],
      "execution_count": null,
      "outputs": [
        {
          "output_type": "stream",
          "name": "stdout",
          "text": [
            "データ読み込み完了\n",
            "Generation: 10. 正答率(トレーニング) = 0.47\n",
            "                : 10. 正答率(テスト) = 0.4288\n",
            "Generation: 20. 正答率(トレーニング) = 0.58\n",
            "                : 20. 正答率(テスト) = 0.5925\n",
            "Generation: 30. 正答率(トレーニング) = 0.62\n",
            "                : 30. 正答率(テスト) = 0.615\n",
            "Generation: 40. 正答率(トレーニング) = 0.61\n",
            "                : 40. 正答率(テスト) = 0.6717\n",
            "Generation: 50. 正答率(トレーニング) = 0.73\n",
            "                : 50. 正答率(テスト) = 0.7175\n",
            "Generation: 60. 正答率(トレーニング) = 0.78\n",
            "                : 60. 正答率(テスト) = 0.7459\n",
            "Generation: 70. 正答率(トレーニング) = 0.82\n",
            "                : 70. 正答率(テスト) = 0.8028\n",
            "Generation: 80. 正答率(トレーニング) = 0.76\n",
            "                : 80. 正答率(テスト) = 0.8261\n",
            "Generation: 90. 正答率(トレーニング) = 0.85\n",
            "                : 90. 正答率(テスト) = 0.8594\n",
            "Generation: 100. 正答率(トレーニング) = 0.91\n",
            "                : 100. 正答率(テスト) = 0.8698\n",
            "Generation: 110. 正答率(トレーニング) = 0.86\n",
            "                : 110. 正答率(テスト) = 0.882\n",
            "Generation: 120. 正答率(トレーニング) = 0.89\n",
            "                : 120. 正答率(テスト) = 0.8897\n",
            "Generation: 130. 正答率(トレーニング) = 0.92\n",
            "                : 130. 正答率(テスト) = 0.8926\n",
            "Generation: 140. 正答率(トレーニング) = 0.93\n",
            "                : 140. 正答率(テスト) = 0.8986\n",
            "Generation: 150. 正答率(トレーニング) = 0.92\n",
            "                : 150. 正答率(テスト) = 0.9015\n",
            "Generation: 160. 正答率(トレーニング) = 0.91\n",
            "                : 160. 正答率(テスト) = 0.8992\n",
            "Generation: 170. 正答率(トレーニング) = 0.9\n",
            "                : 170. 正答率(テスト) = 0.905\n",
            "Generation: 180. 正答率(トレーニング) = 0.93\n",
            "                : 180. 正答率(テスト) = 0.908\n",
            "Generation: 190. 正答率(トレーニング) = 0.88\n",
            "                : 190. 正答率(テスト) = 0.9084\n",
            "Generation: 200. 正答率(トレーニング) = 0.94\n",
            "                : 200. 正答率(テスト) = 0.9076\n",
            "Generation: 210. 正答率(トレーニング) = 0.88\n",
            "                : 210. 正答率(テスト) = 0.9139\n",
            "Generation: 220. 正答率(トレーニング) = 0.92\n",
            "                : 220. 正答率(テスト) = 0.9137\n",
            "Generation: 230. 正答率(トレーニング) = 0.88\n",
            "                : 230. 正答率(テスト) = 0.9097\n",
            "Generation: 240. 正答率(トレーニング) = 0.95\n",
            "                : 240. 正答率(テスト) = 0.9127\n",
            "Generation: 250. 正答率(トレーニング) = 0.92\n",
            "                : 250. 正答率(テスト) = 0.9156\n",
            "Generation: 260. 正答率(トレーニング) = 0.92\n",
            "                : 260. 正答率(テスト) = 0.9159\n",
            "Generation: 270. 正答率(トレーニング) = 0.9\n",
            "                : 270. 正答率(テスト) = 0.9193\n",
            "Generation: 280. 正答率(トレーニング) = 0.93\n",
            "                : 280. 正答率(テスト) = 0.9211\n",
            "Generation: 290. 正答率(トレーニング) = 0.9\n",
            "                : 290. 正答率(テスト) = 0.9178\n",
            "Generation: 300. 正答率(トレーニング) = 0.92\n",
            "                : 300. 正答率(テスト) = 0.9206\n",
            "Generation: 310. 正答率(トレーニング) = 0.94\n",
            "                : 310. 正答率(テスト) = 0.9206\n",
            "Generation: 320. 正答率(トレーニング) = 0.94\n",
            "                : 320. 正答率(テスト) = 0.9238\n",
            "Generation: 330. 正答率(トレーニング) = 0.84\n",
            "                : 330. 正答率(テスト) = 0.9231\n",
            "Generation: 340. 正答率(トレーニング) = 0.94\n",
            "                : 340. 正答率(テスト) = 0.9244\n",
            "Generation: 350. 正答率(トレーニング) = 0.91\n",
            "                : 350. 正答率(テスト) = 0.9254\n",
            "Generation: 360. 正答率(トレーニング) = 0.92\n",
            "                : 360. 正答率(テスト) = 0.9272\n",
            "Generation: 370. 正答率(トレーニング) = 0.95\n",
            "                : 370. 正答率(テスト) = 0.9271\n",
            "Generation: 380. 正答率(トレーニング) = 0.89\n",
            "                : 380. 正答率(テスト) = 0.9304\n",
            "Generation: 390. 正答率(トレーニング) = 0.91\n",
            "                : 390. 正答率(テスト) = 0.9315\n",
            "Generation: 400. 正答率(トレーニング) = 0.92\n",
            "                : 400. 正答率(テスト) = 0.9289\n",
            "Generation: 410. 正答率(トレーニング) = 0.92\n",
            "                : 410. 正答率(テスト) = 0.9292\n",
            "Generation: 420. 正答率(トレーニング) = 0.93\n",
            "                : 420. 正答率(テスト) = 0.9301\n",
            "Generation: 430. 正答率(トレーニング) = 0.89\n",
            "                : 430. 正答率(テスト) = 0.9328\n",
            "Generation: 440. 正答率(トレーニング) = 0.92\n",
            "                : 440. 正答率(テスト) = 0.9301\n",
            "Generation: 450. 正答率(トレーニング) = 0.94\n",
            "                : 450. 正答率(テスト) = 0.9316\n",
            "Generation: 460. 正答率(トレーニング) = 0.93\n",
            "                : 460. 正答率(テスト) = 0.9327\n",
            "Generation: 470. 正答率(トレーニング) = 0.93\n",
            "                : 470. 正答率(テスト) = 0.9302\n",
            "Generation: 480. 正答率(トレーニング) = 1.0\n",
            "                : 480. 正答率(テスト) = 0.9318\n",
            "Generation: 490. 正答率(トレーニング) = 0.99\n",
            "                : 490. 正答率(テスト) = 0.9328\n",
            "Generation: 500. 正答率(トレーニング) = 0.95\n",
            "                : 500. 正答率(テスト) = 0.935\n",
            "Generation: 510. 正答率(トレーニング) = 0.92\n",
            "                : 510. 正答率(テスト) = 0.9345\n",
            "Generation: 520. 正答率(トレーニング) = 0.93\n",
            "                : 520. 正答率(テスト) = 0.9312\n",
            "Generation: 530. 正答率(トレーニング) = 0.93\n",
            "                : 530. 正答率(テスト) = 0.9308\n",
            "Generation: 540. 正答率(トレーニング) = 0.9\n",
            "                : 540. 正答率(テスト) = 0.9334\n",
            "Generation: 550. 正答率(トレーニング) = 0.97\n",
            "                : 550. 正答率(テスト) = 0.9353\n",
            "Generation: 560. 正答率(トレーニング) = 0.92\n",
            "                : 560. 正答率(テスト) = 0.9383\n",
            "Generation: 570. 正答率(トレーニング) = 0.93\n",
            "                : 570. 正答率(テスト) = 0.9353\n",
            "Generation: 580. 正答率(トレーニング) = 0.97\n",
            "                : 580. 正答率(テスト) = 0.935\n",
            "Generation: 590. 正答率(トレーニング) = 0.97\n",
            "                : 590. 正答率(テスト) = 0.9377\n",
            "Generation: 600. 正答率(トレーニング) = 0.93\n",
            "                : 600. 正答率(テスト) = 0.9383\n",
            "Generation: 610. 正答率(トレーニング) = 0.92\n",
            "                : 610. 正答率(テスト) = 0.9373\n",
            "Generation: 620. 正答率(トレーニング) = 0.94\n",
            "                : 620. 正答率(テスト) = 0.9376\n",
            "Generation: 630. 正答率(トレーニング) = 0.98\n",
            "                : 630. 正答率(テスト) = 0.9373\n",
            "Generation: 640. 正答率(トレーニング) = 0.97\n",
            "                : 640. 正答率(テスト) = 0.9383\n",
            "Generation: 650. 正答率(トレーニング) = 0.98\n",
            "                : 650. 正答率(テスト) = 0.9427\n",
            "Generation: 660. 正答率(トレーニング) = 0.97\n",
            "                : 660. 正答率(テスト) = 0.9439\n",
            "Generation: 670. 正答率(トレーニング) = 0.94\n",
            "                : 670. 正答率(テスト) = 0.9417\n",
            "Generation: 680. 正答率(トレーニング) = 0.95\n",
            "                : 680. 正答率(テスト) = 0.9437\n",
            "Generation: 690. 正答率(トレーニング) = 0.94\n",
            "                : 690. 正答率(テスト) = 0.9434\n",
            "Generation: 700. 正答率(トレーニング) = 0.91\n",
            "                : 700. 正答率(テスト) = 0.9419\n",
            "Generation: 710. 正答率(トレーニング) = 0.94\n",
            "                : 710. 正答率(テスト) = 0.9387\n",
            "Generation: 720. 正答率(トレーニング) = 0.93\n",
            "                : 720. 正答率(テスト) = 0.9407\n",
            "Generation: 730. 正答率(トレーニング) = 0.94\n",
            "                : 730. 正答率(テスト) = 0.9408\n",
            "Generation: 740. 正答率(トレーニング) = 0.98\n",
            "                : 740. 正答率(テスト) = 0.9425\n",
            "Generation: 750. 正答率(トレーニング) = 0.99\n",
            "                : 750. 正答率(テスト) = 0.941\n",
            "Generation: 760. 正答率(トレーニング) = 0.95\n",
            "                : 760. 正答率(テスト) = 0.9421\n",
            "Generation: 770. 正答率(トレーニング) = 0.95\n",
            "                : 770. 正答率(テスト) = 0.9442\n",
            "Generation: 780. 正答率(トレーニング) = 0.96\n",
            "                : 780. 正答率(テスト) = 0.9428\n",
            "Generation: 790. 正答率(トレーニング) = 0.96\n",
            "                : 790. 正答率(テスト) = 0.9408\n",
            "Generation: 800. 正答率(トレーニング) = 0.94\n",
            "                : 800. 正答率(テスト) = 0.9447\n",
            "Generation: 810. 正答率(トレーニング) = 0.97\n",
            "                : 810. 正答率(テスト) = 0.9416\n",
            "Generation: 820. 正答率(トレーニング) = 0.95\n",
            "                : 820. 正答率(テスト) = 0.945\n",
            "Generation: 830. 正答率(トレーニング) = 0.94\n",
            "                : 830. 正答率(テスト) = 0.9443\n",
            "Generation: 840. 正答率(トレーニング) = 0.96\n",
            "                : 840. 正答率(テスト) = 0.9441\n",
            "Generation: 850. 正答率(トレーニング) = 0.9\n",
            "                : 850. 正答率(テスト) = 0.944\n",
            "Generation: 860. 正答率(トレーニング) = 0.91\n",
            "                : 860. 正答率(テスト) = 0.9444\n",
            "Generation: 870. 正答率(トレーニング) = 0.93\n",
            "                : 870. 正答率(テスト) = 0.945\n",
            "Generation: 880. 正答率(トレーニング) = 0.96\n",
            "                : 880. 正答率(テスト) = 0.9443\n",
            "Generation: 890. 正答率(トレーニング) = 0.95\n",
            "                : 890. 正答率(テスト) = 0.9445\n",
            "Generation: 900. 正答率(トレーニング) = 0.93\n",
            "                : 900. 正答率(テスト) = 0.9458\n",
            "Generation: 910. 正答率(トレーニング) = 0.96\n",
            "                : 910. 正答率(テスト) = 0.9445\n",
            "Generation: 920. 正答率(トレーニング) = 0.93\n",
            "                : 920. 正答率(テスト) = 0.9475\n",
            "Generation: 930. 正答率(トレーニング) = 0.95\n",
            "                : 930. 正答率(テスト) = 0.9435\n",
            "Generation: 940. 正答率(トレーニング) = 0.98\n",
            "                : 940. 正答率(テスト) = 0.9477\n",
            "Generation: 950. 正答率(トレーニング) = 0.97\n",
            "                : 950. 正答率(テスト) = 0.9445\n",
            "Generation: 960. 正答率(トレーニング) = 0.98\n",
            "                : 960. 正答率(テスト) = 0.9483\n",
            "Generation: 970. 正答率(トレーニング) = 0.93\n",
            "                : 970. 正答率(テスト) = 0.9481\n",
            "Generation: 980. 正答率(トレーニング) = 0.97\n",
            "                : 980. 正答率(テスト) = 0.9487\n",
            "Generation: 990. 正答率(トレーニング) = 0.96\n",
            "                : 990. 正答率(テスト) = 0.9489\n",
            "Generation: 1000. 正答率(トレーニング) = 0.93\n",
            "                : 1000. 正答率(テスト) = 0.9476\n"
          ]
        },
        {
          "output_type": "display_data",
          "data": {
            "image/png": "[encoded data removed]",
            "text/plain": [
              "<Figure size 432x288 with 1 Axes>"
            ]
          },
          "metadata": {
            "needs_background": "light"
          }
        }
      ]
    },
    {
      "cell_type": "markdown",
      "metadata": {
        "id": "hqBzhXJDoXVI"
      },
      "source": [
        "## [try] バッチ正規化をしてみよう\n",
        "use_batchnormをTrueにしよう\n",
        "\n",
        "---------------------------------------------------------------------------------------------------------------------------------------------------------------------------------------------"
      ]
    },
    {
      "cell_type": "code",
      "metadata": {
        "colab": {
          "base_uri": "https://localhost:8080/",
          "height": 1000
        },
        "id": "68lXaPRr-CLF",
        "outputId": "1f4c2f66-2fdd-42ba-fb5f-e733a1021026"
      },
      "source": [
        "\n",
        "# データの読み込み\n",
        "(x_train, d_train), (x_test, d_test) = load_mnist(normalize=True, one_hot_label=True)\n",
        "\n",
        "print(\"データ読み込み完了\")\n",
        "\n",
        "# batch_normalizationの設定 ================================\n",
        "use_batchnorm = True\n",
        "#use_batchnorm = False\n",
        "# ====================================================\n",
        "\n",
        "network = MultiLayerNet(input_size=784, hidden_size_list=[40, 20], output_size=10, activation='sigmoid', weight_init_std=0.01,\n",
        "                       use_batchnorm=use_batchnorm)\n",
        "\n",
        "iters_num = 1000\n",
        "train_size = x_train.shape[0]\n",
        "batch_size = 100\n",
        "learning_rate = 0.01\n",
        "beta1 = 0.9\n",
        "beta2 = 0.999\n",
        "\n",
        "train_loss_list = []\n",
        "accuracies_train = []\n",
        "accuracies_test = []\n",
        "\n",
        "plot_interval=10\n",
        "\n",
        "for i in range(iters_num):\n",
        "    batch_mask = np.random.choice(train_size, batch_size)\n",
        "    x_batch = x_train[batch_mask]\n",
        "    d_batch = d_train[batch_mask]\n",
        "\n",
        "    # 勾配\n",
        "    grad = network.gradient(x_batch, d_batch)\n",
        "    if i == 0:\n",
        "        m = {}\n",
        "        v = {}\n",
        "    learning_rate_t  = learning_rate * np.sqrt(1.0 - beta2 ** (i + 1)) / (1.0 - beta1 ** (i + 1))    \n",
        "    for key in ('W1', 'W2', 'W3', 'b1', 'b2', 'b3'):\n",
        "        if i == 0:\n",
        "            m[key] = np.zeros_like(network.params[key])\n",
        "            v[key] = np.zeros_like(network.params[key])\n",
        "            \n",
        "        m[key] += (1 - beta1) * (grad[key] - m[key])\n",
        "        v[key] += (1 - beta2) * (grad[key] ** 2 - v[key])            \n",
        "        network.params[key] -= learning_rate_t * m[key] / (np.sqrt(v[key]) + 1e-7)                \n",
        "        \n",
        "        \n",
        "    if (i + 1) % plot_interval == 0:\n",
        "        accr_test = network.accuracy(x_test, d_test)\n",
        "        accuracies_test.append(accr_test)        \n",
        "        accr_train = network.accuracy(x_batch, d_batch)\n",
        "        accuracies_train.append(accr_train)\n",
        "        loss = network.loss(x_batch, d_batch)\n",
        "        train_loss_list.append(loss)        \n",
        "        \n",
        "        print('Generation: ' + str(i+1) + '. 正答率(トレーニング) = ' + str(accr_train))\n",
        "        print('                : ' + str(i+1) + '. 正答率(テスト) = ' + str(accr_test))\n",
        "                \n",
        "\n",
        "lists = range(0, iters_num, plot_interval)\n",
        "plt.plot(lists, accuracies_train, label=\"training set\")\n",
        "plt.plot(lists, accuracies_test,  label=\"test set\")\n",
        "plt.legend(loc=\"lower right\")\n",
        "plt.title(\"accuracy\")\n",
        "plt.xlabel(\"count\")\n",
        "plt.ylabel(\"accuracy\")\n",
        "plt.ylim(0, 1.0)\n",
        "# グラフの表示\n",
        "plt.show()"
      ],
      "execution_count": null,
      "outputs": [
        {
          "output_type": "stream",
          "name": "stdout",
          "text": [
            "データ読み込み完了\n",
            "Generation: 10. 正答率(トレーニング) = 0.28\n",
            "                : 10. 正答率(テスト) = 0.3134\n",
            "Generation: 20. 正答率(トレーニング) = 0.35\n",
            "                : 20. 正答率(テスト) = 0.314\n",
            "Generation: 30. 正答率(トレーニング) = 0.58\n",
            "                : 30. 正答率(テスト) = 0.5902\n",
            "Generation: 40. 正答率(トレーニング) = 0.58\n",
            "                : 40. 正答率(テスト) = 0.6218\n",
            "Generation: 50. 正答率(トレーニング) = 0.77\n",
            "                : 50. 正答率(テスト) = 0.7377\n",
            "Generation: 60. 正答率(トレーニング) = 0.76\n",
            "                : 60. 正答率(テスト) = 0.77\n",
            "Generation: 70. 正答率(トレーニング) = 0.77\n",
            "                : 70. 正答率(テスト) = 0.7905\n",
            "Generation: 80. 正答率(トレーニング) = 0.76\n",
            "                : 80. 正答率(テスト) = 0.802\n",
            "Generation: 90. 正答率(トレーニング) = 0.81\n",
            "                : 90. 正答率(テスト) = 0.8174\n",
            "Generation: 100. 正答率(トレーニング) = 0.9\n",
            "                : 100. 正答率(テスト) = 0.8519\n",
            "Generation: 110. 正答率(トレーニング) = 0.84\n",
            "                : 110. 正答率(テスト) = 0.8254\n",
            "Generation: 120. 正答率(トレーニング) = 0.79\n",
            "                : 120. 正答率(テスト) = 0.8133\n",
            "Generation: 130. 正答率(トレーニング) = 0.84\n",
            "                : 130. 正答率(テスト) = 0.8344\n",
            "Generation: 140. 正答率(トレーニング) = 0.83\n",
            "                : 140. 正答率(テスト) = 0.8441\n",
            "Generation: 150. 正答率(トレーニング) = 0.87\n",
            "                : 150. 正答率(テスト) = 0.8349\n",
            "Generation: 160. 正答率(トレーニング) = 0.86\n",
            "                : 160. 正答率(テスト) = 0.8822\n",
            "Generation: 170. 正答率(トレーニング) = 0.87\n",
            "                : 170. 正答率(テスト) = 0.851\n",
            "Generation: 180. 正答率(トレーニング) = 0.9\n",
            "                : 180. 正答率(テスト) = 0.8682\n",
            "Generation: 190. 正答率(トレーニング) = 0.93\n",
            "                : 190. 正答率(テスト) = 0.8614\n",
            "Generation: 200. 正答率(トレーニング) = 0.89\n",
            "                : 200. 正答率(テスト) = 0.873\n",
            "Generation: 210. 正答率(トレーニング) = 0.88\n",
            "                : 210. 正答率(テスト) = 0.874\n",
            "Generation: 220. 正答率(トレーニング) = 0.88\n",
            "                : 220. 正答率(テスト) = 0.8758\n",
            "Generation: 230. 正答率(トレーニング) = 0.83\n",
            "                : 230. 正答率(テスト) = 0.8875\n",
            "Generation: 240. 正答率(トレーニング) = 0.89\n",
            "                : 240. 正答率(テスト) = 0.8874\n",
            "Generation: 250. 正答率(トレーニング) = 0.91\n",
            "                : 250. 正答率(テスト) = 0.8854\n",
            "Generation: 260. 正答率(トレーニング) = 0.92\n",
            "                : 260. 正答率(テスト) = 0.8944\n",
            "Generation: 270. 正答率(トレーニング) = 0.94\n",
            "                : 270. 正答率(テスト) = 0.8939\n",
            "Generation: 280. 正答率(トレーニング) = 0.92\n",
            "                : 280. 正答率(テスト) = 0.8967\n",
            "Generation: 290. 正答率(トレーニング) = 0.91\n",
            "                : 290. 正答率(テスト) = 0.8894\n",
            "Generation: 300. 正答率(トレーニング) = 0.93\n",
            "                : 300. 正答率(テスト) = 0.8949\n",
            "Generation: 310. 正答率(トレーニング) = 0.89\n",
            "                : 310. 正答率(テスト) = 0.8873\n",
            "Generation: 320. 正答率(トレーニング) = 0.86\n",
            "                : 320. 正答率(テスト) = 0.895\n",
            "Generation: 330. 正答率(トレーニング) = 0.9\n",
            "                : 330. 正答率(テスト) = 0.8936\n",
            "Generation: 340. 正答率(トレーニング) = 0.92\n",
            "                : 340. 正答率(テスト) = 0.9006\n",
            "Generation: 350. 正答率(トレーニング) = 0.96\n",
            "                : 350. 正答率(テスト) = 0.904\n",
            "Generation: 360. 正答率(トレーニング) = 0.91\n",
            "                : 360. 正答率(テスト) = 0.9044\n",
            "Generation: 370. 正答率(トレーニング) = 0.92\n",
            "                : 370. 正答率(テスト) = 0.8976\n",
            "Generation: 380. 正答率(トレーニング) = 0.88\n",
            "                : 380. 正答率(テスト) = 0.8989\n",
            "Generation: 390. 正答率(トレーニング) = 0.91\n",
            "                : 390. 正答率(テスト) = 0.8971\n",
            "Generation: 400. 正答率(トレーニング) = 0.85\n",
            "                : 400. 正答率(テスト) = 0.8996\n",
            "Generation: 410. 正答率(トレーニング) = 0.92\n",
            "                : 410. 正答率(テスト) = 0.9021\n",
            "Generation: 420. 正答率(トレーニング) = 0.89\n",
            "                : 420. 正答率(テスト) = 0.9057\n",
            "Generation: 430. 正答率(トレーニング) = 0.94\n",
            "                : 430. 正答率(テスト) = 0.905\n",
            "Generation: 440. 正答率(トレーニング) = 0.86\n",
            "                : 440. 正答率(テスト) = 0.8967\n",
            "Generation: 450. 正答率(トレーニング) = 0.9\n",
            "                : 450. 正答率(テスト) = 0.9035\n",
            "Generation: 460. 正答率(トレーニング) = 0.9\n",
            "                : 460. 正答率(テスト) = 0.9076\n",
            "Generation: 470. 正答率(トレーニング) = 0.91\n",
            "                : 470. 正答率(テスト) = 0.8964\n",
            "Generation: 480. 正答率(トレーニング) = 0.89\n",
            "                : 480. 正答率(テスト) = 0.9035\n",
            "Generation: 490. 正答率(トレーニング) = 0.88\n",
            "                : 490. 正答率(テスト) = 0.9068\n",
            "Generation: 500. 正答率(トレーニング) = 0.9\n",
            "                : 500. 正答率(テスト) = 0.9037\n",
            "Generation: 510. 正答率(トレーニング) = 0.92\n",
            "                : 510. 正答率(テスト) = 0.9018\n",
            "Generation: 520. 正答率(トレーニング) = 0.91\n",
            "                : 520. 正答率(テスト) = 0.9066\n",
            "Generation: 530. 正答率(トレーニング) = 0.94\n",
            "                : 530. 正答率(テスト) = 0.9063\n",
            "Generation: 540. 正答率(トレーニング) = 0.91\n",
            "                : 540. 正答率(テスト) = 0.9053\n",
            "Generation: 550. 正答率(トレーニング) = 0.87\n",
            "                : 550. 正答率(テスト) = 0.9094\n",
            "Generation: 560. 正答率(トレーニング) = 0.85\n",
            "                : 560. 正答率(テスト) = 0.9092\n",
            "Generation: 570. 正答率(トレーニング) = 0.91\n",
            "                : 570. 正答率(テスト) = 0.9097\n",
            "Generation: 580. 正答率(トレーニング) = 0.89\n",
            "                : 580. 正答率(テスト) = 0.9106\n",
            "Generation: 590. 正答率(トレーニング) = 0.97\n",
            "                : 590. 正答率(テスト) = 0.9088\n",
            "Generation: 600. 正答率(トレーニング) = 0.91\n",
            "                : 600. 正答率(テスト) = 0.9102\n",
            "Generation: 610. 正答率(トレーニング) = 0.91\n",
            "                : 610. 正答率(テスト) = 0.9114\n",
            "Generation: 620. 正答率(トレーニング) = 0.87\n",
            "                : 620. 正答率(テスト) = 0.912\n",
            "Generation: 630. 正答率(トレーニング) = 0.9\n",
            "                : 630. 正答率(テスト) = 0.91\n",
            "Generation: 640. 正答率(トレーニング) = 0.87\n",
            "                : 640. 正答率(テスト) = 0.9012\n",
            "Generation: 650. 正答率(トレーニング) = 0.91\n",
            "                : 650. 正答率(テスト) = 0.9082\n",
            "Generation: 660. 正答率(トレーニング) = 0.88\n",
            "                : 660. 正答率(テスト) = 0.9056\n",
            "Generation: 670. 正答率(トレーニング) = 0.91\n",
            "                : 670. 正答率(テスト) = 0.9157\n",
            "Generation: 680. 正答率(トレーニング) = 0.92\n",
            "                : 680. 正答率(テスト) = 0.9145\n",
            "Generation: 690. 正答率(トレーニング) = 0.93\n",
            "                : 690. 正答率(テスト) = 0.9143\n",
            "Generation: 700. 正答率(トレーニング) = 0.95\n",
            "                : 700. 正答率(テスト) = 0.9179\n",
            "Generation: 710. 正答率(トレーニング) = 0.88\n",
            "                : 710. 正答率(テスト) = 0.9088\n",
            "Generation: 720. 正答率(トレーニング) = 0.92\n",
            "                : 720. 正答率(テスト) = 0.9145\n",
            "Generation: 730. 正答率(トレーニング) = 0.91\n",
            "                : 730. 正答率(テスト) = 0.9074\n",
            "Generation: 740. 正答率(トレーニング) = 0.93\n",
            "                : 740. 正答率(テスト) = 0.9126\n",
            "Generation: 750. 正答率(トレーニング) = 0.93\n",
            "                : 750. 正答率(テスト) = 0.9158\n",
            "Generation: 760. 正答率(トレーニング) = 0.91\n",
            "                : 760. 正答率(テスト) = 0.9167\n",
            "Generation: 770. 正答率(トレーニング) = 0.93\n",
            "                : 770. 正答率(テスト) = 0.9178\n",
            "Generation: 780. 正答率(トレーニング) = 0.92\n",
            "                : 780. 正答率(テスト) = 0.9126\n",
            "Generation: 790. 正答率(トレーニング) = 0.93\n",
            "                : 790. 正答率(テスト) = 0.9151\n",
            "Generation: 800. 正答率(トレーニング) = 0.9\n",
            "                : 800. 正答率(テスト) = 0.9155\n",
            "Generation: 810. 正答率(トレーニング) = 0.9\n",
            "                : 810. 正答率(テスト) = 0.9181\n",
            "Generation: 820. 正答率(トレーニング) = 0.92\n",
            "                : 820. 正答率(テスト) = 0.918\n",
            "Generation: 830. 正答率(トレーニング) = 0.96\n",
            "                : 830. 正答率(テスト) = 0.9166\n",
            "Generation: 840. 正答率(トレーニング) = 0.94\n",
            "                : 840. 正答率(テスト) = 0.917\n",
            "Generation: 850. 正答率(トレーニング) = 0.96\n",
            "                : 850. 正答率(テスト) = 0.9155\n",
            "Generation: 860. 正答率(トレーニング) = 0.9\n",
            "                : 860. 正答率(テスト) = 0.9153\n",
            "Generation: 870. 正答率(トレーニング) = 0.92\n",
            "                : 870. 正答率(テスト) = 0.9185\n",
            "Generation: 880. 正答率(トレーニング) = 0.93\n",
            "                : 880. 正答率(テスト) = 0.9173\n",
            "Generation: 890. 正答率(トレーニング) = 0.9\n",
            "                : 890. 正答率(テスト) = 0.9239\n",
            "Generation: 900. 正答率(トレーニング) = 0.93\n",
            "                : 900. 正答率(テスト) = 0.915\n",
            "Generation: 910. 正答率(トレーニング) = 0.95\n",
            "                : 910. 正答率(テスト) = 0.9187\n",
            "Generation: 920. 正答率(トレーニング) = 0.9\n",
            "                : 920. 正答率(テスト) = 0.921\n",
            "Generation: 930. 正答率(トレーニング) = 0.97\n",
            "                : 930. 正答率(テスト) = 0.9202\n",
            "Generation: 940. 正答率(トレーニング) = 0.94\n",
            "                : 940. 正答率(テスト) = 0.921\n",
            "Generation: 950. 正答率(トレーニング) = 0.91\n",
            "                : 950. 正答率(テスト) = 0.9216\n",
            "Generation: 960. 正答率(トレーニング) = 0.97\n",
            "                : 960. 正答率(テスト) = 0.9202\n",
            "Generation: 970. 正答率(トレーニング) = 0.91\n",
            "                : 970. 正答率(テスト) = 0.9205\n",
            "Generation: 980. 正答率(トレーニング) = 0.94\n",
            "                : 980. 正答率(テスト) = 0.9215\n",
            "Generation: 990. 正答率(トレーニング) = 0.94\n",
            "                : 990. 正答率(テスト) = 0.9237\n",
            "Generation: 1000. 正答率(トレーニング) = 0.97\n",
            "                : 1000. 正答率(テスト) = 0.9242\n"
          ]
        },
        {
          "output_type": "display_data",
          "data": {
            "image/png": "[encoded data removed]",
            "text/plain": [
              "<Figure size 432x288 with 1 Axes>"
            ]
          },
          "metadata": {
            "needs_background": "light"
          }
        }
      ]
    },
    {
      "cell_type": "code",
      "metadata": {
        "id": "_g0GFINN-Foh"
      },
      "source": [
        ""
      ],
      "execution_count": null,
      "outputs": []
    }
  ]
}